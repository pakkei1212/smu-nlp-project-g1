{
 "cells": [
  {
   "cell_type": "markdown",
   "id": "98b14d0f",
   "metadata": {},
   "source": [
    "# Prompt Template"
   ]
  },
  {
   "cell_type": "code",
   "execution_count": 1,
   "id": "4aaa03cd",
   "metadata": {},
   "outputs": [],
   "source": [
    "def normalize_count(value):\n",
    "    if isinstance(value, list):\n",
    "        return sum(int(v) for v in value if str(v).isdigit())\n",
    "    elif isinstance(value, (int, float)):\n",
    "        return value\n",
    "    elif value is None:\n",
    "        return 0\n",
    "    else:\n",
    "        try:\n",
    "            return int(value)\n",
    "        except:\n",
    "            return 0\n",
    "\n",
    "def clean_slot_list(values):\n",
    "    \"\"\"\n",
    "    Removes Python None and string 'None' from a list.\n",
    "    Returns [] if the result is empty or all values were 'None'.\n",
    "    \"\"\"\n",
    "    if not isinstance(values, list):\n",
    "        return values  # Leave non-lists unchanged, most likely it is None\n",
    "\n",
    "    cleaned = [v for v in values if v is not None and str(v).strip().lower() != \"none\"]\n",
    "    return cleaned if cleaned else []\n",
    "\n",
    "def generate_prompt(user_query, slots, rag_chunks=[], max_words=200, country=\"Singapore\"):\n",
    "    # Assistant persona and context intro\n",
    "    assistant_context = (\n",
    "        f\"You are a highly experienced travel expert and advisor for {country}. \"\n",
    "        \"Your task is to provide a well-structured and practical travel itinerary based on the user's needs.\"\n",
    "    )\n",
    "\n",
    "    query_parts = [f\"as a\"]\n",
    "\n",
    "    # Build query parts dynamically\n",
    "    persona = clean_slot_list(slots.get(\"persona\"))\n",
    "    if persona is None or len(persona) == 0:\n",
    "        persona = ['tourist'] # default to tourist if persona is not detected\n",
    "    if len(persona) > 0:\n",
    "        query_parts.append(' and '.join(persona))\n",
    "        \n",
    "    query_parts.append(f\", the user wants to do {slots.get('intent', 'itinerary planning')}\") #default to itinerary planning\n",
    "    \n",
    "    location = clean_slot_list(slots.get(\"location\"))\n",
    "    if location is None:\n",
    "        location = [country] # default to country if location is not detected\n",
    "    if len(location) > 0:\n",
    "        query_parts.append(f\"in {', '.join(location)}.\")\n",
    "        \n",
    "    if slots.get(\"date\"):\n",
    "        query_parts.append(f\"The travel dates are {', '.join(slots['date'])}.\")\n",
    "    \n",
    "    duration_days = clean_slot_list(slots.get(\"duration_days\"))\n",
    "    # duration = slots.get(\"duration_days\")\n",
    "    if len(duration_days) > 0:    \n",
    "    # if isinstance(duration, list):\n",
    "        query_parts.append(f\"The trip duration is {', '.join(str(d) for d in duration_days)} days.\")\n",
    "    # else:\n",
    "    #     query_parts.append(f\"The trip duration is {duration_days} days.\")\n",
    "\n",
    "    food = clean_slot_list(slots.get(\"food\"))\n",
    "    if food is not None:\n",
    "        if len(food) > 0:\n",
    "            query_parts.append(f\"The user prefers {', '.join(food)} cuisine.\")\n",
    "\n",
    "    budget = clean_slot_list(slots.get(\"budget\"))\n",
    "    if budget is not None:\n",
    "        if len(budget) > 0:\n",
    "            query_parts.append(f\"Budget is {budget}.\")\n",
    "        \n",
    "    transport = clean_slot_list(slots.get(\"transport\"))\n",
    "    if transport is not None:\n",
    "        if len(transport) > 0:\n",
    "            query_parts.append(f\"Preferred transport options include {', '.join(transport)}.\")\n",
    "\n",
    "    event = clean_slot_list(slots.get(\"event\"))\n",
    "    if event is not None:\n",
    "        if len(event) > 0:\n",
    "            query_parts.append(f\"The user is interested in events like {', '.join(event)}.\")\n",
    "\n",
    "    style = clean_slot_list(slots.get(\"style\"))\n",
    "    if style is not None:\n",
    "        if len(style) > 0:\n",
    "            query_parts.append(f\"The travel style is {', '.join(style)}.\")\n",
    "\n",
    "    num_adults = normalize_count(slots.get(\"num_adults\"))\n",
    "    num_kids = normalize_count(slots.get(\"num_kids\"))\n",
    "    family_members = []\n",
    "    if num_adults:\n",
    "        family_members.append(f\"{num_adults} adult{'s' if num_adults != 1 else ''}\")\n",
    "    if num_kids:\n",
    "        family_members.append(f\"{num_kids} kid{'s' if num_kids != 1 else ''}\")\n",
    "    if family_members:\n",
    "        query_parts.append(f\"Traveling group includes {', '.join(family_members)}.\")\n",
    "\n",
    "    special = clean_slot_list(slots.get(\"special\"))\n",
    "    if special is not None:\n",
    "        if len(special) > 0:\n",
    "            query_parts.append(f\"Special preferences include {', '.join(special)}.\")\n",
    "\n",
    "    query_template = \" \".join(query_parts)\n",
    "\n",
    "    rag_context = \"\\n\".join([f\"{i+1}. {chunk}\" for i, chunk in enumerate(rag_chunks)]) if len(rag_chunks) > 0 else \"\"\n",
    "\n",
    "    guidelines = (\n",
    "           f\"1. Keep the response concise, engaging and aligned with the user's intent and preferences.\\n\"\n",
    "            \"2. Maintain a helpful, friendly and expert tone.\\n\"\n",
    "           f\"3. The response must not exceed {max_words} words.\\n\" \n",
    "            # \"4. Avoid repeating the provided facts verbatim. Instead, rephrase the meaning naturally into the response.\\n\"\n",
    "        )\n",
    "    \n",
    "\n",
    "    # Final prompt\n",
    "    prompt = (\n",
    "        f\"{assistant_context}\\n\\n\"\n",
    "        f\"Here is the user's original request:\\n {user_query}\\n\\n\"\n",
    "        f\"Specifically, {query_template}\\n\\n\"\n",
    "    )\n",
    "\n",
    "    if len(rag_context) > 0:\n",
    "        prompt += f\"Additional factual information about {country}. Please integrate this context seamlessly into your advice:\\n{rag_context}\\n\\n\"\n",
    "\n",
    "    prompt += (\n",
    "        f\"Instructions:\\n {guidelines}\\n\\n\"\n",
    "        \"Now, please generate an itinerary with one relaxing day to rest in the middle.\"\n",
    "    )    \n",
    "\n",
    "    return prompt"
   ]
  },
  {
   "cell_type": "markdown",
   "id": "e6e99d59",
   "metadata": {},
   "source": [
    "# Test generating prompt"
   ]
  },
  {
   "cell_type": "markdown",
   "id": "e6e951d6",
   "metadata": {},
   "source": [
    "### Sample 1"
   ]
  },
  {
   "cell_type": "code",
   "execution_count": 2,
   "id": "3b834938",
   "metadata": {},
   "outputs": [
    {
     "name": "stdout",
     "output_type": "stream",
     "text": [
      "---------- Prompt Template -------------\n",
      "You are a highly experienced travel expert and advisor for Singapore. Your task is to provide a well-structured and practical travel itinerary based on the user's needs.\n",
      "\n",
      "Here is the user's original request:\n",
      " Hi, I'm planning a 7-day backpacking trip to Singapore in July 2025. I'm traveling alone and really want to explore the local culture, especially museums and art. I'm vegetarian and on a budget of about SGD 1000. Can you suggest cultural places to visit and affordable vegetarian food options?\n",
      "\n",
      "Specifically, as a Family Traveler and Foodie , the user wants to do explore culture in Singapore. The travel dates are July 2025. The trip duration is 7 days. The user prefers vegetarian cuisine. Budget is [1000]. The travel style is backpacking. Traveling group includes 1 adult.\n",
      "\n",
      "Additional factual information about Singapore. Please integrate this context seamlessly into your advice:\n",
      "1. The National Gallery hosts rotating exhibits on Southeast Asian art.\n",
      "2. Hawker centers like Lau Pa Sat offer many vegetarian local options.\n",
      "\n",
      "Instructions:\n",
      " 1. Keep the response concise, engaging and aligned with the user's intent and preferences.\n",
      "2. Maintain a helpful, friendly and expert tone.\n",
      "3. The response must not exceed 200 words.\n",
      "\n",
      "\n",
      "Now, please generate an itinerary with one relaxing day to rest in the middle.\n",
      "----------------------------------------\n"
     ]
    }
   ],
   "source": [
    "slots = {\n",
    "  \"persona\": ['Family Traveler', 'Foodie'],\n",
    "  \"intent\": \"explore culture\",\n",
    "  \"location\": [\"Singapore\"],\n",
    "  \"date\": [\"July 2025\"],\n",
    "  \"duration_days\":[7],\n",
    "  \"food\": [\"vegetarian\"],\n",
    "  \"budget\": [1000],\n",
    "  \"style\": [\"backpacking\"],\n",
    "  \"num_adults\": 1,\n",
    "  \"num_kids\": 0,\n",
    "}\n",
    "rag_chunks = [\n",
    "    \"The National Gallery hosts rotating exhibits on Southeast Asian art.\",\n",
    "    \"Hawker centers like Lau Pa Sat offer many vegetarian local options.\",\n",
    "]\n",
    "user_query = \"Hi, I'm planning a 7-day backpacking trip to Singapore in July 2025. I'm traveling alone and really want to explore the local culture, especially museums and art. I'm vegetarian and on a budget of about SGD 1000. Can you suggest cultural places to visit and affordable vegetarian food options?\"\n",
    "prompt_template = generate_prompt(user_query, slots, rag_chunks)\n",
    "print(f\"---------- Prompt Template -------------\")\n",
    "print(prompt_template)\n",
    "print(f\"----------------------------------------\")\n"
   ]
  },
  {
   "cell_type": "markdown",
   "id": "2bbed46c",
   "metadata": {},
   "source": [
    "### Sample 2"
   ]
  },
  {
   "cell_type": "code",
   "execution_count": 3,
   "id": "28963d64",
   "metadata": {},
   "outputs": [
    {
     "name": "stdout",
     "output_type": "stream",
     "text": [
      "---------- Prompt Template -------------\n",
      "You are a highly experienced travel expert and advisor for Singapore. Your task is to provide a well-structured and practical travel itinerary based on the user's needs.\n",
      "\n",
      "Here is the user's original request:\n",
      " Hi, we’re planning a relaxing 5-day family trip to Singapore this December. We’ll be spending most of our time around Sentosa. We’re a family of four, and we need halal food options. Can you suggest a fun yet laid-back itinerary that’s suitable for kids? Our budget is about SGD 1500.\n",
      "\n",
      "Specifically, as a family traveller , the user wants to do family vacation in Sentosa, Singapore. The travel dates are December 2025. The trip duration is 5 days. The user prefers halal cuisine. Budget is [1500]. The travel style is relaxing. Traveling group includes 2 adults, 2 kids.\n",
      "\n",
      "Additional factual information about Singapore. Please integrate this context seamlessly into your advice:\n",
      "1. Sentosa offers a wide range of family-friendly attractions including Universal Studios Singapore and the S.E.A. Aquarium.\n",
      "2. Many restaurants in Sentosa and VivoCity provide halal-certified options, ensuring accessible dining for Muslim families.\n",
      "3. Siloso Beach is ideal for kids with its calm waters and beachside activities.\n",
      "\n",
      "Instructions:\n",
      " 1. Keep the response concise, engaging and aligned with the user's intent and preferences.\n",
      "2. Maintain a helpful, friendly and expert tone.\n",
      "3. The response must not exceed 200 words.\n",
      "\n",
      "\n",
      "Now, please generate an itinerary with one relaxing day to rest in the middle.\n",
      "----------------------------------------\n"
     ]
    }
   ],
   "source": [
    "sample = 2\n",
    "slots = {\n",
    "  \"persona\": ['family traveller'],\n",
    "  \"intent\": \"family vacation\",\n",
    "  \"location\": [\"Sentosa\", \"Singapore\"],\n",
    "  \"date\": [\"December 2025\"],\n",
    "  \"duration_days\": [5],\n",
    "  \"food\": [\"halal\"],\n",
    "  \"budget\": [1500],\n",
    "  \"style\": [\"relaxing\"],\n",
    "  \"num_adults\": 2,\n",
    "  \"num_kids\": 2,\n",
    "}\n",
    "\n",
    "rag_chunks = [\n",
    "    \"Sentosa offers a wide range of family-friendly attractions including Universal Studios Singapore and the S.E.A. Aquarium.\",\n",
    "    \"Many restaurants in Sentosa and VivoCity provide halal-certified options, ensuring accessible dining for Muslim families.\",\n",
    "    \"Siloso Beach is ideal for kids with its calm waters and beachside activities.\"\n",
    "]\n",
    "user_query = \"Hi, we’re planning a relaxing 5-day family trip to Singapore this December. We’ll be spending most of our time around Sentosa. We’re a family of four, and we need halal food options. Can you suggest a fun yet laid-back itinerary that’s suitable for kids? Our budget is about SGD 1500.\"\n",
    "\n",
    "prompt_template = generate_prompt(user_query, slots, rag_chunks)\n",
    "print(f\"---------- Prompt Template -------------\")\n",
    "print(prompt_template)\n",
    "print(f\"----------------------------------------\")\n"
   ]
  },
  {
   "cell_type": "markdown",
   "id": "9bcb58c5",
   "metadata": {},
   "source": [
    "### Sample 3"
   ]
  },
  {
   "cell_type": "code",
   "execution_count": 59,
   "id": "0e58aa7a",
   "metadata": {},
   "outputs": [
    {
     "name": "stdout",
     "output_type": "stream",
     "text": [
      "---------- Prompt Template -------------\n",
      "You are a highly experienced travel expert and advisor for Singapore. Your task is to provide a well-structured and practical travel itinerary based on the user's needs.\n",
      "\n",
      "Here is the user's original request:\n",
      " \n",
      "I’m a solo traveler planning a 5-day backpacking trip to Singapore in March 2026. \n",
      "I need gluten-free food options.  \n",
      "I want to focus on outdoor activities and adventure.\n",
      "My budget is SGD 1500.\n",
      "Can you suggest an itinerary that fits these preferences?\n",
      "\n",
      "\n",
      "Specifically, as a tourist , the user wants to do adventure travel in Singapore. The travel dates are March 2026. The trip duration is 5 days. The user prefers gluten-free cuisine. Budget is SGD 1500. The travel style is backpacking, outdoor activities. Traveling group includes 1 adult.\n",
      "\n",
      "Instructions:\n",
      " 1. Keep the response concise, engaging and aligned with the user's intent and preferences.\n",
      "2. Maintain a helpful, friendly and expert tone.\n",
      "3. The response must not exceed 200 words.\n",
      "\n",
      "\n",
      "Now, please generate an itinerary with one relaxing day to rest in the middle.\n",
      "----------------------------------------\n"
     ]
    }
   ],
   "source": [
    "sample = 3\n",
    "slots = {\n",
    "    # \"persona\": \"nature lover\",\n",
    "    \"intent\": \"adventure travel\",\n",
    "    \"location\": [\"Singapore\"],\n",
    "    \"date\": [\"March 2026\"],\n",
    "    \"duration_days\": [5],\n",
    "    \"food\": [\"gluten-free\"],\n",
    "    \"budget\": \"SGD 1500\",\n",
    "    \"style\": [\"backpacking\", \"outdoor activities\"],\n",
    "    \"num_adults\": 1,\n",
    "    \"num_kids\": 0,\n",
    "}\n",
    "rag_chunks = []  # empty\n",
    "user_query = \"\"\"\n",
    "I’m a solo traveler planning a 5-day backpacking trip to Singapore in March 2026. \n",
    "I need gluten-free food options.  \n",
    "I want to focus on outdoor activities and adventure.\n",
    "My budget is SGD 1500.\n",
    "Can you suggest an itinerary that fits these preferences?\n",
    "\"\"\"\n",
    "prompt_template = generate_prompt(user_query, slots, rag_chunks)\n",
    "print(f\"---------- Prompt Template -------------\")\n",
    "print(prompt_template)\n",
    "print(f\"----------------------------------------\")\n"
   ]
  },
  {
   "cell_type": "markdown",
   "id": "e7d71221",
   "metadata": {},
   "source": [
    "## Sample 4"
   ]
  },
  {
   "cell_type": "code",
   "execution_count": 8,
   "id": "fcb3a000",
   "metadata": {},
   "outputs": [
    {
     "name": "stdout",
     "output_type": "stream",
     "text": [
      "Sample 4\n",
      "\n",
      "---------- Prompt Template -------------\n",
      "You are a highly experienced travel expert and advisor for Singapore. Your task is to provide a well-structured and practical travel itinerary based on the user's needs.\n",
      "\n",
      "Here is the user's original request:\n",
      " We're a family of 4 with two children aged 6 and 9 visiting Singapore for 5 days. We love interactive science exhibits, nature parks, and kid-friendly activities. Can you suggest an itinerary with one rest day in the middle? Show us relevant attractions with images.\n",
      "\n",
      "Specifically, as a Family Traveller , the user wants to do PlanItinerary in singapore. The travel dates are 2025-06-05. The trip duration is 5 days, 1 rest day days. The user is interested in events like interactive science exhibits, nature parks, kid-friendly activities. Traveling group includes 6 adults.\n",
      "\n",
      "Instructions:\n",
      " 1. Keep the response concise, engaging and aligned with the user's intent and preferences.\n",
      "2. Maintain a helpful, friendly and expert tone.\n",
      "3. The response must not exceed 200 words.\n",
      "\n",
      "\n",
      "Now, please generate an itinerary with one relaxing day to rest in the middle.\n",
      "----------------------------------------\n"
     ]
    }
   ],
   "source": [
    "sample = 4\n",
    "slots = {\n",
    "    'intent': 'PlanItinerary',\n",
    "    'persona': ['Family Traveller'],\n",
    "    'location': ['singapore'],\n",
    "    'date': ['2025-06-05'],\n",
    "    'duration_days': ['5 days', '1 rest day'],\n",
    "    'food': ['None'],\n",
    "    'budget': ['None'],\n",
    "    'transport': ['None'],\n",
    "    'event': ['interactive science exhibits','nature parks','kid-friendly activities'],\n",
    "    'style': ['None'],\n",
    "    'num_kids': [],\n",
    "    'num_adults': [\"6\"],\n",
    "    'special': ['None'],\n",
    "}\n",
    "rag_chunks = []  # empty\n",
    "user_query = \"We're a family of 4 with two children aged 6 and 9 visiting Singapore for 5 days. We love interactive science exhibits, nature parks, and kid-friendly activities. Can you suggest an itinerary with one rest day in the middle? Show us relevant attractions with images.\"\n",
    "print(f\"Sample {sample}\\n\")\n",
    "prompt_template = generate_prompt(user_query, slots, rag_chunks)\n",
    "print(f\"---------- Prompt Template -------------\")\n",
    "print(prompt_template)\n",
    "print(f\"----------------------------------------\")"
   ]
  },
  {
   "cell_type": "markdown",
   "id": "c3b8b548",
   "metadata": {},
   "source": [
    "## Sample 5"
   ]
  },
  {
   "cell_type": "code",
   "execution_count": 9,
   "id": "b2f6890a",
   "metadata": {},
   "outputs": [
    {
     "name": "stdout",
     "output_type": "stream",
     "text": [
      "Sample 4\n",
      "\n",
      "---------- Prompt Template -------------\n",
      "You are a highly experienced travel expert and advisor for Singapore. Your task is to provide a well-structured and practical travel itinerary based on the user's needs.\n",
      "\n",
      "Here is the user's original request:\n",
      " We're a family of 4 with two children aged 6 and 9 visiting Singapore for 5 days. We love interactive science exhibits, nature parks, and kid-friendly activities. Can you suggest an itinerary with one rest day in the middle? Show us relevant attractions with images.\n",
      "\n",
      "Specifically, as a Adventure Seeker and Family Traveler , the user wants to do PlanItinerary in singapore. The travel dates are next 6 days. The trip duration is 6 days days. The user is interested in events like outdoor activities, hiking trails, cycling, night safaris. The travel style is adventure. Traveling group includes 6 adults.\n",
      "\n",
      "Instructions:\n",
      " 1. Keep the response concise, engaging and aligned with the user's intent and preferences.\n",
      "2. Maintain a helpful, friendly and expert tone.\n",
      "3. The response must not exceed 200 words.\n",
      "\n",
      "\n",
      "Now, please generate an itinerary with one relaxing day to rest in the middle.\n",
      "----------------------------------------\n"
     ]
    }
   ],
   "source": [
    "slots = { \n",
    "    \"intent\": \"PlanItinerary\", \n",
    "    \"location\": [ \"singapore\" ], \n",
    "    \"date\": [ \"next 6 days\" ], \n",
    "    \"duration_days\": [ \"6 days\" ], \n",
    "    \"food\": [], \n",
    "    \"budget\": [], \n",
    "    \"transport\": [], \n",
    "    \"event\": [ \"outdoor activities\", \"hiking trails\", \"cycling\", \"night safaris\" ], \n",
    "    \"style\": [ \"adventure\" ], \n",
    "    \"num_kids\": [], \n",
    "    \"num_adults\": [ \"6\" ], \n",
    "    \"special\": [],\n",
    "      \"persona\": [ \"Adventure Seeker\", \"Family Traveler\" ] \n",
    "}\n",
    "rag_chunks = []  # empty\n",
    "user_query = \"We're a family of 4 with two children aged 6 and 9 visiting Singapore for 5 days. We love interactive science exhibits, nature parks, and kid-friendly activities. Can you suggest an itinerary with one rest day in the middle? Show us relevant attractions with images.\"\n",
    "print(f\"Sample {sample}\\n\")\n",
    "prompt_template = generate_prompt(user_query, slots, rag_chunks)\n",
    "print(f\"---------- Prompt Template -------------\")\n",
    "print(prompt_template)\n",
    "print(f\"----------------------------------------\")"
   ]
  },
  {
   "cell_type": "markdown",
   "id": "5bea3744",
   "metadata": {},
   "source": [
    "## Generate prompt"
   ]
  },
  {
   "cell_type": "code",
   "execution_count": 62,
   "id": "9e29cd65",
   "metadata": {},
   "outputs": [
    {
     "name": "stdout",
     "output_type": "stream",
     "text": [
      "Sample 4\n",
      "\n",
      "---------- Prompt Template -------------\n",
      "You are a highly experienced travel expert and advisor for Singapore. Your task is to provide a well-structured and practical travel itinerary based on the user's needs.\n",
      "\n",
      "Here is the user's original request:\n",
      " We're a family of 4 with two children aged 6 and 9 visiting Singapore for 5 days. We love interactive science exhibits, nature parks, and kid-friendly activities. Can you suggest an itinerary with one rest day in the middle? Show us relevant attractions with images.\n",
      "\n",
      "Specifically, as a tourist , the user wants to do PlanItinerary in singapore. The travel dates are 2025-06-05. The trip duration is 5 days, 1 rest day days. The user is interested in events like interactive science exhibits, nature parks, kid-friendly activities. Traveling group includes 4 adults, 2 kids.\n",
      "\n",
      "Instructions:\n",
      " 1. Keep the response concise, engaging and aligned with the user's intent and preferences.\n",
      "2. Maintain a helpful, friendly and expert tone.\n",
      "3. The response must not exceed 200 words.\n",
      "\n",
      "\n",
      "Now, please generate an itinerary with one relaxing day to rest in the middle.\n",
      "----------------------------------------\n"
     ]
    }
   ],
   "source": [
    "print(f\"Sample {sample}\\n\")\n",
    "prompt_template = generate_prompt(user_query, slots, rag_chunks)\n",
    "print(f\"---------- Prompt Template -------------\")\n",
    "print(prompt_template)\n",
    "print(f\"----------------------------------------\")\n"
   ]
  },
  {
   "cell_type": "markdown",
   "id": "5f62b02d",
   "metadata": {},
   "source": [
    "# Generate Response (travel advice)"
   ]
  },
  {
   "cell_type": "code",
   "execution_count": 180,
   "id": "45571fd7",
   "metadata": {},
   "outputs": [
    {
     "name": "stdout",
     "output_type": "stream",
     "text": [
      " Title: **5-Day Singapore Family Adventure: Science, Nature, and Fun for All Ages!**\n",
      "\n",
      "Day 1 - **Explore Marina Bay & Gardens by the Bay**:\n",
      "Start your journey at Marina Bay, home to iconic landmarks like the Merlion, Marina Bay Sands, and the Helix Bridge. Then, step into Gardens by the Bay, where you'll marvel at the Supertree Grove and explore the Cloud Forest and Flower Dome ([Image 1](https://media-cldnry.s-nbcnews.com/image/upload/newscms/2017_36/1493258/170623-gardens-by-the-bay-cloud-forest-aerial-view-nbc-tv-1680x1050.jpg)).\n",
      "\n",
      "Day 2 - **Science Centre Singapore & Kidzania**:\n",
      "Embark on a fascinating journey at the Science Centre Singapore, where interactive exhibits like the Human Body Zone and KidsSTOP will ignite curiosity ([Image 2](https://www.tourism.gov.sg/media/images/attractions/science-centre-singapore/science-centre-singapore-human-body-gallery.jpg)). In the afternoon, head to KidZania Singapore for a realistic, edutainment role-play experience ([Image 3](https://www.kidzaniasingapore.com/wp-content/uploads/2018/09/KidZania_Singapore_Main-Banner.jpg)).\n",
      "\n",
      "Day 3 - **Rest and Relaxation**:\n",
      "Spend a peaceful day recharging at your accommodation or explore local neighborhoods like Tiong Bahru, Chinatown, or Little India. Opt for a family-friendly café, park visit, or a leisurely shopping spree ([Image 4](https://www.tourism.gov.sg/media/images/neighbourhoods/little-india-singapore/little-india-sultan-mohamed-road.jpg)).\n",
      "\n",
      "Day 4 - **Jurong Bird Park & River Safari**:\n",
      "Visit Jurong Bird Park, home to over 5,000 birds in lush habitats ([Image 5](https://www.wildlifeparks.com.sg/jurong-bird-park/things-to-do/images/galleries/snowy-owls-at-penguin-coast-jurong-bird-park.jpg)). After lunch, travel to River Safari for close encounters with giant pandas and other endangered species ([Image 6](https://www.wildlifeparks.com.sg/river-safari/things-to-do/images/galleries/kai-kai-and-jia-jia-pandas-at-river-safari.jpg)).\n",
      "\n",
      "Day 5 - **Sentosa Island Fun**:\n",
      "Wrap up your adventure at Sentosa Island, featuring attractions like Universal Studios Singapore ([Image 7](https://media.travelgal.com/wp-content/uploads/2019/03/Universal-Studios-Singapore-Minion-Mayhem-1200x675.jpg)) and S.E.A. Aquarium ([Image 8](https://www.rwsentosa.com/resorts/sentosa/en/attractions/sea-aquarium/images/sea-aquarium-shark-encounter-exhibit.jpg)). Enjoy a family dinner at one of the many dining options on the island before heading home with unforgettable memories!\n"
     ]
    }
   ],
   "source": [
    "import json\n",
    "import requests\n",
    "\n",
    "def generate_response(prompt):\n",
    "    try:\n",
    "        response = requests.post(\n",
    "            \"http://localhost:11434/api/generate\",\n",
    "            json={\"model\": \"mistral\", \"prompt\": prompt},\n",
    "            stream=True,\n",
    "            timeout=30\n",
    "        )\n",
    "    except requests.RequestException as e:\n",
    "        print(\"Ollama request failed:\", e)\n",
    "        return {}\n",
    "\n",
    "    # Stream and collect response chunks\n",
    "    travel_advice = \"\"\n",
    "    for line in response.iter_lines():\n",
    "        if line:\n",
    "            try:\n",
    "                data = json.loads(line.decode(\"utf-8\"))\n",
    "                travel_advice += data.get(\"response\", \"\")\n",
    "            except json.JSONDecodeError:\n",
    "                continue  # Ignore malformed lines\n",
    "\n",
    "    return travel_advice\n",
    "\n",
    "travel_advice = generate_response(prompt_template)\n",
    "print(travel_advice)"
   ]
  },
  {
   "cell_type": "markdown",
   "id": "15f9bd5a",
   "metadata": {},
   "source": [
    "# Generate as module\n",
    "\n",
    "jupyter nbconvert --to script prompt_gen.ipynb"
   ]
  }
 ],
 "metadata": {
  "kernelspec": {
   "display_name": ".venv",
   "language": "python",
   "name": "python3"
  },
  "language_info": {
   "codemirror_mode": {
    "name": "ipython",
    "version": 3
   },
   "file_extension": ".py",
   "mimetype": "text/x-python",
   "name": "python",
   "nbconvert_exporter": "python",
   "pygments_lexer": "ipython3",
   "version": "3.10.18"
  }
 },
 "nbformat": 4,
 "nbformat_minor": 5
}
