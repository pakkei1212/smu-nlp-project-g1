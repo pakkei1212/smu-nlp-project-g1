{
 "cells": [
  {
   "cell_type": "markdown",
   "id": "dc4f3cee",
   "metadata": {},
   "source": [
    "# Personas"
   ]
  },
  {
   "cell_type": "markdown",
   "id": "efefcb85",
   "metadata": {},
   "source": [
    "1. Family Traveler – Kid-friendly attractions, safety-focused.\n",
    "1. Backpacker – Budget-focused, immersive experiences.\n",
    "1. Culture Explorer – Heritage sites, museums, local history.\n",
    "1. Shopper – Malls, street markets, retail focus.\n",
    "1. Foodie – Culinary experiences, hawker centers, local dishes.\n",
    "1. Solo Traveler – Independent, flexible, self-guided.\n",
    "1. Adventure Seeker – Thrill-based activities, outdoor sports.\n",
    "1. Relaxation Seeker – Beaches, spas, slow-paced itinerary.\n",
    "1. Luxury Seeker – High-end stays, exclusive experiences.\n",
    "1. Digital Nomad – Remote work setup, co-working, long stays.\n"
   ]
  },
  {
   "cell_type": "markdown",
   "id": "e639c868",
   "metadata": {},
   "source": [
    "# Train model"
   ]
  },
  {
   "cell_type": "markdown",
   "id": "60c40eaf",
   "metadata": {},
   "source": [
    "## Load train dataset"
   ]
  },
  {
   "cell_type": "code",
   "execution_count": 3,
   "id": "b5ceefd1",
   "metadata": {},
   "outputs": [
    {
     "name": "stdout",
     "output_type": "stream",
     "text": [
      "(6896, 2)\n",
      "                                          user_query  \\\n",
      "0  Planning to explore top shopping malls and loc...   \n",
      "1  Seeking premium experiences like rooftop bars,...   \n",
      "2  Interested in solo-friendly and safe spots to ...   \n",
      "3  Planning to explore top shopping malls and loc...   \n",
      "4  Seeking premium experiences like rooftop bars,...   \n",
      "\n",
      "                               persona  \n",
      "0              Family Traveler;Shopper  \n",
      "1      Backpacker;Foodie;Luxury Seeker  \n",
      "2                        Solo Traveler  \n",
      "3             Adventure Seeker;Shopper  \n",
      "4  Shopper;Solo Traveler;Luxury Seeker  \n",
      "Shape of label matrix: (6896, 10)\n",
      "Sample multi-hot encoded labels:\n",
      " [[0 0 0 0 1 0 0 0 1 0]\n",
      " [0 1 0 0 0 1 1 0 0 0]\n",
      " [0 0 0 0 0 0 0 0 0 1]\n",
      " [1 0 0 0 0 0 0 0 1 0]\n",
      " [0 0 0 0 0 0 1 0 1 1]]\n",
      "Multi-label classes: ['Adventure Seeker' 'Backpacker' 'Culture Explorer' 'Digital Nomad'\n",
      " 'Family Traveler' 'Foodie' 'Luxury Seeker' 'Relaxation Seeker' 'Shopper'\n",
      " 'Solo Traveler']\n"
     ]
    },
    {
     "data": {
      "text/plain": [
       "['./roberta_multilabel_persona/label_encoder.bin']"
      ]
     },
     "execution_count": 3,
     "metadata": {},
     "output_type": "execute_result"
    }
   ],
   "source": [
    "import pandas as pd\n",
    "import joblib\n",
    "\n",
    "df = pd.read_csv(\"./persona_data/final_train_dataset.csv\")\n",
    "\n",
    "print(df.shape)\n",
    "print(df.head())\n",
    "\n",
    "from sklearn.preprocessing import MultiLabelBinarizer\n",
    "\n",
    "# Split and clean multi-label string into list\n",
    "label_lists = df['persona'].astype(str).apply(lambda x: [label.strip() for label in x.split(';') if label.strip()]).tolist()\n",
    "\n",
    "# Binarize the labels\n",
    "mlb = MultiLabelBinarizer()\n",
    "label_matrix = mlb.fit_transform(label_lists)\n",
    "print(\"Shape of label matrix:\", label_matrix.shape)\n",
    "print(\"Sample multi-hot encoded labels:\\n\", label_matrix[:5])\n",
    "\n",
    "# Save the classes\n",
    "label_classes = mlb.classes_\n",
    "print(\"Multi-label classes:\", label_classes)\n",
    "# Save it after fitting\n",
    "joblib.dump(mlb, \"./roberta_multilabel_persona/label_encoder.bin\")\n"
   ]
  },
  {
   "cell_type": "markdown",
   "id": "8dfd97a9",
   "metadata": {},
   "source": [
    "## Train"
   ]
  },
  {
   "cell_type": "code",
   "execution_count": 4,
   "id": "af704a32",
   "metadata": {},
   "outputs": [],
   "source": [
    "import torch\n",
    "import torch.nn as nn\n",
    "from torch.utils.data import Dataset\n",
    "\n",
    "class PersonaDataset(Dataset):\n",
    "    def __init__(self, texts, labels, tokenizer, max_len=128):\n",
    "        self.texts = texts\n",
    "        self.labels = labels\n",
    "        self.tokenizer = tokenizer\n",
    "        self.max_len = max_len\n",
    "\n",
    "    def __len__(self):\n",
    "        return len(self.texts)\n",
    "\n",
    "    def __getitem__(self, idx):\n",
    "        encoding = self.tokenizer(\n",
    "            self.texts[idx],\n",
    "            padding=\"max_length\",\n",
    "            truncation=True,\n",
    "            max_length=self.max_len,\n",
    "            return_tensors=\"pt\"\n",
    "        )\n",
    "        item = {key: val.squeeze(0) for key, val in encoding.items()}\n",
    "        item[\"labels\"] = torch.tensor(self.labels[idx], dtype=torch.float)\n",
    "        return item\n",
    "    \n",
    "    def __getitem__(self, idx):\n",
    "        encoding = self.tokenizer(\n",
    "            self.texts[idx],\n",
    "            padding=\"max_length\",\n",
    "            truncation=True,\n",
    "            max_length=self.max_len,\n",
    "            return_tensors=\"pt\"\n",
    "        )\n",
    "        # Remove token_type_ids if present (for RoBERTa)\n",
    "        if \"token_type_ids\" in encoding:\n",
    "            del encoding[\"token_type_ids\"]\n",
    "        \n",
    "        item = {key: val.squeeze(0) for key, val in encoding.items()}\n",
    "        item[\"labels\"] = torch.tensor(self.labels[idx], dtype=torch.float)\n",
    "        return item"
   ]
  },
  {
   "cell_type": "code",
   "execution_count": 5,
   "id": "0fe6c4e1",
   "metadata": {},
   "outputs": [
    {
     "name": "stderr",
     "output_type": "stream",
     "text": [
      "/Users/dracbook/devroot/python/cs605_proj_py3_10/.venv/lib/python3.10/site-packages/tqdm/auto.py:21: TqdmWarning: IProgress not found. Please update jupyter and ipywidgets. See https://ipywidgets.readthedocs.io/en/stable/user_install.html\n",
      "  from .autonotebook import tqdm as notebook_tqdm\n",
      "Some weights of RobertaForSequenceClassification were not initialized from the model checkpoint at roberta-base and are newly initialized: ['classifier.dense.bias', 'classifier.dense.weight', 'classifier.out_proj.bias', 'classifier.out_proj.weight']\n",
      "You should probably TRAIN this model on a down-stream task to be able to use it for predictions and inference.\n"
     ]
    }
   ],
   "source": [
    "from sklearn.model_selection import train_test_split\n",
    "from transformers import RobertaTokenizerFast, RobertaConfig, RobertaForSequenceClassification\n",
    "\n",
    "params = {\n",
    "    'max_len': 128,\n",
    "    'test_size': 0.2,\n",
    "    'random_state': 42,\n",
    "    'dropout': 0.3,\n",
    "    'attention_dropout': 0.3,\n",
    "}\n",
    "\n",
    "# Tokenizer\n",
    "tokenizer = RobertaTokenizerFast.from_pretrained(\"roberta-base\")\n",
    "# Prepare data\n",
    "texts = df[\"user_query\"].tolist()\n",
    "labels = label_matrix  # shape: (n_samples, n_labels)\n",
    "\n",
    "# Train-test split\n",
    "train_texts, val_texts, train_labels, val_labels = train_test_split(texts, labels, test_size=params['test_size'], random_state=params['random_state'])\n",
    "# Dataset\n",
    "train_dataset = PersonaDataset(texts, labels, tokenizer, params['max_len'])\n",
    "val_dataset = PersonaDataset(val_texts, val_labels, tokenizer, params['max_len'])\n",
    "\n",
    "# Config and Model\n",
    "num_labels = labels.shape[1]\n",
    "config = RobertaConfig.from_pretrained(\n",
    "    \"roberta-base\",\n",
    "    num_labels=num_labels,\n",
    "    problem_type=\"multi_label_classification\",\n",
    "    hidden_dropout_prob=params['dropout'],\n",
    "    attention_probs_dropout_prob=params['attention_dropout']\n",
    ")\n",
    "model = RobertaForSequenceClassification.from_pretrained(\"roberta-base\", config=config)"
   ]
  },
  {
   "cell_type": "code",
   "execution_count": 6,
   "id": "f7cf50e7",
   "metadata": {},
   "outputs": [
    {
     "name": "stderr",
     "output_type": "stream",
     "text": [
      "/Users/dracbook/devroot/python/cs605_proj_py3_10/.venv/lib/python3.10/site-packages/torch/utils/data/dataloader.py:683: UserWarning: 'pin_memory' argument is set as true but not supported on MPS now, then device pinned memory won't be used.\n",
      "  warnings.warn(warn_msg)\n"
     ]
    },
    {
     "data": {
      "text/html": [
       "\n",
       "    <div>\n",
       "      \n",
       "      <progress value='2155' max='2155' style='width:300px; height:20px; vertical-align: middle;'></progress>\n",
       "      [2155/2155 11:17, Epoch 5/5]\n",
       "    </div>\n",
       "    <table border=\"1\" class=\"dataframe\">\n",
       "  <thead>\n",
       " <tr style=\"text-align: left;\">\n",
       "      <th>Epoch</th>\n",
       "      <th>Training Loss</th>\n",
       "      <th>Validation Loss</th>\n",
       "      <th>F1</th>\n",
       "      <th>Accuracy</th>\n",
       "      <th>Precision</th>\n",
       "      <th>Recall</th>\n",
       "    </tr>\n",
       "  </thead>\n",
       "  <tbody>\n",
       "    <tr>\n",
       "      <td>1</td>\n",
       "      <td>0.441400</td>\n",
       "      <td>0.393106</td>\n",
       "      <td>0.472988</td>\n",
       "      <td>0.140580</td>\n",
       "      <td>0.740489</td>\n",
       "      <td>0.347466</td>\n",
       "    </tr>\n",
       "    <tr>\n",
       "      <td>2</td>\n",
       "      <td>0.344300</td>\n",
       "      <td>0.310713</td>\n",
       "      <td>0.667155</td>\n",
       "      <td>0.234783</td>\n",
       "      <td>0.784238</td>\n",
       "      <td>0.580491</td>\n",
       "    </tr>\n",
       "    <tr>\n",
       "      <td>3</td>\n",
       "      <td>0.302200</td>\n",
       "      <td>0.260711</td>\n",
       "      <td>0.767694</td>\n",
       "      <td>0.385507</td>\n",
       "      <td>0.834831</td>\n",
       "      <td>0.710551</td>\n",
       "    </tr>\n",
       "    <tr>\n",
       "      <td>4</td>\n",
       "      <td>0.274700</td>\n",
       "      <td>0.242999</td>\n",
       "      <td>0.789375</td>\n",
       "      <td>0.414493</td>\n",
       "      <td>0.847222</td>\n",
       "      <td>0.738923</td>\n",
       "    </tr>\n",
       "    <tr>\n",
       "      <td>5</td>\n",
       "      <td>0.268500</td>\n",
       "      <td>0.234224</td>\n",
       "      <td>0.805970</td>\n",
       "      <td>0.451449</td>\n",
       "      <td>0.861182</td>\n",
       "      <td>0.757412</td>\n",
       "    </tr>\n",
       "  </tbody>\n",
       "</table><p>"
      ],
      "text/plain": [
       "<IPython.core.display.HTML object>"
      ]
     },
     "metadata": {},
     "output_type": "display_data"
    },
    {
     "name": "stderr",
     "output_type": "stream",
     "text": [
      "/Users/dracbook/devroot/python/cs605_proj_py3_10/.venv/lib/python3.10/site-packages/torch/utils/data/dataloader.py:683: UserWarning: 'pin_memory' argument is set as true but not supported on MPS now, then device pinned memory won't be used.\n",
      "  warnings.warn(warn_msg)\n",
      "/Users/dracbook/devroot/python/cs605_proj_py3_10/.venv/lib/python3.10/site-packages/torch/utils/data/dataloader.py:683: UserWarning: 'pin_memory' argument is set as true but not supported on MPS now, then device pinned memory won't be used.\n",
      "  warnings.warn(warn_msg)\n",
      "/Users/dracbook/devroot/python/cs605_proj_py3_10/.venv/lib/python3.10/site-packages/torch/utils/data/dataloader.py:683: UserWarning: 'pin_memory' argument is set as true but not supported on MPS now, then device pinned memory won't be used.\n",
      "  warnings.warn(warn_msg)\n",
      "/Users/dracbook/devroot/python/cs605_proj_py3_10/.venv/lib/python3.10/site-packages/torch/utils/data/dataloader.py:683: UserWarning: 'pin_memory' argument is set as true but not supported on MPS now, then device pinned memory won't be used.\n",
      "  warnings.warn(warn_msg)\n"
     ]
    },
    {
     "data": {
      "text/plain": [
       "TrainOutput(global_step=2155, training_loss=0.34662053994402253, metrics={'train_runtime': 679.0963, 'train_samples_per_second': 50.773, 'train_steps_per_second': 3.173, 'total_flos': 2268180206100480.0, 'train_loss': 0.34662053994402253, 'epoch': 5.0})"
      ]
     },
     "execution_count": 6,
     "metadata": {},
     "output_type": "execute_result"
    }
   ],
   "source": [
    "from transformers import TrainingArguments, Trainer\n",
    "import numpy as np\n",
    "from sklearn.metrics import f1_score, accuracy_score, precision_score, recall_score\n",
    "\n",
    "training_args = TrainingArguments(\n",
    "    output_dir=\"./roberta_multilabel_persona\",\n",
    "    per_device_train_batch_size=16,\n",
    "    per_device_eval_batch_size=16,\n",
    "    num_train_epochs=5,\n",
    "    learning_rate=1e-5,\n",
    "    weight_decay=1e-5,        \n",
    "    eval_strategy=\"epoch\",\n",
    "    save_strategy=\"epoch\",\n",
    "    logging_dir=\"./logs\",\n",
    "    logging_steps=50,\n",
    "    save_total_limit=1,\n",
    "    load_best_model_at_end=True,\n",
    "    metric_for_best_model=\"f1\"\n",
    ")\n",
    "\n",
    "def compute_metrics(pred):\n",
    "    logits, labels = pred\n",
    "    probs = torch.sigmoid(torch.tensor(logits)).numpy()  # apply sigmoid\n",
    "    preds = (probs > 0.5).astype(int)  # multi-label threshold\n",
    "    return {\n",
    "        'f1': f1_score(labels, preds, average='micro'),\n",
    "        'accuracy': accuracy_score(labels, preds),\n",
    "        'precision': precision_score(labels, preds, average='micro'),\n",
    "        'recall': recall_score(labels, preds, average='micro')\n",
    "    }\n",
    "\n",
    "trainer = Trainer(\n",
    "    model=model,\n",
    "    args=training_args,\n",
    "    train_dataset=train_dataset,\n",
    "    eval_dataset=val_dataset,\n",
    "    compute_metrics=compute_metrics,\n",
    ")\n",
    "trainer.train()"
   ]
  },
  {
   "cell_type": "markdown",
   "id": "01f0595d",
   "metadata": {},
   "source": [
    "# Inference"
   ]
  },
  {
   "cell_type": "code",
   "execution_count": 7,
   "id": "e3d66841",
   "metadata": {},
   "outputs": [
    {
     "name": "stdout",
     "output_type": "stream",
     "text": [
      "['Adventure Seeker' 'Family Traveler']\n",
      "['Adventure Seeker' 'Family Traveler']\n",
      "['Solo Traveler']\n",
      "['Foodie']\n",
      "['Luxury Seeker' 'Relaxation Seeker']\n",
      "['Backpacker' 'Solo Traveler']\n",
      "['Family Traveler']\n"
     ]
    }
   ],
   "source": [
    "from transformers import AutoTokenizer, AutoModelForSequenceClassification\n",
    "import torch\n",
    "import joblib\n",
    "\n",
    "# Load the tokenizer exactly the same as training\n",
    "tokenizer = RobertaTokenizerFast.from_pretrained(\"roberta-base\")\n",
    "model = AutoModelForSequenceClassification.from_pretrained(\"./roberta_multilabel_persona/checkpoint-2155\")\n",
    "label_encoder = joblib.load(\"./roberta_multilabel_persona/label_encoder.bin\")  # This is a MultiLabelBinarizer\n",
    "\n",
    "model.eval()\n",
    "\n",
    "def predict_personas(text, threshold=0.5):\n",
    "    inputs = tokenizer(text, return_tensors=\"pt\", truncation=True, padding=True)\n",
    "    with torch.no_grad():\n",
    "        outputs = model(**inputs)\n",
    "    logits = outputs.logits\n",
    "    probs = torch.sigmoid(logits).squeeze().numpy()  # Convert logits to probabilities\n",
    "\n",
    "    # Predict all classes above the threshold\n",
    "    predicted_labels = np.where(probs >= threshold)[0]\n",
    "    return label_encoder.classes_[predicted_labels]\n",
    "\n",
    "\n",
    "# Test\n",
    "user_queries = [\n",
    "    \"We're 6 young adults (25-30) staying in Singapore for 6 days. We love outdoor activities, hiking trails, cycling, and unique experiences like night safaris. Include one rest day and show us images of adventure activities available.\",\n",
    "    \"A family with a child in a wheelchair, maximize sightseeing in 3 days in Singapore\",\n",
    "    \"We're tech conference attendees, maximize sightseeing in 3 days in Singapore with MRT travel\",\n",
    "    \"We're foodies, find adventurous activities in Singapore (in mid-August)\",\n",
    "    \"We want a wellness retreat, attend an art festival in Singapore for 3 days only daytime activities\",\n",
    "    \"I'm a solo traveler, experience something unique in Singapore (from July 1 to July 5) avoiding crowded places\",\n",
    "    \"A couple planning a honeymoon, experience something unique in Singapore (sometime in March) for a weekend including vegan options\",\n",
    "]\n",
    "for query in user_queries:\n",
    "    personas = predict_personas(query)\n",
    "    print(personas)"
   ]
  }
 ],
 "metadata": {
  "kernelspec": {
   "display_name": ".venv",
   "language": "python",
   "name": "python3"
  },
  "language_info": {
   "codemirror_mode": {
    "name": "ipython",
    "version": 3
   },
   "file_extension": ".py",
   "mimetype": "text/x-python",
   "name": "python",
   "nbconvert_exporter": "python",
   "pygments_lexer": "ipython3",
   "version": "3.10.18"
  }
 },
 "nbformat": 4,
 "nbformat_minor": 5
}
