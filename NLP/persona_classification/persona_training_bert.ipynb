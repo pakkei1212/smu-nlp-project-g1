{
 "cells": [
  {
   "cell_type": "markdown",
   "id": "dc4f3cee",
   "metadata": {},
   "source": [
    "# Personas"
   ]
  },
  {
   "cell_type": "markdown",
   "id": "efefcb85",
   "metadata": {},
   "source": [
    "1. Family Traveler – Kid-friendly attractions, safety-focused.\n",
    "1. Backpacker – Budget-focused, immersive experiences.\n",
    "1. Culture Explorer – Heritage sites, museums, local history.\n",
    "1. Shopper – Malls, street markets, retail focus.\n",
    "1. Foodie – Culinary experiences, hawker centers, local dishes.\n",
    "1. Solo Traveler – Independent, flexible, self-guided.\n",
    "1. Adventure Seeker – Thrill-based activities, outdoor sports.\n",
    "1. Relaxation Seeker – Beaches, spas, slow-paced itinerary.\n",
    "1. Luxury Seeker – High-end stays, exclusive experiences.\n",
    "1. Digital Nomad – Remote work setup, co-working, long stays.\n"
   ]
  },
  {
   "cell_type": "markdown",
   "id": "20c88b05",
   "metadata": {},
   "source": [
    "# Datasets"
   ]
  },
  {
   "cell_type": "markdown",
   "id": "99e76086",
   "metadata": {},
   "source": [
    "## Load and Normalize Seed Data"
   ]
  },
  {
   "cell_type": "code",
   "execution_count": 52,
   "id": "9ec256c3",
   "metadata": {},
   "outputs": [
    {
     "name": "stdout",
     "output_type": "stream",
     "text": [
      "        persona                                         user_query\n",
      "0  [Backpacker]  I'm a student backpacker on a very tight budge...\n",
      "1  [Backpacker]  As a budget traveler, what are the best free w...\n",
      "2  [Backpacker]  My priority is to save money on food. Can you ...\n",
      "3  [Backpacker]  I travel light with just a backpack. Where can...\n",
      "4  [Backpacker]  I'm looking for tips on hitchhiking or afforda...\n",
      "                                               persona  \\\n",
      "183         [Luxury Seeker, Backpacker, Digital Nomad]   \n",
      "184  [Luxury Seeker, Relaxation Seeker, Family Trav...   \n",
      "185                 [Solo Traveler, Relaxation Seeker]   \n",
      "186                   [Family Traveler, Digital Nomad]   \n",
      "187                         [Adventure Seeker, Foodie]   \n",
      "\n",
      "                                            user_query  \n",
      "183  I'm looking for upscale experiences or five-st...  \n",
      "184  I'm looking for upscale experiences or five-st...  \n",
      "185  I'm hoping to unwind in peaceful, quiet places...  \n",
      "186  I'm in need of quiet cafes with Wi-Fi to work ...  \n",
      "187  I'm keen to discover local hawker food and hid...  \n"
     ]
    }
   ],
   "source": [
    "import pandas as pd\n",
    "\n",
    "df_seed = pd.read_csv(\"./persona_data/persona_seeds.csv\")\n",
    "# duplicate_queries_boolean = df.duplicated(subset=['user_query'])\n",
    "# # print(duplicate_queries_boolean.head())\n",
    "# num_duplicate_queries = df.duplicated(subset=['user_query']).sum()\n",
    "# print(f\"\\nNumber of duplicate user_queries: {num_duplicate_queries}\")\n",
    "# print(f\"\\ndf shape: {df.shape}\")\n",
    "\n",
    "# Ensure persona is always treated as a list\n",
    "df_seed['persona'] = df_seed['persona'].apply(lambda x: x.split(';') if isinstance(x, str) else [])\n",
    "print(df_seed.head())\n",
    "print(df_seed.tail())"
   ]
  },
  {
   "cell_type": "markdown",
   "id": "3b76e791",
   "metadata": {},
   "source": [
    "## Generate Seed Embeddings"
   ]
  },
  {
   "cell_type": "code",
   "execution_count": 54,
   "id": "ba6729c4",
   "metadata": {},
   "outputs": [
    {
     "name": "stdout",
     "output_type": "stream",
     "text": [
      "0      [0.0016342936, -0.052199643, -0.012730876, 0.0...\n",
      "1      [-0.082870774, 0.049224664, 0.01095861, 0.0258...\n",
      "2      [-0.02640347, 0.010736059, 0.016417222, -0.018...\n",
      "3      [-0.024907874, 0.0013529228, -0.014126667, -0....\n",
      "4      [0.023160018, -0.026743403, 0.039732616, -0.05...\n",
      "                             ...                        \n",
      "183    [-0.017193792, 0.020671131, -0.012779137, 0.01...\n",
      "184    [-0.03490231, 0.0182993, -0.02636526, 0.060265...\n",
      "185    [-0.05026815, 0.036296103, -0.020297699, -0.01...\n",
      "186    [-0.060648777, -0.019467078, -0.006435667, -0....\n",
      "187    [0.01579509, 0.04695996, -0.033329744, -0.0242...\n",
      "Name: embedding, Length: 188, dtype: object\n"
     ]
    }
   ],
   "source": [
    "from sentence_transformers import SentenceTransformer\n",
    "\n",
    "# model = SentenceTransformer(\"all-MiniLM-L6-v2\")\n",
    "# df_seed['embedding'] = df_seed['user_query'].apply(lambda x: model.encode(x, convert_to_numpy=True))\n",
    "\n",
    "model = SentenceTransformer(\"all-mpnet-base-v2\")\n",
    "df_seed['embedding'] = df_seed['user_query'].apply(lambda x: model.encode(x, normalize_embeddings=True, convert_to_numpy=True))\n",
    "\n",
    "print(df_seed['embedding'])\n"
   ]
  },
  {
   "cell_type": "markdown",
   "id": "3053e657",
   "metadata": {},
   "source": [
    "## Get all persona labels"
   ]
  },
  {
   "cell_type": "code",
   "execution_count": 55,
   "id": "16f89aa1",
   "metadata": {},
   "outputs": [
    {
     "name": "stdout",
     "output_type": "stream",
     "text": [
      "['Adventure Seeker', 'Backpacker', 'Culture Explorer', 'Digital Nomad', 'Family Traveler', 'Foodie', 'Luxury Seeker', 'Relaxation Seeker', 'Shopper', 'Solo Traveler']\n"
     ]
    }
   ],
   "source": [
    "df_persona_flatten = df_seed.explode('persona').dropna(subset=['persona'])\n",
    "persona_labels = sorted(df_persona_flatten['persona'].unique())\n",
    "print(persona_labels)"
   ]
  },
  {
   "cell_type": "markdown",
   "id": "de0b4628",
   "metadata": {},
   "source": [
    "## Compute Centroids Per Persona"
   ]
  },
  {
   "cell_type": "code",
   "execution_count": 56,
   "id": "f36bdb01",
   "metadata": {},
   "outputs": [
    {
     "name": "stdout",
     "output_type": "stream",
     "text": [
      "[[-0.02430179  0.0005639  -0.01379317 ...  0.00805121  0.03548119\n",
      "  -0.00894321]\n",
      " [-0.02147701 -0.00371314  0.00234409 ...  0.0004143   0.03398336\n",
      "  -0.01226141]\n",
      " [-0.02807685  0.01211919 -0.01640119 ...  0.02340208  0.0293539\n",
      "  -0.02225329]\n",
      " ...\n",
      " [-0.03362343 -0.00185131 -0.00870396 ... -0.00705461  0.03299256\n",
      "  -0.00495257]\n",
      " [-0.01561555 -0.00794585 -0.02174257 ... -0.00251458  0.01844303\n",
      "  -0.01669079]\n",
      " [-0.02447946  0.00351482 -0.00845103 ... -0.01150169  0.04608477\n",
      "  -0.01147416]]\n"
     ]
    }
   ],
   "source": [
    "import numpy as np\n",
    "\n",
    "centroids = []\n",
    "for label in persona_labels:\n",
    "    embeddings = df_persona_flatten[df_persona_flatten['persona'] == label]['embedding'].tolist()\n",
    "    centroid = np.mean(embeddings, axis=0)\n",
    "    centroids.append(centroid)\n",
    "\n",
    "centroids_array = np.array(centroids)\n",
    "print(centroids_array)"
   ]
  },
  {
   "cell_type": "markdown",
   "id": "c84cb61e",
   "metadata": {},
   "source": [
    "## Embed Unlabeled Queries"
   ]
  },
  {
   "cell_type": "code",
   "execution_count": 59,
   "id": "9ea59c68",
   "metadata": {},
   "outputs": [
    {
     "name": "stdout",
     "output_type": "stream",
     "text": [
      "\n",
      "Rows before drop_duplicates: 31240\n",
      "Duplicates removed: 24668\n",
      "Rows after drop_duplicates: 6572\n",
      "Number of unlabeled queries: 6572\n",
      "Embeddings: (6572, 768)\n"
     ]
    }
   ],
   "source": [
    "# df_unlabeled1 = pd.read_csv(\"./persona_data/unlabeled_travel_persona_1000_synthetic.csv\")\n",
    "# df_unlabeled1 = df_unlabeled1.rename(columns={\"query\": \"user_query\"})\n",
    "# df_unlabeled2 = pd.read_csv(\"./persona_data/unlabeled_travel_persona_queries_20k.csv\")\n",
    "# df_unlabeled3 = pd.read_csv(\"./persona_data/unlabeled_queries_singapore_tourist.csv\")\n",
    "# df_unlabeled4 = pd.read_csv(\"./persona_data/unlabeled_travel_persona_dataset_full.csv\")\n",
    "# df_unlabeled4 = df_unlabeled4.rename(columns={\"query\": \"user_query\"})\n",
    "# # Add blank persona column\n",
    "# for df in [df_unlabeled1, df_unlabeled2, df_unlabeled3, df_unlabeled4]:\n",
    "#     df[\"persona\"] = \"\"\n",
    "# # Merge all data\n",
    "# df_unlabeled_merged = pd.concat([df_unlabeled1, df_unlabeled2, df_unlabeled3, df_unlabeled4], ignore_index=True)\n",
    "# # Ensure column order\n",
    "# df_unlabeled_merged = df_unlabeled_merged[[\"user_query\", \"persona\"]]\n",
    "\n",
    "# # # Save to CSV\n",
    "# df_unlabeled_merged.to_csv(\"./persona_data/unlabeled_merged.csv\", index=False)\n",
    "df_unlabeled_merged = pd.read_csv(\"./persona_data/unlabeled_merged.csv\")\n",
    "\n",
    "def persona_label_duplicates(df):\n",
    "    before_drop = len(df)\n",
    "    print(f\"\\nRows before drop_duplicates: {before_drop}\")\n",
    "    # Drop duplicates\n",
    "    df.drop_duplicates(subset=[\"user_query\", \"persona\"], inplace=True)\n",
    "    # Count after drop\n",
    "    after_drop = len(df)\n",
    "    print(f\"Duplicates removed: {before_drop - after_drop}\")\n",
    "    print(f\"Rows after drop_duplicates: {after_drop}\")\n",
    "\n",
    "persona_label_duplicates(df_unlabeled_merged)\n",
    "unlabeled_queries = df_unlabeled_merged['user_query'].to_list()\n",
    "print(f\"Number of unlabeled queries: {len(unlabeled_queries)}\")\n",
    "\n",
    "# unlabeled_embeddings = model.encode(unlabeled_queries, convert_to_numpy=True)\n",
    "unlabeled_embeddings = model.encode(unlabeled_queries, normalize_embeddings=True, convert_to_numpy=True)\n",
    "unlabeled_embeddings = np.array(unlabeled_embeddings, dtype=np.float32)\n",
    "print(\"Embeddings:\", unlabeled_embeddings.shape)  # (3, 384)\n"
   ]
  },
  {
   "cell_type": "markdown",
   "id": "f474bfbc",
   "metadata": {},
   "source": [
    "## Cosine Similarity based multi-labeling"
   ]
  },
  {
   "cell_type": "code",
   "execution_count": 61,
   "id": "9d97a426",
   "metadata": {},
   "outputs": [
    {
     "name": "stdout",
     "output_type": "stream",
     "text": [
      "[['Culture Explorer', 'Shopper'], ['Adventure Seeker', 'Backpacker', 'Culture Explorer', 'Family Traveler', 'Foodie', 'Shopper'], ['Adventure Seeker', 'Backpacker', 'Culture Explorer', 'Family Traveler', 'Foodie', 'Shopper'], ['Adventure Seeker', 'Backpacker', 'Culture Explorer', 'Family Traveler', 'Foodie', 'Luxury Seeker', 'Relaxation Seeker', 'Shopper', 'Solo Traveler'], ['Adventure Seeker', 'Backpacker', 'Culture Explorer', 'Family Traveler', 'Foodie', 'Luxury Seeker', 'Relaxation Seeker', 'Shopper', 'Solo Traveler'], ['Culture Explorer', 'Shopper'], ['Adventure Seeker', 'Backpacker', 'Culture Explorer', 'Family Traveler', 'Foodie', 'Shopper'], ['Adventure Seeker', 'Backpacker', 'Culture Explorer', 'Family Traveler', 'Foodie', 'Shopper', 'Solo Traveler'], ['Adventure Seeker', 'Culture Explorer', 'Luxury Seeker', 'Shopper'], ['Adventure Seeker', 'Backpacker', 'Culture Explorer', 'Family Traveler', 'Foodie', 'Relaxation Seeker', 'Shopper', 'Solo Traveler'], ['Adventure Seeker', 'Backpacker', 'Culture Explorer', 'Family Traveler', 'Foodie', 'Luxury Seeker', 'Relaxation Seeker', 'Shopper', 'Solo Traveler'], ['Adventure Seeker', 'Backpacker', 'Culture Explorer', 'Family Traveler', 'Foodie', 'Shopper'], [], ['Adventure Seeker', 'Backpacker', 'Culture Explorer', 'Family Traveler', 'Foodie'], ['Adventure Seeker', 'Backpacker', 'Culture Explorer', 'Family Traveler', 'Foodie', 'Shopper', 'Solo Traveler'], ['Adventure Seeker', 'Culture Explorer'], ['Adventure Seeker', 'Culture Explorer', 'Family Traveler', 'Foodie', 'Shopper'], ['Adventure Seeker', 'Culture Explorer', 'Family Traveler', 'Foodie'], ['Adventure Seeker', 'Backpacker', 'Culture Explorer', 'Family Traveler', 'Foodie', 'Relaxation Seeker', 'Shopper', 'Solo Traveler'], ['Adventure Seeker', 'Backpacker', 'Culture Explorer', 'Family Traveler', 'Foodie', 'Luxury Seeker', 'Relaxation Seeker', 'Shopper', 'Solo Traveler'], ['Adventure Seeker', 'Backpacker', 'Culture Explorer', 'Family Traveler', 'Foodie', 'Solo Traveler'], ['Adventure Seeker', 'Backpacker', 'Culture Explorer', 'Family Traveler', 'Foodie', 'Relaxation Seeker', 'Shopper'], ['Culture Explorer'], ['Culture Explorer'], ['Adventure Seeker', 'Backpacker', 'Culture Explorer', 'Family Traveler', 'Foodie', 'Luxury Seeker', 'Relaxation Seeker', 'Shopper'], ['Adventure Seeker', 'Culture Explorer', 'Family Traveler', 'Foodie'], ['Culture Explorer'], ['Adventure Seeker', 'Backpacker', 'Culture Explorer', 'Family Traveler', 'Relaxation Seeker'], ['Adventure Seeker', 'Culture Explorer', 'Family Traveler', 'Foodie'], ['Adventure Seeker', 'Culture Explorer', 'Family Traveler'], ['Adventure Seeker', 'Backpacker', 'Culture Explorer', 'Family Traveler', 'Foodie', 'Luxury Seeker', 'Relaxation Seeker', 'Shopper'], ['Culture Explorer', 'Luxury Seeker', 'Shopper'], ['Adventure Seeker', 'Backpacker', 'Culture Explorer', 'Family Traveler', 'Foodie', 'Shopper'], ['Culture Explorer', 'Family Traveler', 'Foodie', 'Shopper'], ['Adventure Seeker', 'Backpacker', 'Culture Explorer', 'Family Traveler', 'Foodie', 'Shopper', 'Solo Traveler'], ['Culture Explorer', 'Shopper'], ['Adventure Seeker', 'Backpacker', 'Culture Explorer', 'Family Traveler', 'Foodie', 'Relaxation Seeker', 'Shopper', 'Solo Traveler'], ['Adventure Seeker', 'Backpacker', 'Culture Explorer', 'Family Traveler', 'Foodie', 'Solo Traveler'], ['Adventure Seeker', 'Culture Explorer', 'Family Traveler'], ['Adventure Seeker', 'Backpacker', 'Culture Explorer', 'Family Traveler', 'Foodie', 'Luxury Seeker', 'Relaxation Seeker', 'Shopper', 'Solo Traveler'], ['Backpacker', 'Culture Explorer', 'Family Traveler', 'Foodie', 'Shopper'], ['Adventure Seeker', 'Backpacker', 'Culture Explorer', 'Family Traveler', 'Foodie', 'Luxury Seeker', 'Relaxation Seeker', 'Shopper', 'Solo Traveler'], [], ['Adventure Seeker', 'Backpacker', 'Culture Explorer', 'Family Traveler', 'Foodie'], ['Culture Explorer', 'Foodie'], ['Culture Explorer', 'Shopper'], ['Adventure Seeker', 'Backpacker', 'Culture Explorer', 'Family Traveler', 'Foodie', 'Relaxation Seeker', 'Shopper', 'Solo Traveler'], ['Adventure Seeker', 'Culture Explorer', 'Family Traveler', 'Foodie'], ['Culture Explorer'], ['Adventure Seeker', 'Backpacker', 'Culture Explorer', 'Family Traveler', 'Foodie', 'Luxury Seeker', 'Relaxation Seeker', 'Shopper', 'Solo Traveler'], ['Culture Explorer', 'Family Traveler', 'Foodie', 'Shopper'], ['Adventure Seeker', 'Backpacker', 'Culture Explorer', 'Family Traveler', 'Foodie', 'Luxury Seeker', 'Relaxation Seeker', 'Shopper', 'Solo Traveler'], ['Culture Explorer', 'Luxury Seeker', 'Shopper'], ['Adventure Seeker', 'Backpacker', 'Culture Explorer', 'Family Traveler', 'Foodie', 'Shopper', 'Solo Traveler'], ['Adventure Seeker', 'Backpacker', 'Culture Explorer', 'Family Traveler', 'Foodie', 'Shopper'], ['Culture Explorer', 'Shopper'], ['Adventure Seeker', 'Backpacker', 'Culture Explorer', 'Family Traveler', 'Foodie', 'Relaxation Seeker', 'Shopper', 'Solo Traveler'], ['Adventure Seeker', 'Backpacker', 'Culture Explorer', 'Family Traveler', 'Foodie', 'Luxury Seeker', 'Relaxation Seeker', 'Shopper', 'Solo Traveler'], ['Adventure Seeker', 'Backpacker', 'Culture Explorer', 'Family Traveler', 'Foodie', 'Shopper'], ['Culture Explorer', 'Shopper'], ['Culture Explorer', 'Shopper'], ['Adventure Seeker', 'Backpacker', 'Culture Explorer', 'Family Traveler', 'Foodie', 'Shopper'], ['Adventure Seeker', 'Backpacker', 'Culture Explorer', 'Family Traveler', 'Foodie', 'Shopper'], ['Adventure Seeker', 'Backpacker', 'Culture Explorer', 'Family Traveler', 'Foodie', 'Shopper'], ['Adventure Seeker', 'Backpacker', 'Culture Explorer', 'Family Traveler', 'Foodie', 'Relaxation Seeker', 'Shopper'], ['Adventure Seeker', 'Backpacker', 'Culture Explorer', 'Digital Nomad', 'Family Traveler', 'Foodie', 'Shopper', 'Solo Traveler'], ['Adventure Seeker', 'Backpacker', 'Culture Explorer', 'Family Traveler', 'Foodie', 'Shopper'], ['Backpacker', 'Foodie', 'Shopper'], [], ['Adventure Seeker', 'Backpacker', 'Culture Explorer', 'Family Traveler', 'Foodie'], ['Adventure Seeker', 'Backpacker', 'Culture Explorer', 'Family Traveler', 'Foodie', 'Luxury Seeker', 'Shopper'], ['Backpacker', 'Culture Explorer', 'Family Traveler', 'Foodie', 'Shopper'], ['Backpacker', 'Culture Explorer', 'Family Traveler', 'Foodie', 'Shopper'], ['Backpacker', 'Culture Explorer', 'Foodie'], ['Adventure Seeker', 'Culture Explorer', 'Foodie', 'Luxury Seeker', 'Shopper'], ['Backpacker', 'Culture Explorer', 'Family Traveler', 'Foodie', 'Shopper'], ['Backpacker', 'Culture Explorer', 'Foodie', 'Shopper'], ['Backpacker', 'Culture Explorer', 'Family Traveler', 'Foodie', 'Shopper'], ['Culture Explorer', 'Foodie', 'Luxury Seeker', 'Shopper'], ['Adventure Seeker', 'Backpacker', 'Culture Explorer', 'Family Traveler', 'Foodie', 'Shopper'], ['Backpacker', 'Culture Explorer', 'Foodie', 'Shopper'], ['Adventure Seeker', 'Backpacker', 'Culture Explorer', 'Family Traveler', 'Foodie', 'Shopper'], ['Backpacker', 'Culture Explorer', 'Foodie'], ['Adventure Seeker', 'Backpacker', 'Culture Explorer', 'Digital Nomad', 'Family Traveler', 'Foodie', 'Luxury Seeker', 'Shopper', 'Solo Traveler'], ['Culture Explorer', 'Foodie', 'Shopper'], ['Culture Explorer', 'Family Traveler', 'Foodie'], ['Backpacker', 'Culture Explorer', 'Foodie', 'Shopper'], ['Foodie', 'Shopper'], ['Backpacker', 'Culture Explorer', 'Foodie', 'Shopper'], ['Adventure Seeker', 'Backpacker', 'Culture Explorer', 'Family Traveler', 'Foodie', 'Luxury Seeker', 'Shopper'], ['Backpacker', 'Culture Explorer', 'Family Traveler', 'Foodie', 'Shopper'], ['Adventure Seeker', 'Backpacker', 'Culture Explorer', 'Family Traveler', 'Foodie', 'Luxury Seeker', 'Shopper'], [], ['Foodie'], ['Culture Explorer', 'Foodie', 'Shopper'], ['Adventure Seeker', 'Backpacker', 'Culture Explorer', 'Family Traveler', 'Foodie', 'Shopper'], ['Adventure Seeker', 'Backpacker', 'Culture Explorer', 'Digital Nomad', 'Family Traveler', 'Foodie'], ['Foodie'], ['Adventure Seeker', 'Backpacker', 'Culture Explorer', 'Family Traveler', 'Foodie', 'Luxury Seeker', 'Relaxation Seeker', 'Shopper', 'Solo Traveler'], ['Adventure Seeker', 'Backpacker', 'Culture Explorer', 'Family Traveler', 'Foodie', 'Shopper'], ['Adventure Seeker', 'Backpacker', 'Culture Explorer', 'Family Traveler', 'Foodie', 'Luxury Seeker', 'Shopper', 'Solo Traveler'], ['Adventure Seeker', 'Backpacker', 'Culture Explorer', 'Family Traveler', 'Foodie', 'Luxury Seeker', 'Shopper'], ['Backpacker', 'Culture Explorer', 'Family Traveler', 'Foodie', 'Shopper'], ['Culture Explorer', 'Foodie', 'Shopper'], ['Culture Explorer', 'Foodie', 'Shopper'], ['Backpacker', 'Foodie'], ['Adventure Seeker', 'Culture Explorer', 'Foodie'], [], ['Backpacker', 'Foodie', 'Shopper'], ['Backpacker', 'Foodie'], ['Backpacker', 'Culture Explorer', 'Foodie'], ['Adventure Seeker', 'Backpacker', 'Culture Explorer', 'Family Traveler', 'Foodie', 'Relaxation Seeker', 'Shopper', 'Solo Traveler'], ['Backpacker', 'Culture Explorer', 'Family Traveler', 'Foodie'], ['Backpacker', 'Foodie'], ['Adventure Seeker', 'Backpacker', 'Culture Explorer', 'Digital Nomad', 'Family Traveler', 'Foodie', 'Luxury Seeker', 'Shopper', 'Solo Traveler'], ['Adventure Seeker', 'Culture Explorer', 'Foodie', 'Luxury Seeker', 'Shopper'], ['Adventure Seeker', 'Backpacker', 'Culture Explorer', 'Digital Nomad', 'Family Traveler', 'Foodie', 'Shopper'], ['Backpacker', 'Foodie'], ['Backpacker', 'Culture Explorer', 'Foodie', 'Shopper'], ['Backpacker', 'Culture Explorer', 'Foodie'], ['Foodie'], ['Foodie'], ['Adventure Seeker', 'Culture Explorer', 'Foodie', 'Luxury Seeker'], ['Foodie'], ['Culture Explorer', 'Foodie', 'Luxury Seeker', 'Shopper'], ['Backpacker', 'Culture Explorer', 'Foodie'], ['Culture Explorer', 'Foodie'], ['Backpacker'], ['Adventure Seeker', 'Backpacker', 'Culture Explorer', 'Digital Nomad', 'Family Traveler', 'Foodie', 'Luxury Seeker', 'Relaxation Seeker', 'Shopper', 'Solo Traveler'], ['Backpacker', 'Family Traveler'], ['Backpacker'], ['Adventure Seeker', 'Backpacker', 'Culture Explorer', 'Family Traveler', 'Foodie', 'Luxury Seeker', 'Relaxation Seeker', 'Shopper', 'Solo Traveler'], [], ['Adventure Seeker', 'Backpacker', 'Culture Explorer', 'Foodie', 'Solo Traveler'], ['Adventure Seeker', 'Backpacker', 'Culture Explorer', 'Digital Nomad', 'Family Traveler', 'Foodie', 'Luxury Seeker', 'Relaxation Seeker', 'Shopper', 'Solo Traveler'], ['Adventure Seeker', 'Backpacker', 'Digital Nomad', 'Family Traveler'], ['Adventure Seeker', 'Backpacker', 'Culture Explorer', 'Digital Nomad', 'Family Traveler', 'Foodie'], ['Family Traveler'], ['Adventure Seeker', 'Backpacker', 'Culture Explorer', 'Digital Nomad', 'Family Traveler', 'Foodie', 'Luxury Seeker', 'Relaxation Seeker', 'Shopper', 'Solo Traveler'], ['Adventure Seeker', 'Backpacker', 'Culture Explorer', 'Digital Nomad', 'Family Traveler', 'Foodie', 'Luxury Seeker', 'Relaxation Seeker', 'Shopper', 'Solo Traveler'], ['Backpacker', 'Solo Traveler'], ['Adventure Seeker', 'Backpacker', 'Culture Explorer', 'Digital Nomad', 'Family Traveler', 'Foodie', 'Solo Traveler'], ['Backpacker'], ['Adventure Seeker', 'Backpacker', 'Culture Explorer', 'Digital Nomad', 'Family Traveler', 'Foodie', 'Luxury Seeker', 'Relaxation Seeker', 'Shopper', 'Solo Traveler'], ['Adventure Seeker', 'Backpacker', 'Digital Nomad', 'Family Traveler'], ['Backpacker'], ['Backpacker', 'Digital Nomad', 'Family Traveler', 'Solo Traveler'], ['Adventure Seeker', 'Backpacker', 'Culture Explorer', 'Digital Nomad', 'Family Traveler', 'Foodie', 'Luxury Seeker', 'Relaxation Seeker', 'Shopper', 'Solo Traveler'], [], [], ['Backpacker', 'Luxury Seeker', 'Shopper', 'Solo Traveler'], ['Adventure Seeker', 'Backpacker', 'Culture Explorer', 'Digital Nomad', 'Family Traveler', 'Foodie', 'Luxury Seeker', 'Relaxation Seeker', 'Shopper', 'Solo Traveler'], [], ['Backpacker', 'Digital Nomad', 'Family Traveler', 'Foodie', 'Shopper', 'Solo Traveler'], ['Backpacker', 'Digital Nomad', 'Family Traveler', 'Relaxation Seeker', 'Solo Traveler'], ['Backpacker'], [], ['Adventure Seeker', 'Backpacker', 'Culture Explorer', 'Digital Nomad', 'Family Traveler', 'Foodie', 'Luxury Seeker', 'Relaxation Seeker', 'Shopper', 'Solo Traveler'], [], ['Backpacker', 'Digital Nomad', 'Family Traveler'], ['Adventure Seeker', 'Backpacker', 'Culture Explorer', 'Family Traveler', 'Luxury Seeker', 'Relaxation Seeker', 'Shopper', 'Solo Traveler'], ['Adventure Seeker', 'Backpacker', 'Culture Explorer', 'Digital Nomad', 'Family Traveler', 'Foodie', 'Luxury Seeker', 'Relaxation Seeker', 'Shopper', 'Solo Traveler'], ['Adventure Seeker', 'Backpacker', 'Culture Explorer', 'Digital Nomad', 'Family Traveler', 'Foodie', 'Luxury Seeker', 'Relaxation Seeker', 'Shopper', 'Solo Traveler'], [], [], ['Backpacker'], [], ['Adventure Seeker', 'Backpacker', 'Culture Explorer', 'Digital Nomad', 'Family Traveler', 'Foodie', 'Solo Traveler'], ['Backpacker', 'Solo Traveler'], [], [], ['Backpacker'], ['Adventure Seeker', 'Backpacker', 'Family Traveler', 'Luxury Seeker', 'Shopper', 'Solo Traveler'], ['Backpacker'], ['Adventure Seeker', 'Backpacker', 'Culture Explorer', 'Digital Nomad', 'Family Traveler', 'Foodie', 'Luxury Seeker', 'Relaxation Seeker', 'Shopper', 'Solo Traveler'], ['Backpacker'], ['Adventure Seeker', 'Backpacker', 'Culture Explorer', 'Digital Nomad', 'Family Traveler', 'Foodie', 'Luxury Seeker', 'Relaxation Seeker', 'Shopper', 'Solo Traveler'], ['Adventure Seeker', 'Backpacker', 'Culture Explorer', 'Digital Nomad', 'Family Traveler', 'Foodie', 'Luxury Seeker', 'Relaxation Seeker', 'Shopper', 'Solo Traveler'], ['Adventure Seeker', 'Backpacker', 'Digital Nomad', 'Family Traveler'], ['Backpacker', 'Culture Explorer', 'Family Traveler', 'Foodie', 'Luxury Seeker', 'Relaxation Seeker', 'Shopper', 'Solo Traveler'], [], ['Solo Traveler'], ['Backpacker'], ['Adventure Seeker', 'Backpacker', 'Culture Explorer', 'Family Traveler', 'Foodie', 'Luxury Seeker', 'Relaxation Seeker', 'Shopper', 'Solo Traveler'], ['Backpacker', 'Digital Nomad'], ['Luxury Seeker'], ['Adventure Seeker', 'Backpacker', 'Culture Explorer', 'Digital Nomad', 'Family Traveler', 'Foodie', 'Luxury Seeker', 'Relaxation Seeker', 'Shopper', 'Solo Traveler'], ['Culture Explorer', 'Family Traveler', 'Foodie', 'Luxury Seeker', 'Relaxation Seeker'], ['Adventure Seeker', 'Backpacker', 'Culture Explorer', 'Family Traveler', 'Foodie', 'Luxury Seeker', 'Relaxation Seeker', 'Shopper', 'Solo Traveler'], ['Culture Explorer', 'Family Traveler', 'Luxury Seeker', 'Relaxation Seeker'], ['Family Traveler', 'Luxury Seeker', 'Relaxation Seeker'], ['Luxury Seeker'], ['Culture Explorer', 'Foodie', 'Luxury Seeker', 'Relaxation Seeker'], ['Adventure Seeker', 'Backpacker', 'Culture Explorer', 'Family Traveler', 'Foodie', 'Luxury Seeker', 'Relaxation Seeker', 'Shopper', 'Solo Traveler'], ['Family Traveler', 'Foodie', 'Luxury Seeker', 'Relaxation Seeker', 'Shopper'], ['Luxury Seeker'], ['Family Traveler', 'Luxury Seeker', 'Relaxation Seeker'], ['Family Traveler', 'Luxury Seeker', 'Relaxation Seeker'], ['Adventure Seeker', 'Backpacker', 'Culture Explorer', 'Family Traveler', 'Foodie', 'Luxury Seeker', 'Relaxation Seeker', 'Shopper'], ['Adventure Seeker', 'Family Traveler', 'Foodie', 'Luxury Seeker', 'Relaxation Seeker'], ['Family Traveler', 'Luxury Seeker', 'Relaxation Seeker'], ['Culture Explorer', 'Family Traveler', 'Foodie', 'Luxury Seeker', 'Relaxation Seeker'], ['Adventure Seeker', 'Culture Explorer', 'Family Traveler', 'Foodie', 'Luxury Seeker', 'Relaxation Seeker', 'Shopper', 'Solo Traveler'], ['Luxury Seeker', 'Shopper'], ['Luxury Seeker'], [], ['Family Traveler', 'Foodie', 'Luxury Seeker', 'Relaxation Seeker'], ['Adventure Seeker', 'Backpacker', 'Culture Explorer', 'Digital Nomad', 'Family Traveler', 'Foodie', 'Luxury Seeker', 'Relaxation Seeker', 'Shopper'], ['Adventure Seeker', 'Backpacker', 'Family Traveler', 'Foodie', 'Luxury Seeker', 'Relaxation Seeker', 'Solo Traveler'], ['Luxury Seeker', 'Relaxation Seeker'], ['Family Traveler', 'Luxury Seeker', 'Relaxation Seeker'], ['Adventure Seeker', 'Backpacker', 'Culture Explorer', 'Digital Nomad', 'Family Traveler', 'Foodie', 'Luxury Seeker', 'Relaxation Seeker', 'Shopper', 'Solo Traveler'], ['Family Traveler', 'Luxury Seeker', 'Relaxation Seeker'], ['Adventure Seeker', 'Backpacker', 'Culture Explorer', 'Family Traveler', 'Foodie', 'Luxury Seeker', 'Relaxation Seeker', 'Shopper', 'Solo Traveler'], ['Luxury Seeker'], ['Adventure Seeker', 'Backpacker', 'Culture Explorer', 'Family Traveler', 'Foodie', 'Luxury Seeker', 'Relaxation Seeker', 'Shopper', 'Solo Traveler'], ['Family Traveler', 'Luxury Seeker', 'Relaxation Seeker'], ['Adventure Seeker', 'Backpacker', 'Family Traveler', 'Foodie', 'Luxury Seeker', 'Relaxation Seeker', 'Solo Traveler'], ['Adventure Seeker', 'Backpacker', 'Culture Explorer', 'Family Traveler', 'Foodie', 'Luxury Seeker', 'Relaxation Seeker', 'Shopper', 'Solo Traveler'], ['Adventure Seeker', 'Backpacker', 'Culture Explorer', 'Family Traveler', 'Foodie', 'Luxury Seeker', 'Relaxation Seeker', 'Solo Traveler'], ['Family Traveler', 'Luxury Seeker', 'Relaxation Seeker'], ['Backpacker', 'Family Traveler', 'Luxury Seeker', 'Relaxation Seeker', 'Shopper'], ['Culture Explorer', 'Family Traveler', 'Foodie', 'Luxury Seeker', 'Relaxation Seeker'], ['Adventure Seeker', 'Backpacker', 'Culture Explorer', 'Digital Nomad', 'Family Traveler', 'Foodie', 'Luxury Seeker', 'Relaxation Seeker', 'Shopper', 'Solo Traveler'], ['Family Traveler', 'Luxury Seeker', 'Relaxation Seeker'], ['Family Traveler', 'Luxury Seeker', 'Relaxation Seeker'], ['Family Traveler', 'Luxury Seeker', 'Relaxation Seeker'], ['Luxury Seeker', 'Relaxation Seeker'], ['Luxury Seeker'], ['Family Traveler', 'Foodie', 'Luxury Seeker', 'Relaxation Seeker'], ['Adventure Seeker', 'Backpacker', 'Family Traveler', 'Foodie', 'Luxury Seeker', 'Relaxation Seeker'], ['Luxury Seeker', 'Shopper'], ['Family Traveler', 'Foodie', 'Luxury Seeker', 'Relaxation Seeker'], ['Adventure Seeker', 'Backpacker', 'Culture Explorer', 'Family Traveler', 'Foodie', 'Luxury Seeker', 'Relaxation Seeker'], ['Family Traveler', 'Foodie', 'Luxury Seeker', 'Relaxation Seeker'], ['Family Traveler', 'Luxury Seeker', 'Relaxation Seeker'], ['Adventure Seeker', 'Backpacker', 'Culture Explorer', 'Family Traveler', 'Foodie', 'Luxury Seeker', 'Relaxation Seeker', 'Shopper', 'Solo Traveler'], ['Adventure Seeker', 'Culture Explorer', 'Family Traveler', 'Foodie', 'Luxury Seeker', 'Relaxation Seeker', 'Shopper', 'Solo Traveler'], ['Adventure Seeker', 'Backpacker', 'Culture Explorer', 'Digital Nomad', 'Family Traveler', 'Foodie', 'Luxury Seeker', 'Relaxation Seeker', 'Shopper', 'Solo Traveler'], ['Family Traveler', 'Luxury Seeker', 'Relaxation Seeker'], ['Luxury Seeker'], [], ['Family Traveler', 'Foodie', 'Luxury Seeker', 'Relaxation Seeker'], [], ['Adventure Seeker', 'Culture Explorer', 'Family Traveler', 'Relaxation Seeker'], ['Adventure Seeker', 'Backpacker', 'Culture Explorer', 'Family Traveler', 'Foodie', 'Relaxation Seeker', 'Solo Traveler'], [], ['Adventure Seeker'], ['Adventure Seeker', 'Backpacker', 'Culture Explorer', 'Family Traveler', 'Luxury Seeker', 'Relaxation Seeker'], ['Adventure Seeker', 'Family Traveler', 'Relaxation Seeker'], [], ['Adventure Seeker', 'Backpacker', 'Culture Explorer', 'Family Traveler', 'Foodie', 'Luxury Seeker', 'Relaxation Seeker', 'Shopper', 'Solo Traveler'], ['Adventure Seeker', 'Backpacker', 'Culture Explorer', 'Family Traveler', 'Relaxation Seeker', 'Solo Traveler'], ['Adventure Seeker', 'Culture Explorer'], ['Adventure Seeker', 'Backpacker', 'Culture Explorer', 'Digital Nomad', 'Family Traveler', 'Foodie', 'Luxury Seeker', 'Relaxation Seeker', 'Shopper', 'Solo Traveler'], ['Adventure Seeker'], ['Adventure Seeker', 'Backpacker', 'Culture Explorer', 'Family Traveler', 'Foodie', 'Relaxation Seeker', 'Shopper', 'Solo Traveler'], ['Adventure Seeker', 'Family Traveler', 'Luxury Seeker', 'Relaxation Seeker'], ['Backpacker', 'Luxury Seeker', 'Relaxation Seeker'], ['Adventure Seeker', 'Backpacker', 'Culture Explorer', 'Family Traveler', 'Foodie', 'Luxury Seeker', 'Relaxation Seeker', 'Shopper', 'Solo Traveler'], ['Adventure Seeker', 'Backpacker', 'Culture Explorer', 'Family Traveler'], ['Adventure Seeker', 'Culture Explorer', 'Family Traveler'], [], ['Adventure Seeker', 'Backpacker', 'Culture Explorer', 'Family Traveler', 'Foodie', 'Relaxation Seeker', 'Solo Traveler'], [], ['Adventure Seeker', 'Backpacker', 'Culture Explorer', 'Family Traveler', 'Foodie', 'Relaxation Seeker', 'Solo Traveler'], ['Adventure Seeker'], ['Adventure Seeker'], ['Adventure Seeker', 'Backpacker', 'Culture Explorer', 'Family Traveler', 'Luxury Seeker', 'Relaxation Seeker', 'Solo Traveler'], ['Adventure Seeker', 'Backpacker', 'Culture Explorer', 'Family Traveler', 'Foodie', 'Relaxation Seeker', 'Solo Traveler'], ['Adventure Seeker', 'Backpacker', 'Culture Explorer', 'Family Traveler', 'Foodie', 'Luxury Seeker', 'Relaxation Seeker', 'Solo Traveler'], ['Adventure Seeker', 'Family Traveler', 'Relaxation Seeker'], ['Adventure Seeker'], ['Adventure Seeker', 'Backpacker', 'Culture Explorer', 'Solo Traveler'], ['Adventure Seeker', 'Backpacker', 'Culture Explorer', 'Family Traveler', 'Foodie', 'Luxury Seeker', 'Relaxation Seeker', 'Shopper', 'Solo Traveler'], ['Adventure Seeker'], ['Adventure Seeker', 'Culture Explorer', 'Family Traveler'], ['Adventure Seeker', 'Backpacker', 'Culture Explorer', 'Family Traveler', 'Foodie', 'Relaxation Seeker', 'Shopper', 'Solo Traveler'], ['Adventure Seeker'], [], ['Adventure Seeker', 'Culture Explorer', 'Family Traveler', 'Relaxation Seeker'], ['Adventure Seeker', 'Luxury Seeker', 'Relaxation Seeker'], [], ['Adventure Seeker', 'Backpacker', 'Culture Explorer', 'Family Traveler', 'Luxury Seeker', 'Relaxation Seeker'], ['Adventure Seeker', 'Backpacker', 'Culture Explorer', 'Family Traveler', 'Luxury Seeker', 'Relaxation Seeker', 'Solo Traveler'], ['Adventure Seeker', 'Backpacker', 'Culture Explorer', 'Family Traveler', 'Luxury Seeker', 'Relaxation Seeker'], ['Adventure Seeker'], ['Adventure Seeker'], ['Adventure Seeker'], ['Adventure Seeker', 'Backpacker', 'Culture Explorer', 'Family Traveler', 'Foodie', 'Luxury Seeker', 'Relaxation Seeker', 'Solo Traveler'], ['Adventure Seeker', 'Family Traveler', 'Luxury Seeker', 'Relaxation Seeker'], ['Adventure Seeker', 'Relaxation Seeker'], ['Adventure Seeker', 'Culture Explorer', 'Family Traveler', 'Relaxation Seeker'], ['Adventure Seeker'], ['Adventure Seeker', 'Culture Explorer', 'Family Traveler', 'Foodie', 'Relaxation Seeker'], [], ['Adventure Seeker', 'Backpacker', 'Culture Explorer', 'Family Traveler', 'Luxury Seeker', 'Relaxation Seeker', 'Solo Traveler'], ['Adventure Seeker', 'Backpacker', 'Culture Explorer', 'Family Traveler', 'Foodie', 'Relaxation Seeker', 'Solo Traveler'], [], ['Adventure Seeker', 'Culture Explorer', 'Family Traveler', 'Relaxation Seeker'], ['Adventure Seeker', 'Culture Explorer', 'Family Traveler'], ['Adventure Seeker', 'Backpacker', 'Culture Explorer', 'Family Traveler'], ['Digital Nomad', 'Family Traveler'], ['Digital Nomad'], ['Digital Nomad'], ['Adventure Seeker', 'Backpacker', 'Culture Explorer', 'Digital Nomad', 'Family Traveler', 'Foodie', 'Luxury Seeker', 'Relaxation Seeker', 'Shopper', 'Solo Traveler'], ['Digital Nomad'], ['Digital Nomad'], ['Backpacker', 'Digital Nomad', 'Family Traveler', 'Foodie', 'Shopper', 'Solo Traveler'], ['Backpacker', 'Digital Nomad', 'Family Traveler'], ['Digital Nomad'], ['Digital Nomad'], ['Adventure Seeker', 'Backpacker', 'Culture Explorer', 'Digital Nomad', 'Family Traveler', 'Foodie', 'Relaxation Seeker', 'Solo Traveler'], ['Backpacker', 'Culture Explorer', 'Digital Nomad', 'Family Traveler', 'Solo Traveler'], ['Backpacker', 'Digital Nomad', 'Family Traveler'], [], ['Adventure Seeker', 'Backpacker', 'Culture Explorer', 'Digital Nomad', 'Family Traveler', 'Foodie', 'Relaxation Seeker', 'Shopper', 'Solo Traveler'], [], [], ['Backpacker', 'Culture Explorer', 'Digital Nomad', 'Family Traveler'], ['Adventure Seeker', 'Backpacker', 'Culture Explorer', 'Digital Nomad', 'Family Traveler', 'Foodie', 'Luxury Seeker', 'Shopper', 'Solo Traveler'], ['Backpacker', 'Digital Nomad', 'Family Traveler'], ['Backpacker', 'Digital Nomad', 'Family Traveler'], [], ['Digital Nomad'], ['Digital Nomad'], ['Backpacker', 'Culture Explorer', 'Digital Nomad'], [], ['Backpacker', 'Digital Nomad'], [], ['Backpacker', 'Digital Nomad', 'Family Traveler'], ['Backpacker', 'Digital Nomad', 'Family Traveler', 'Foodie'], ['Digital Nomad'], ['Digital Nomad', 'Family Traveler'], ['Digital Nomad'], ['Backpacker', 'Culture Explorer', 'Digital Nomad', 'Family Traveler'], [], [], ['Backpacker', 'Digital Nomad', 'Family Traveler'], ['Digital Nomad'], ['Digital Nomad'], ['Backpacker', 'Digital Nomad', 'Family Traveler'], ['Digital Nomad'], [], ['Adventure Seeker', 'Backpacker', 'Culture Explorer', 'Digital Nomad', 'Family Traveler', 'Foodie', 'Relaxation Seeker', 'Solo Traveler'], [], ['Digital Nomad'], ['Digital Nomad'], ['Backpacker', 'Digital Nomad', 'Family Traveler', 'Luxury Seeker'], ['Digital Nomad'], ['Adventure Seeker', 'Backpacker', 'Culture Explorer', 'Digital Nomad', 'Family Traveler', 'Foodie', 'Relaxation Seeker', 'Solo Traveler'], ['Digital Nomad', 'Family Traveler'], ['Adventure Seeker', 'Backpacker', 'Culture Explorer', 'Digital Nomad', 'Family Traveler', 'Foodie', 'Luxury Seeker', 'Relaxation Seeker', 'Shopper', 'Solo Traveler'], [], ['Digital Nomad'], ['Backpacker', 'Digital Nomad'], ['Digital Nomad'], ['Backpacker', 'Culture Explorer', 'Digital Nomad', 'Family Traveler', 'Foodie'], ['Digital Nomad'], ['Digital Nomad'], [], ['Digital Nomad'], ['Adventure Seeker', 'Backpacker', 'Culture Explorer', 'Digital Nomad', 'Family Traveler', 'Foodie', 'Relaxation Seeker', 'Shopper', 'Solo Traveler'], ['Adventure Seeker', 'Backpacker', 'Culture Explorer', 'Digital Nomad', 'Family Traveler', 'Foodie', 'Relaxation Seeker', 'Shopper', 'Solo Traveler'], ['Adventure Seeker', 'Backpacker', 'Culture Explorer', 'Digital Nomad', 'Family Traveler', 'Foodie', 'Relaxation Seeker', 'Shopper', 'Solo Traveler'], ['Adventure Seeker', 'Backpacker', 'Culture Explorer', 'Digital Nomad', 'Family Traveler', 'Foodie', 'Relaxation Seeker', 'Shopper', 'Solo Traveler'], ['Adventure Seeker', 'Backpacker', 'Culture Explorer', 'Family Traveler', 'Foodie'], ['Adventure Seeker', 'Backpacker', 'Culture Explorer', 'Digital Nomad', 'Family Traveler', 'Foodie', 'Relaxation Seeker', 'Shopper', 'Solo Traveler'], ['Adventure Seeker', 'Culture Explorer', 'Family Traveler', 'Foodie', 'Relaxation Seeker', 'Shopper'], ['Solo Traveler'], ['Adventure Seeker', 'Backpacker', 'Culture Explorer', 'Digital Nomad', 'Family Traveler', 'Foodie', 'Relaxation Seeker', 'Shopper', 'Solo Traveler'], ['Adventure Seeker', 'Backpacker', 'Culture Explorer', 'Family Traveler', 'Foodie', 'Relaxation Seeker', 'Shopper', 'Solo Traveler'], ['Adventure Seeker', 'Backpacker', 'Culture Explorer', 'Digital Nomad', 'Family Traveler', 'Foodie', 'Luxury Seeker', 'Relaxation Seeker', 'Shopper'], ['Adventure Seeker', 'Backpacker', 'Culture Explorer', 'Family Traveler', 'Foodie', 'Luxury Seeker', 'Relaxation Seeker', 'Shopper', 'Solo Traveler'], ['Solo Traveler'], ['Adventure Seeker', 'Culture Explorer', 'Family Traveler', 'Foodie', 'Relaxation Seeker', 'Shopper', 'Solo Traveler'], ['Family Traveler', 'Luxury Seeker'], ['Adventure Seeker', 'Culture Explorer', 'Family Traveler', 'Foodie', 'Shopper'], ['Backpacker', 'Culture Explorer', 'Digital Nomad', 'Family Traveler', 'Foodie', 'Relaxation Seeker', 'Shopper', 'Solo Traveler'], ['Culture Explorer', 'Family Traveler'], ['Adventure Seeker', 'Culture Explorer', 'Family Traveler', 'Luxury Seeker'], ['Backpacker', 'Culture Explorer', 'Digital Nomad', 'Family Traveler', 'Foodie', 'Relaxation Seeker', 'Shopper', 'Solo Traveler'], ['Culture Explorer', 'Family Traveler'], ['Adventure Seeker', 'Backpacker', 'Culture Explorer', 'Family Traveler', 'Foodie', 'Luxury Seeker', 'Relaxation Seeker', 'Shopper', 'Solo Traveler'], ['Adventure Seeker', 'Backpacker', 'Culture Explorer', 'Family Traveler', 'Foodie', 'Shopper', 'Solo Traveler'], ['Adventure Seeker', 'Backpacker', 'Culture Explorer', 'Family Traveler', 'Foodie', 'Luxury Seeker', 'Relaxation Seeker', 'Shopper', 'Solo Traveler'], ['Adventure Seeker', 'Backpacker', 'Culture Explorer', 'Family Traveler', 'Foodie', 'Luxury Seeker', 'Relaxation Seeker', 'Shopper', 'Solo Traveler'], ['Adventure Seeker', 'Backpacker', 'Culture Explorer', 'Family Traveler', 'Foodie', 'Luxury Seeker', 'Relaxation Seeker', 'Shopper', 'Solo Traveler'], ['Culture Explorer', 'Family Traveler', 'Shopper'], ['Adventure Seeker', 'Backpacker', 'Culture Explorer', 'Digital Nomad', 'Family Traveler', 'Foodie', 'Luxury Seeker', 'Relaxation Seeker', 'Shopper', 'Solo Traveler'], ['Adventure Seeker', 'Culture Explorer', 'Family Traveler', 'Foodie', 'Luxury Seeker', 'Relaxation Seeker'], ['Adventure Seeker', 'Culture Explorer', 'Family Traveler', 'Relaxation Seeker'], ['Adventure Seeker', 'Culture Explorer', 'Family Traveler', 'Foodie', 'Shopper'], ['Adventure Seeker', 'Backpacker', 'Culture Explorer', 'Family Traveler', 'Luxury Seeker', 'Shopper'], ['Adventure Seeker', 'Backpacker', 'Culture Explorer', 'Digital Nomad', 'Family Traveler', 'Foodie', 'Relaxation Seeker', 'Shopper', 'Solo Traveler'], ['Adventure Seeker', 'Backpacker', 'Culture Explorer', 'Digital Nomad', 'Family Traveler', 'Foodie', 'Relaxation Seeker', 'Shopper', 'Solo Traveler'], ['Adventure Seeker', 'Culture Explorer', 'Family Traveler', 'Luxury Seeker', 'Relaxation Seeker'], ['Adventure Seeker', 'Backpacker', 'Culture Explorer', 'Family Traveler', 'Foodie', 'Luxury Seeker', 'Relaxation Seeker', 'Shopper', 'Solo Traveler'], ['Culture Explorer', 'Family Traveler'], ['Adventure Seeker', 'Backpacker', 'Culture Explorer', 'Family Traveler', 'Foodie', 'Luxury Seeker', 'Relaxation Seeker', 'Shopper', 'Solo Traveler'], ['Adventure Seeker', 'Family Traveler'], ['Adventure Seeker', 'Culture Explorer', 'Family Traveler', 'Luxury Seeker', 'Relaxation Seeker'], ['Adventure Seeker', 'Family Traveler', 'Luxury Seeker', 'Relaxation Seeker'], ['Family Traveler'], ['Adventure Seeker', 'Culture Explorer', 'Family Traveler', 'Foodie', 'Luxury Seeker', 'Relaxation Seeker'], ['Adventure Seeker', 'Backpacker', 'Culture Explorer', 'Family Traveler', 'Foodie', 'Relaxation Seeker', 'Shopper', 'Solo Traveler'], ['Adventure Seeker', 'Backpacker', 'Culture Explorer', 'Family Traveler', 'Foodie', 'Relaxation Seeker', 'Solo Traveler'], ['Adventure Seeker', 'Culture Explorer', 'Family Traveler', 'Foodie', 'Relaxation Seeker', 'Shopper', 'Solo Traveler'], ['Backpacker', 'Digital Nomad', 'Family Traveler', 'Foodie', 'Shopper', 'Solo Traveler'], ['Adventure Seeker', 'Culture Explorer', 'Family Traveler', 'Foodie', 'Luxury Seeker', 'Relaxation Seeker'], ['Family Traveler', 'Solo Traveler'], ['Adventure Seeker', 'Family Traveler'], ['Adventure Seeker', 'Backpacker', 'Culture Explorer', 'Digital Nomad', 'Family Traveler', 'Foodie', 'Luxury Seeker', 'Relaxation Seeker', 'Shopper', 'Solo Traveler'], ['Adventure Seeker', 'Backpacker', 'Culture Explorer', 'Family Traveler', 'Foodie', 'Shopper'], ['Adventure Seeker', 'Culture Explorer', 'Family Traveler', 'Shopper'], ['Adventure Seeker', 'Backpacker', 'Culture Explorer', 'Family Traveler', 'Foodie'], ['Adventure Seeker', 'Culture Explorer', 'Family Traveler', 'Foodie', 'Relaxation Seeker', 'Shopper', 'Solo Traveler'], ['Adventure Seeker', 'Backpacker', 'Culture Explorer', 'Family Traveler', 'Foodie', 'Luxury Seeker', 'Relaxation Seeker', 'Shopper', 'Solo Traveler'], [], ['Adventure Seeker', 'Backpacker', 'Culture Explorer', 'Family Traveler', 'Foodie', 'Luxury Seeker', 'Relaxation Seeker'], [], ['Adventure Seeker', 'Backpacker', 'Culture Explorer', 'Family Traveler', 'Luxury Seeker', 'Relaxation Seeker', 'Solo Traveler'], ['Adventure Seeker', 'Backpacker', 'Culture Explorer', 'Family Traveler', 'Foodie', 'Luxury Seeker', 'Relaxation Seeker', 'Shopper', 'Solo Traveler'], ['Adventure Seeker', 'Culture Explorer', 'Family Traveler', 'Foodie', 'Luxury Seeker', 'Relaxation Seeker'], ['Luxury Seeker', 'Relaxation Seeker'], ['Foodie'], ['Adventure Seeker', 'Backpacker', 'Culture Explorer', 'Digital Nomad', 'Family Traveler', 'Foodie', 'Luxury Seeker', 'Relaxation Seeker', 'Shopper', 'Solo Traveler'], ['Adventure Seeker', 'Culture Explorer', 'Family Traveler', 'Foodie', 'Luxury Seeker', 'Relaxation Seeker'], ['Family Traveler', 'Luxury Seeker', 'Relaxation Seeker', 'Shopper'], ['Adventure Seeker', 'Backpacker', 'Culture Explorer', 'Family Traveler', 'Foodie', 'Luxury Seeker', 'Relaxation Seeker', 'Solo Traveler'], ['Backpacker', 'Culture Explorer', 'Family Traveler', 'Foodie', 'Luxury Seeker', 'Relaxation Seeker'], ['Backpacker', 'Culture Explorer', 'Family Traveler', 'Foodie', 'Luxury Seeker', 'Relaxation Seeker', 'Shopper'], ['Adventure Seeker', 'Culture Explorer'], ['Adventure Seeker', 'Culture Explorer', 'Family Traveler', 'Foodie', 'Luxury Seeker', 'Relaxation Seeker', 'Shopper', 'Solo Traveler'], ['Adventure Seeker', 'Backpacker', 'Digital Nomad', 'Family Traveler', 'Foodie', 'Luxury Seeker', 'Relaxation Seeker', 'Shopper', 'Solo Traveler'], ['Culture Explorer', 'Family Traveler', 'Foodie', 'Luxury Seeker', 'Relaxation Seeker'], ['Backpacker', 'Culture Explorer', 'Foodie', 'Luxury Seeker'], ['Adventure Seeker', 'Digital Nomad', 'Family Traveler', 'Foodie', 'Luxury Seeker', 'Relaxation Seeker', 'Shopper', 'Solo Traveler'], ['Adventure Seeker', 'Culture Explorer', 'Family Traveler', 'Relaxation Seeker'], ['Adventure Seeker', 'Backpacker', 'Culture Explorer', 'Family Traveler', 'Foodie', 'Luxury Seeker', 'Relaxation Seeker', 'Solo Traveler'], ['Adventure Seeker', 'Backpacker', 'Culture Explorer', 'Family Traveler', 'Foodie', 'Luxury Seeker', 'Relaxation Seeker', 'Solo Traveler'], [], ['Adventure Seeker', 'Backpacker', 'Culture Explorer', 'Foodie', 'Luxury Seeker', 'Relaxation Seeker', 'Shopper'], ['Adventure Seeker', 'Backpacker', 'Culture Explorer', 'Digital Nomad', 'Family Traveler', 'Foodie', 'Luxury Seeker', 'Relaxation Seeker', 'Shopper', 'Solo Traveler'], ['Adventure Seeker', 'Backpacker', 'Culture Explorer', 'Family Traveler', 'Foodie', 'Luxury Seeker', 'Relaxation Seeker', 'Shopper', 'Solo Traveler'], ['Adventure Seeker', 'Culture Explorer', 'Family Traveler', 'Luxury Seeker', 'Relaxation Seeker', 'Solo Traveler'], ['Adventure Seeker', 'Backpacker', 'Culture Explorer', 'Digital Nomad', 'Family Traveler', 'Foodie', 'Luxury Seeker', 'Relaxation Seeker'], [], ['Adventure Seeker', 'Backpacker', 'Culture Explorer', 'Family Traveler', 'Foodie', 'Luxury Seeker', 'Relaxation Seeker', 'Shopper', 'Solo Traveler'], ['Luxury Seeker', 'Relaxation Seeker'], ['Adventure Seeker', 'Backpacker', 'Culture Explorer', 'Family Traveler', 'Foodie', 'Relaxation Seeker', 'Solo Traveler'], ['Adventure Seeker', 'Backpacker', 'Culture Explorer', 'Family Traveler', 'Foodie', 'Luxury Seeker', 'Relaxation Seeker', 'Shopper', 'Solo Traveler'], ['Adventure Seeker', 'Backpacker', 'Culture Explorer', 'Digital Nomad', 'Family Traveler', 'Foodie', 'Luxury Seeker', 'Relaxation Seeker', 'Shopper', 'Solo Traveler'], ['Adventure Seeker', 'Culture Explorer', 'Family Traveler', 'Luxury Seeker', 'Relaxation Seeker'], ['Culture Explorer', 'Digital Nomad', 'Family Traveler', 'Foodie', 'Luxury Seeker', 'Relaxation Seeker', 'Shopper', 'Solo Traveler'], ['Culture Explorer', 'Foodie', 'Luxury Seeker'], ['Backpacker', 'Culture Explorer', 'Foodie', 'Luxury Seeker', 'Relaxation Seeker'], [], ['Adventure Seeker', 'Culture Explorer', 'Luxury Seeker', 'Relaxation Seeker'], ['Adventure Seeker', 'Backpacker', 'Culture Explorer', 'Family Traveler', 'Foodie', 'Luxury Seeker', 'Relaxation Seeker', 'Solo Traveler'], ['Backpacker', 'Culture Explorer', 'Family Traveler', 'Foodie', 'Luxury Seeker', 'Relaxation Seeker', 'Shopper'], ['Culture Explorer', 'Foodie', 'Luxury Seeker'], ['Luxury Seeker'], ['Adventure Seeker', 'Backpacker', 'Culture Explorer', 'Digital Nomad', 'Family Traveler', 'Foodie', 'Luxury Seeker', 'Relaxation Seeker', 'Shopper', 'Solo Traveler'], ['Adventure Seeker', 'Backpacker', 'Culture Explorer', 'Digital Nomad', 'Family Traveler', 'Foodie', 'Luxury Seeker', 'Relaxation Seeker', 'Solo Traveler'], ['Culture Explorer', 'Foodie', 'Luxury Seeker'], ['Adventure Seeker', 'Backpacker', 'Culture Explorer', 'Digital Nomad', 'Family Traveler', 'Foodie', 'Luxury Seeker', 'Relaxation Seeker', 'Shopper', 'Solo Traveler'], ['Adventure Seeker', 'Backpacker', 'Culture Explorer', 'Family Traveler', 'Luxury Seeker', 'Relaxation Seeker'], [], ['Family Traveler', 'Luxury Seeker', 'Relaxation Seeker'], ['Family Traveler', 'Luxury Seeker', 'Relaxation Seeker', 'Solo Traveler'], ['Relaxation Seeker'], ['Adventure Seeker', 'Backpacker', 'Culture Explorer', 'Family Traveler', 'Foodie', 'Luxury Seeker', 'Relaxation Seeker', 'Shopper', 'Solo Traveler'], ['Adventure Seeker', 'Backpacker', 'Culture Explorer', 'Family Traveler', 'Foodie', 'Solo Traveler'], ['Adventure Seeker', 'Backpacker', 'Culture Explorer', 'Family Traveler', 'Foodie', 'Shopper'], ['Adventure Seeker', 'Backpacker', 'Culture Explorer', 'Family Traveler', 'Foodie', 'Luxury Seeker', 'Relaxation Seeker', 'Solo Traveler'], ['Adventure Seeker', 'Backpacker', 'Culture Explorer', 'Digital Nomad', 'Family Traveler', 'Foodie', 'Luxury Seeker', 'Relaxation Seeker', 'Shopper', 'Solo Traveler'], ['Backpacker', 'Family Traveler', 'Solo Traveler'], ['Adventure Seeker', 'Backpacker', 'Culture Explorer', 'Family Traveler', 'Solo Traveler'], ['Adventure Seeker', 'Backpacker', 'Culture Explorer', 'Family Traveler', 'Foodie', 'Luxury Seeker', 'Solo Traveler'], ['Adventure Seeker', 'Backpacker', 'Culture Explorer', 'Family Traveler', 'Foodie', 'Relaxation Seeker', 'Solo Traveler'], ['Adventure Seeker', 'Backpacker', 'Culture Explorer', 'Family Traveler', 'Foodie', 'Luxury Seeker', 'Solo Traveler'], ['Backpacker', 'Digital Nomad', 'Family Traveler', 'Relaxation Seeker', 'Solo Traveler'], ['Adventure Seeker', 'Backpacker', 'Culture Explorer', 'Digital Nomad', 'Family Traveler', 'Foodie', 'Luxury Seeker', 'Relaxation Seeker', 'Shopper', 'Solo Traveler'], ['Backpacker', 'Digital Nomad', 'Family Traveler', 'Relaxation Seeker'], ['Adventure Seeker', 'Backpacker', 'Culture Explorer', 'Family Traveler', 'Foodie', 'Relaxation Seeker', 'Shopper', 'Solo Traveler'], ['Backpacker', 'Digital Nomad', 'Family Traveler'], ['Culture Explorer', 'Family Traveler', 'Foodie', 'Solo Traveler'], ['Backpacker', 'Digital Nomad', 'Family Traveler', 'Relaxation Seeker'], ['Adventure Seeker', 'Backpacker', 'Culture Explorer', 'Family Traveler', 'Foodie', 'Solo Traveler'], ['Adventure Seeker', 'Backpacker', 'Culture Explorer', 'Family Traveler', 'Foodie', 'Luxury Seeker', 'Shopper', 'Solo Traveler'], ['Adventure Seeker', 'Backpacker', 'Culture Explorer', 'Foodie', 'Solo Traveler'], ['Adventure Seeker', 'Backpacker', 'Culture Explorer', 'Family Traveler', 'Foodie', 'Relaxation Seeker', 'Shopper', 'Solo Traveler'], ['Backpacker', 'Digital Nomad', 'Family Traveler'], ['Adventure Seeker', 'Backpacker', 'Culture Explorer', 'Digital Nomad', 'Family Traveler', 'Foodie', 'Relaxation Seeker', 'Shopper', 'Solo Traveler'], ['Adventure Seeker', 'Backpacker', 'Culture Explorer', 'Digital Nomad', 'Family Traveler', 'Foodie', 'Luxury Seeker', 'Relaxation Seeker', 'Solo Traveler'], ['Adventure Seeker', 'Backpacker', 'Culture Explorer', 'Family Traveler', 'Foodie', 'Shopper', 'Solo Traveler'], ['Adventure Seeker', 'Backpacker', 'Culture Explorer', 'Digital Nomad', 'Family Traveler', 'Foodie', 'Luxury Seeker', 'Relaxation Seeker', 'Shopper', 'Solo Traveler'], ['Adventure Seeker', 'Backpacker', 'Culture Explorer', 'Family Traveler', 'Foodie', 'Luxury Seeker', 'Shopper', 'Solo Traveler'], ['Backpacker', 'Digital Nomad', 'Family Traveler', 'Solo Traveler'], ['Adventure Seeker', 'Backpacker', 'Foodie', 'Solo Traveler'], ['Adventure Seeker', 'Solo Traveler'], ['Adventure Seeker', 'Backpacker', 'Culture Explorer', 'Family Traveler', 'Foodie', 'Relaxation Seeker', 'Shopper', 'Solo Traveler'], ['Adventure Seeker', 'Backpacker', 'Culture Explorer', 'Family Traveler', 'Foodie'], ['Adventure Seeker', 'Backpacker', 'Culture Explorer', 'Family Traveler', 'Foodie', 'Luxury Seeker', 'Relaxation Seeker', 'Solo Traveler'], ['Adventure Seeker', 'Backpacker', 'Culture Explorer', 'Digital Nomad', 'Family Traveler', 'Foodie', 'Luxury Seeker', 'Relaxation Seeker', 'Shopper', 'Solo Traveler'], ['Adventure Seeker', 'Backpacker', 'Culture Explorer', 'Digital Nomad', 'Family Traveler', 'Foodie', 'Luxury Seeker', 'Shopper', 'Solo Traveler'], [], ['Backpacker', 'Digital Nomad', 'Family Traveler', 'Relaxation Seeker'], ['Adventure Seeker', 'Backpacker', 'Culture Explorer', 'Digital Nomad', 'Family Traveler', 'Foodie', 'Luxury Seeker', 'Shopper', 'Solo Traveler'], ['Adventure Seeker', 'Backpacker', 'Culture Explorer', 'Family Traveler', 'Foodie', 'Relaxation Seeker', 'Solo Traveler'], [], ['Adventure Seeker', 'Backpacker', 'Culture Explorer', 'Family Traveler', 'Foodie', 'Luxury Seeker', 'Relaxation Seeker', 'Shopper', 'Solo Traveler'], ['Adventure Seeker', 'Backpacker', 'Culture Explorer', 'Family Traveler', 'Foodie', 'Luxury Seeker', 'Relaxation Seeker', 'Solo Traveler'], ['Adventure Seeker', 'Backpacker', 'Culture Explorer', 'Foodie', 'Solo Traveler'], ['Culture Explorer'], ['Backpacker', 'Digital Nomad', 'Family Traveler'], ['Adventure Seeker', 'Backpacker', 'Culture Explorer', 'Family Traveler', 'Foodie', 'Luxury Seeker', 'Shopper', 'Solo Traveler'], ['Backpacker', 'Culture Explorer', 'Digital Nomad', 'Family Traveler', 'Foodie', 'Luxury Seeker', 'Shopper', 'Solo Traveler'], ['Adventure Seeker', 'Backpacker', 'Culture Explorer', 'Digital Nomad', 'Family Traveler', 'Foodie', 'Luxury Seeker', 'Relaxation Seeker', 'Solo Traveler'], ['Adventure Seeker', 'Backpacker', 'Culture Explorer', 'Family Traveler', 'Foodie', 'Solo Traveler'], ['Adventure Seeker', 'Backpacker', 'Foodie', 'Solo Traveler'], ['Adventure Seeker', 'Backpacker', 'Culture Explorer', 'Family Traveler', 'Foodie', 'Solo Traveler'], ['Adventure Seeker', 'Backpacker', 'Culture Explorer', 'Family Traveler', 'Foodie', 'Solo Traveler'], ['Adventure Seeker', 'Backpacker', 'Culture Explorer', 'Family Traveler', 'Foodie', 'Luxury Seeker', 'Relaxation Seeker', 'Solo Traveler'], ['Adventure Seeker', 'Backpacker', 'Culture Explorer', 'Family Traveler', 'Foodie', 'Shopper'], ['Adventure Seeker', 'Backpacker', 'Culture Explorer', 'Family Traveler', 'Foodie', 'Solo Traveler'], ['Backpacker', 'Culture Explorer', 'Digital Nomad', 'Family Traveler', 'Foodie', 'Luxury Seeker', 'Relaxation Seeker', 'Solo Traveler'], ['Backpacker', 'Culture Explorer', 'Digital Nomad', 'Family Traveler', 'Solo Traveler'], ['Backpacker', 'Solo Traveler'], ['Adventure Seeker', 'Backpacker', 'Culture Explorer', 'Family Traveler', 'Foodie', 'Solo Traveler'], ['Adventure Seeker', 'Backpacker', 'Culture Explorer', 'Digital Nomad', 'Family Traveler', 'Foodie', 'Luxury Seeker', 'Relaxation Seeker', 'Shopper', 'Solo Traveler'], ['Adventure Seeker', 'Solo Traveler'], ['Adventure Seeker', 'Luxury Seeker'], ['Adventure Seeker', 'Backpacker', 'Culture Explorer', 'Family Traveler', 'Foodie', 'Solo Traveler'], [], [], ['Adventure Seeker'], ['Adventure Seeker'], ['Adventure Seeker'], [], ['Adventure Seeker', 'Culture Explorer', 'Family Traveler', 'Relaxation Seeker'], ['Adventure Seeker', 'Backpacker', 'Culture Explorer', 'Family Traveler', 'Solo Traveler'], ['Adventure Seeker'], ['Adventure Seeker', 'Backpacker', 'Culture Explorer', 'Family Traveler', 'Foodie', 'Relaxation Seeker', 'Solo Traveler'], ['Adventure Seeker', 'Culture Explorer'], ['Adventure Seeker'], ['Adventure Seeker', 'Backpacker', 'Culture Explorer', 'Family Traveler', 'Foodie', 'Relaxation Seeker'], ['Adventure Seeker'], [], ['Adventure Seeker', 'Backpacker', 'Culture Explorer', 'Family Traveler', 'Foodie', 'Relaxation Seeker', 'Solo Traveler'], ['Adventure Seeker'], ['Adventure Seeker'], ['Adventure Seeker', 'Backpacker', 'Culture Explorer'], [], ['Adventure Seeker'], [], ['Adventure Seeker'], ['Adventure Seeker', 'Backpacker', 'Culture Explorer', 'Family Traveler', 'Foodie', 'Luxury Seeker', 'Relaxation Seeker', 'Shopper'], ['Adventure Seeker'], ['Adventure Seeker'], [], ['Adventure Seeker', 'Backpacker', 'Culture Explorer', 'Family Traveler', 'Foodie', 'Relaxation Seeker', 'Solo Traveler'], ['Adventure Seeker'], ['Adventure Seeker', 'Backpacker', 'Culture Explorer', 'Family Traveler'], ['Adventure Seeker'], ['Adventure Seeker'], ['Adventure Seeker'], ['Adventure Seeker'], ['Adventure Seeker', 'Backpacker', 'Culture Explorer', 'Family Traveler', 'Foodie', 'Luxury Seeker', 'Relaxation Seeker'], ['Adventure Seeker'], [], ['Adventure Seeker', 'Backpacker', 'Culture Explorer', 'Family Traveler', 'Relaxation Seeker', 'Solo Traveler'], ['Adventure Seeker'], ['Adventure Seeker'], ['Adventure Seeker'], [], ['Adventure Seeker', 'Backpacker', 'Culture Explorer', 'Solo Traveler'], [], ['Adventure Seeker'], [], [], ['Adventure Seeker'], ['Adventure Seeker', 'Backpacker', 'Culture Explorer', 'Family Traveler', 'Relaxation Seeker', 'Solo Traveler'], ['Adventure Seeker'], ['Adventure Seeker'], [], ['Adventure Seeker', 'Culture Explorer'], ['Adventure Seeker', 'Backpacker'], ['Adventure Seeker'], ['Adventure Seeker', 'Culture Explorer', 'Family Traveler', 'Relaxation Seeker'], ['Adventure Seeker'], ['Adventure Seeker', 'Backpacker', 'Culture Explorer', 'Family Traveler', 'Foodie', 'Relaxation Seeker', 'Solo Traveler'], ['Adventure Seeker', 'Backpacker', 'Culture Explorer', 'Family Traveler', 'Foodie', 'Luxury Seeker', 'Relaxation Seeker', 'Shopper', 'Solo Traveler'], ['Adventure Seeker', 'Backpacker', 'Culture Explorer', 'Family Traveler', 'Foodie', 'Shopper', 'Solo Traveler'], ['Adventure Seeker', 'Culture Explorer', 'Foodie'], ['Adventure Seeker', 'Backpacker', 'Culture Explorer', 'Family Traveler', 'Foodie', 'Relaxation Seeker', 'Solo Traveler'], ['Adventure Seeker', 'Backpacker', 'Culture Explorer', 'Digital Nomad', 'Family Traveler', 'Foodie', 'Luxury Seeker', 'Relaxation Seeker', 'Shopper', 'Solo Traveler'], ['Adventure Seeker', 'Backpacker', 'Culture Explorer', 'Digital Nomad', 'Family Traveler', 'Foodie', 'Luxury Seeker', 'Relaxation Seeker', 'Shopper', 'Solo Traveler'], [], ['Culture Explorer', 'Foodie', 'Shopper'], ['Adventure Seeker', 'Backpacker', 'Culture Explorer', 'Digital Nomad', 'Family Traveler', 'Foodie', 'Luxury Seeker', 'Relaxation Seeker', 'Shopper', 'Solo Traveler'], ['Adventure Seeker', 'Backpacker', 'Culture Explorer', 'Family Traveler', 'Foodie', 'Luxury Seeker', 'Relaxation Seeker', 'Shopper', 'Solo Traveler'], [], ['Adventure Seeker', 'Backpacker', 'Culture Explorer', 'Digital Nomad', 'Family Traveler', 'Foodie', 'Luxury Seeker', 'Relaxation Seeker', 'Shopper', 'Solo Traveler'], ['Backpacker', 'Culture Explorer', 'Foodie', 'Shopper'], ['Adventure Seeker', 'Backpacker', 'Culture Explorer', 'Family Traveler', 'Foodie', 'Luxury Seeker', 'Relaxation Seeker', 'Shopper', 'Solo Traveler'], ['Adventure Seeker', 'Backpacker', 'Culture Explorer', 'Foodie', 'Shopper'], ['Adventure Seeker', 'Backpacker', 'Culture Explorer', 'Digital Nomad', 'Family Traveler', 'Foodie', 'Luxury Seeker', 'Relaxation Seeker', 'Shopper', 'Solo Traveler'], [], ['Adventure Seeker', 'Backpacker', 'Culture Explorer', 'Digital Nomad', 'Family Traveler', 'Foodie', 'Luxury Seeker', 'Relaxation Seeker', 'Shopper', 'Solo Traveler'], [], ['Adventure Seeker', 'Backpacker', 'Culture Explorer', 'Family Traveler', 'Foodie', 'Relaxation Seeker', 'Solo Traveler'], ['Backpacker', 'Culture Explorer', 'Family Traveler', 'Foodie', 'Shopper'], ['Adventure Seeker', 'Backpacker', 'Culture Explorer', 'Family Traveler', 'Foodie', 'Luxury Seeker', 'Relaxation Seeker', 'Shopper', 'Solo Traveler'], ['Adventure Seeker', 'Backpacker', 'Culture Explorer', 'Family Traveler', 'Foodie', 'Shopper', 'Solo Traveler'], ['Adventure Seeker', 'Backpacker', 'Culture Explorer', 'Digital Nomad', 'Family Traveler', 'Foodie', 'Luxury Seeker', 'Relaxation Seeker', 'Shopper', 'Solo Traveler'], ['Adventure Seeker', 'Backpacker', 'Culture Explorer', 'Digital Nomad', 'Family Traveler', 'Foodie', 'Luxury Seeker', 'Relaxation Seeker', 'Shopper', 'Solo Traveler'], ['Adventure Seeker', 'Backpacker', 'Culture Explorer', 'Foodie', 'Solo Traveler'], ['Adventure Seeker', 'Backpacker', 'Culture Explorer', 'Family Traveler', 'Foodie', 'Luxury Seeker', 'Relaxation Seeker', 'Shopper', 'Solo Traveler'], ['Backpacker', 'Shopper'], ['Adventure Seeker', 'Backpacker', 'Culture Explorer', 'Family Traveler', 'Foodie', 'Shopper', 'Solo Traveler'], ['Adventure Seeker', 'Backpacker', 'Culture Explorer', 'Digital Nomad', 'Family Traveler', 'Foodie', 'Luxury Seeker', 'Relaxation Seeker', 'Shopper', 'Solo Traveler'], ['Adventure Seeker', 'Backpacker', 'Culture Explorer', 'Foodie', 'Solo Traveler'], ['Adventure Seeker', 'Backpacker', 'Culture Explorer', 'Digital Nomad', 'Family Traveler', 'Foodie', 'Luxury Seeker', 'Relaxation Seeker', 'Shopper', 'Solo Traveler'], [], ['Adventure Seeker', 'Backpacker', 'Culture Explorer', 'Family Traveler', 'Foodie', 'Luxury Seeker', 'Relaxation Seeker', 'Shopper', 'Solo Traveler'], ['Adventure Seeker', 'Backpacker', 'Culture Explorer', 'Digital Nomad', 'Family Traveler', 'Foodie', 'Relaxation Seeker', 'Shopper', 'Solo Traveler'], ['Adventure Seeker', 'Backpacker', 'Culture Explorer', 'Family Traveler', 'Foodie', 'Luxury Seeker', 'Relaxation Seeker', 'Shopper', 'Solo Traveler'], ['Adventure Seeker', 'Backpacker', 'Culture Explorer', 'Family Traveler', 'Foodie', 'Relaxation Seeker', 'Solo Traveler'], ['Solo Traveler'], ['Adventure Seeker', 'Backpacker', 'Culture Explorer', 'Family Traveler', 'Foodie', 'Luxury Seeker', 'Relaxation Seeker', 'Shopper', 'Solo Traveler'], ['Adventure Seeker', 'Backpacker', 'Culture Explorer', 'Digital Nomad', 'Family Traveler', 'Foodie', 'Luxury Seeker', 'Relaxation Seeker', 'Shopper', 'Solo Traveler'], ['Adventure Seeker', 'Backpacker', 'Culture Explorer', 'Digital Nomad', 'Family Traveler', 'Foodie', 'Luxury Seeker', 'Relaxation Seeker', 'Shopper', 'Solo Traveler'], ['Adventure Seeker', 'Backpacker', 'Culture Explorer', 'Family Traveler', 'Foodie', 'Luxury Seeker', 'Relaxation Seeker', 'Shopper'], ['Adventure Seeker', 'Backpacker', 'Culture Explorer', 'Family Traveler', 'Foodie', 'Luxury Seeker', 'Relaxation Seeker', 'Shopper', 'Solo Traveler'], ['Adventure Seeker', 'Backpacker', 'Culture Explorer', 'Digital Nomad', 'Family Traveler', 'Foodie', 'Luxury Seeker', 'Relaxation Seeker', 'Shopper', 'Solo Traveler'], ['Adventure Seeker', 'Backpacker', 'Culture Explorer', 'Digital Nomad', 'Family Traveler', 'Foodie', 'Shopper', 'Solo Traveler'], ['Adventure Seeker', 'Backpacker', 'Culture Explorer', 'Family Traveler', 'Foodie', 'Luxury Seeker', 'Relaxation Seeker', 'Shopper', 'Solo Traveler'], ['Adventure Seeker', 'Backpacker', 'Culture Explorer', 'Family Traveler', 'Foodie', 'Shopper'], ['Backpacker', 'Culture Explorer', 'Foodie', 'Shopper'], ['Adventure Seeker', 'Backpacker', 'Culture Explorer', 'Family Traveler', 'Foodie', 'Luxury Seeker', 'Relaxation Seeker', 'Shopper', 'Solo Traveler'], ['Adventure Seeker', 'Backpacker', 'Culture Explorer', 'Digital Nomad', 'Family Traveler', 'Foodie', 'Luxury Seeker', 'Relaxation Seeker', 'Shopper', 'Solo Traveler'], ['Adventure Seeker', 'Backpacker', 'Culture Explorer', 'Family Traveler', 'Foodie', 'Relaxation Seeker', 'Shopper', 'Solo Traveler'], ['Adventure Seeker', 'Backpacker', 'Culture Explorer', 'Foodie', 'Shopper', 'Solo Traveler'], ['Adventure Seeker', 'Backpacker', 'Culture Explorer', 'Digital Nomad', 'Family Traveler', 'Foodie', 'Luxury Seeker', 'Relaxation Seeker', 'Shopper', 'Solo Traveler'], ['Adventure Seeker', 'Backpacker', 'Culture Explorer', 'Family Traveler', 'Foodie', 'Relaxation Seeker', 'Shopper', 'Solo Traveler'], ['Adventure Seeker', 'Backpacker', 'Culture Explorer', 'Foodie', 'Solo Traveler'], ['Adventure Seeker', 'Backpacker', 'Culture Explorer', 'Digital Nomad', 'Family Traveler', 'Foodie', 'Relaxation Seeker', 'Shopper', 'Solo Traveler'], ['Shopper'], ['Backpacker', 'Culture Explorer', 'Foodie', 'Shopper'], ['Adventure Seeker', 'Backpacker', 'Culture Explorer', 'Family Traveler', 'Foodie', 'Shopper', 'Solo Traveler'], ['Adventure Seeker', 'Backpacker', 'Culture Explorer', 'Family Traveler', 'Foodie', 'Solo Traveler'], ['Adventure Seeker', 'Backpacker', 'Culture Explorer', 'Digital Nomad', 'Family Traveler', 'Foodie', 'Luxury Seeker', 'Relaxation Seeker', 'Shopper', 'Solo Traveler'], ['Adventure Seeker', 'Backpacker', 'Culture Explorer', 'Family Traveler', 'Foodie', 'Luxury Seeker', 'Relaxation Seeker', 'Shopper', 'Solo Traveler'], ['Adventure Seeker', 'Backpacker', 'Culture Explorer', 'Digital Nomad', 'Family Traveler', 'Foodie', 'Luxury Seeker', 'Relaxation Seeker', 'Shopper', 'Solo Traveler'], ['Adventure Seeker', 'Backpacker', 'Culture Explorer', 'Family Traveler', 'Foodie', 'Luxury Seeker', 'Relaxation Seeker', 'Shopper', 'Solo Traveler'], ['Adventure Seeker', 'Backpacker', 'Culture Explorer', 'Family Traveler', 'Foodie', 'Shopper', 'Solo Traveler'], ['Adventure Seeker', 'Backpacker', 'Culture Explorer', 'Family Traveler', 'Foodie', 'Shopper', 'Solo Traveler'], ['Adventure Seeker', 'Backpacker', 'Culture Explorer', 'Digital Nomad', 'Family Traveler', 'Foodie', 'Luxury Seeker', 'Relaxation Seeker', 'Shopper', 'Solo Traveler'], ['Adventure Seeker', 'Backpacker', 'Culture Explorer', 'Digital Nomad', 'Family Traveler', 'Foodie', 'Luxury Seeker', 'Relaxation Seeker', 'Shopper', 'Solo Traveler'], ['Adventure Seeker', 'Culture Explorer', 'Family Traveler', 'Foodie', 'Luxury Seeker', 'Relaxation Seeker', 'Shopper'], ['Culture Explorer', 'Luxury Seeker'], ['Adventure Seeker', 'Culture Explorer'], [], ['Adventure Seeker', 'Backpacker', 'Culture Explorer', 'Family Traveler', 'Foodie', 'Luxury Seeker', 'Relaxation Seeker', 'Solo Traveler'], ['Adventure Seeker', 'Backpacker', 'Culture Explorer', 'Family Traveler', 'Foodie', 'Luxury Seeker', 'Relaxation Seeker', 'Shopper', 'Solo Traveler'], ['Adventure Seeker', 'Culture Explorer', 'Family Traveler'], ['Adventure Seeker', 'Backpacker', 'Culture Explorer', 'Family Traveler', 'Foodie', 'Luxury Seeker', 'Relaxation Seeker', 'Solo Traveler'], ['Adventure Seeker', 'Backpacker', 'Culture Explorer', 'Digital Nomad', 'Family Traveler', 'Foodie', 'Luxury Seeker', 'Relaxation Seeker', 'Shopper', 'Solo Traveler'], ['Adventure Seeker', 'Backpacker', 'Culture Explorer', 'Digital Nomad', 'Family Traveler', 'Foodie', 'Luxury Seeker', 'Relaxation Seeker', 'Shopper', 'Solo Traveler'], ['Adventure Seeker', 'Culture Explorer', 'Family Traveler', 'Relaxation Seeker'], ['Culture Explorer'], ['Adventure Seeker', 'Culture Explorer', 'Family Traveler', 'Foodie', 'Luxury Seeker', 'Relaxation Seeker', 'Shopper'], ['Adventure Seeker', 'Backpacker', 'Culture Explorer', 'Family Traveler', 'Foodie', 'Relaxation Seeker', 'Shopper', 'Solo Traveler'], [], ['Culture Explorer'], [], ['Adventure Seeker', 'Culture Explorer', 'Family Traveler', 'Relaxation Seeker'], ['Adventure Seeker', 'Backpacker', 'Culture Explorer', 'Foodie', 'Shopper'], ['Adventure Seeker', 'Backpacker', 'Culture Explorer', 'Digital Nomad', 'Family Traveler', 'Foodie', 'Luxury Seeker', 'Relaxation Seeker', 'Shopper', 'Solo Traveler'], ['Adventure Seeker', 'Backpacker', 'Culture Explorer', 'Digital Nomad', 'Family Traveler', 'Foodie', 'Luxury Seeker', 'Relaxation Seeker', 'Shopper', 'Solo Traveler'], ['Culture Explorer', 'Luxury Seeker'], ['Backpacker', 'Culture Explorer', 'Shopper'], ['Adventure Seeker', 'Culture Explorer'], ['Culture Explorer', 'Digital Nomad', 'Luxury Seeker', 'Shopper'], ['Culture Explorer', 'Foodie'], ['Adventure Seeker', 'Backpacker', 'Culture Explorer', 'Family Traveler', 'Foodie', 'Luxury Seeker', 'Relaxation Seeker', 'Shopper', 'Solo Traveler'], [], ['Culture Explorer'], ['Adventure Seeker', 'Culture Explorer', 'Family Traveler', 'Relaxation Seeker'], ['Adventure Seeker', 'Culture Explorer'], ['Adventure Seeker', 'Backpacker', 'Culture Explorer', 'Digital Nomad', 'Family Traveler', 'Foodie', 'Luxury Seeker', 'Relaxation Seeker', 'Shopper', 'Solo Traveler'], ['Adventure Seeker', 'Backpacker', 'Culture Explorer', 'Family Traveler', 'Foodie', 'Relaxation Seeker'], ['Adventure Seeker', 'Culture Explorer', 'Family Traveler', 'Foodie', 'Luxury Seeker', 'Relaxation Seeker'], ['Adventure Seeker', 'Culture Explorer'], ['Culture Explorer'], ['Culture Explorer', 'Foodie', 'Luxury Seeker', 'Shopper'], ['Adventure Seeker', 'Culture Explorer'], [], ['Adventure Seeker', 'Culture Explorer', 'Relaxation Seeker'], ['Adventure Seeker', 'Backpacker', 'Culture Explorer', 'Family Traveler', 'Luxury Seeker', 'Relaxation Seeker', 'Solo Traveler'], ['Adventure Seeker', 'Backpacker', 'Culture Explorer', 'Family Traveler', 'Foodie', 'Luxury Seeker', 'Relaxation Seeker', 'Solo Traveler'], ['Adventure Seeker', 'Backpacker', 'Culture Explorer', 'Family Traveler', 'Foodie', 'Relaxation Seeker', 'Shopper', 'Solo Traveler'], ['Adventure Seeker', 'Backpacker', 'Culture Explorer', 'Family Traveler', 'Foodie', 'Luxury Seeker', 'Relaxation Seeker', 'Solo Traveler'], ['Adventure Seeker', 'Backpacker', 'Culture Explorer', 'Family Traveler', 'Foodie', 'Luxury Seeker', 'Relaxation Seeker', 'Shopper'], ['Adventure Seeker', 'Culture Explorer', 'Family Traveler', 'Foodie', 'Luxury Seeker', 'Relaxation Seeker'], ['Adventure Seeker', 'Culture Explorer'], ['Culture Explorer'], ['Culture Explorer'], ['Adventure Seeker', 'Backpacker', 'Culture Explorer', 'Family Traveler', 'Foodie', 'Luxury Seeker', 'Relaxation Seeker', 'Solo Traveler'], ['Culture Explorer', 'Digital Nomad', 'Family Traveler', 'Foodie', 'Luxury Seeker', 'Shopper'], ['Adventure Seeker', 'Culture Explorer', 'Family Traveler', 'Foodie'], ['Adventure Seeker', 'Backpacker', 'Culture Explorer', 'Digital Nomad', 'Family Traveler', 'Foodie', 'Luxury Seeker', 'Relaxation Seeker', 'Shopper', 'Solo Traveler'], ['Adventure Seeker', 'Culture Explorer'], ['Adventure Seeker', 'Backpacker', 'Culture Explorer', 'Family Traveler', 'Foodie', 'Luxury Seeker', 'Relaxation Seeker', 'Shopper', 'Solo Traveler'], ['Adventure Seeker', 'Backpacker', 'Culture Explorer', 'Luxury Seeker', 'Relaxation Seeker', 'Solo Traveler'], ['Relaxation Seeker'], [], ['Adventure Seeker', 'Culture Explorer', 'Family Traveler', 'Foodie', 'Luxury Seeker', 'Relaxation Seeker', 'Solo Traveler'], ['Backpacker', 'Culture Explorer', 'Digital Nomad', 'Family Traveler', 'Foodie', 'Shopper'], [], ['Adventure Seeker', 'Culture Explorer', 'Family Traveler', 'Foodie', 'Luxury Seeker', 'Relaxation Seeker'], ['Adventure Seeker', 'Backpacker', 'Culture Explorer', 'Family Traveler', 'Foodie', 'Luxury Seeker', 'Shopper'], [], ['Adventure Seeker', 'Culture Explorer'], ['Adventure Seeker', 'Backpacker', 'Culture Explorer', 'Family Traveler', 'Foodie', 'Relaxation Seeker'], ['Backpacker', 'Culture Explorer', 'Family Traveler', 'Solo Traveler'], ['Luxury Seeker', 'Relaxation Seeker', 'Shopper'], [], [], [], ['Adventure Seeker'], ['Digital Nomad', 'Family Traveler'], [], [], [], ['Adventure Seeker', 'Backpacker', 'Culture Explorer', 'Family Traveler', 'Foodie', 'Relaxation Seeker', 'Solo Traveler'], ['Backpacker'], ['Solo Traveler'], ['Adventure Seeker', 'Backpacker', 'Culture Explorer', 'Family Traveler', 'Solo Traveler'], [], [], ['Backpacker', 'Digital Nomad', 'Family Traveler', 'Foodie', 'Luxury Seeker', 'Relaxation Seeker', 'Shopper'], ['Backpacker', 'Culture Explorer', 'Family Traveler', 'Foodie', 'Solo Traveler'], [], ['Solo Traveler'], [], ['Culture Explorer'], ['Backpacker'], ['Adventure Seeker', 'Backpacker', 'Culture Explorer', 'Family Traveler', 'Foodie', 'Luxury Seeker', 'Relaxation Seeker', 'Shopper'], ['Adventure Seeker', 'Backpacker', 'Culture Explorer', 'Digital Nomad', 'Family Traveler', 'Foodie', 'Luxury Seeker', 'Relaxation Seeker', 'Shopper'], [], ['Digital Nomad'], ['Luxury Seeker'], [], ['Adventure Seeker', 'Backpacker', 'Culture Explorer', 'Family Traveler', 'Foodie', 'Relaxation Seeker', 'Shopper', 'Solo Traveler'], [], [], [], [], [], [], [], [], ['Foodie'], [], [], [], [], [], [], [], [], [], [], [], [], [], [], ['Foodie'], [], [], [], [], [], ['Adventure Seeker', 'Backpacker', 'Culture Explorer', 'Family Traveler', 'Foodie'], [], [], [], [], [], [], [], [], ['Adventure Seeker'], [], [], [], ['Family Traveler', 'Foodie'], [], [], [], [], [], [], [], [], [], [], ['Foodie'], [], [], [], [], [], [], [], [], [], [], [], [], [], ['Shopper'], [], [], [], [], [], [], [], [], [], [], [], [], [], [], ['Digital Nomad', 'Relaxation Seeker'], ['Luxury Seeker'], [], ['Culture Explorer', 'Shopper'], [], [], [], [], [], [], [], [], [], [], [], [], [], [], ['Relaxation Seeker'], [], [], [], [], [], [], [], [], [], [], [], [], [], [], [], [], [], ['Culture Explorer'], ['Foodie'], [], [], [], [], [], ['Adventure Seeker', 'Culture Explorer'], [], [], [], [], ['Adventure Seeker', 'Relaxation Seeker'], [], [], [], ['Foodie'], [], [], ['Family Traveler'], [], [], [], [], [], [], [], [], [], [], [], [], [], [], [], [], [], [], [], [], [], [], [], [], [], ['Adventure Seeker', 'Culture Explorer', 'Family Traveler'], [], ['Adventure Seeker', 'Culture Explorer'], [], [], [], [], [], [], [], [], [], [], [], [], [], [], ['Foodie'], [], [], [], [], [], [], ['Family Traveler'], [], ['Foodie'], [], [], [], ['Adventure Seeker'], [], [], [], [], [], [], [], [], [], [], [], [], [], [], ['Adventure Seeker'], [], [], ['Adventure Seeker', 'Culture Explorer', 'Family Traveler', 'Relaxation Seeker'], [], ['Adventure Seeker'], ['Digital Nomad', 'Family Traveler', 'Relaxation Seeker'], [], [], [], [], ['Foodie'], [], [], [], [], [], [], [], ['Family Traveler', 'Foodie'], [], [], [], ['Adventure Seeker', 'Culture Explorer', 'Family Traveler', 'Foodie'], [], ['Adventure Seeker', 'Backpacker', 'Culture Explorer', 'Family Traveler', 'Foodie', 'Shopper'], ['Foodie'], [], [], [], ['Family Traveler'], [], [], [], [], [], [], ['Luxury Seeker', 'Relaxation Seeker'], [], [], ['Culture Explorer'], ['Adventure Seeker'], [], [], [], [], [], ['Foodie'], [], [], [], [], [], [], [], [], [], [], [], [], [], [], [], [], ['Foodie'], [], [], [], [], [], [], [], ['Culture Explorer', 'Shopper'], [], [], ['Adventure Seeker'], ['Foodie'], [], ['Foodie'], ['Adventure Seeker', 'Culture Explorer', 'Family Traveler', 'Foodie', 'Luxury Seeker', 'Relaxation Seeker', 'Shopper'], [], [], ['Foodie'], [], [], [], [], ['Foodie', 'Luxury Seeker'], [], [], [], [], ['Foodie'], [], [], [], [], [], [], [], [], ['Culture Explorer'], [], [], [], [], [], [], ['Adventure Seeker', 'Relaxation Seeker'], [], [], ['Culture Explorer'], ['Culture Explorer'], ['Backpacker', 'Culture Explorer', 'Foodie', 'Shopper'], [], [], ['Digital Nomad'], [], ['Culture Explorer'], [], ['Adventure Seeker', 'Culture Explorer'], [], [], [], [], [], [], [], ['Foodie', 'Shopper'], [], [], [], [], ['Foodie'], [], ['Foodie'], ['Foodie'], [], [], ['Culture Explorer', 'Foodie', 'Shopper'], [], [], ['Foodie'], [], [], [], ['Relaxation Seeker'], [], [], ['Backpacker'], [], [], [], [], [], [], [], [], [], [], [], [], [], [], [], [], ['Culture Explorer', 'Shopper'], [], ['Relaxation Seeker'], [], [], [], [], [], [], [], [], [], ['Culture Explorer'], [], [], [], [], [], [], [], ['Adventure Seeker', 'Culture Explorer', 'Family Traveler'], [], [], [], [], [], [], [], [], [], [], [], ['Backpacker', 'Culture Explorer', 'Family Traveler'], [], ['Adventure Seeker'], [], [], ['Foodie'], [], ['Adventure Seeker', 'Backpacker', 'Culture Explorer', 'Family Traveler', 'Foodie', 'Relaxation Seeker'], [], [], [], [], [], ['Backpacker'], [], [], [], [], [], [], [], ['Culture Explorer'], [], [], [], [], ['Family Traveler'], [], [], [], [], [], ['Foodie', 'Relaxation Seeker'], [], ['Foodie'], [], ['Culture Explorer'], ['Foodie'], [], [], [], [], [], [], [], [], [], [], [], [], [], [], ['Adventure Seeker', 'Culture Explorer', 'Relaxation Seeker'], [], [], ['Foodie'], [], [], [], [], ['Adventure Seeker', 'Culture Explorer'], [], [], [], [], [], [], [], ['Foodie'], ['Adventure Seeker'], [], [], [], [], [], [], [], [], [], [], ['Adventure Seeker', 'Culture Explorer'], [], [], [], [], [], [], ['Foodie', 'Shopper'], [], [], [], ['Foodie'], [], ['Culture Explorer'], [], [], [], [], [], [], [], [], [], ['Culture Explorer', 'Family Traveler', 'Luxury Seeker', 'Relaxation Seeker', 'Shopper'], [], [], [], [], ['Adventure Seeker'], [], [], [], [], [], ['Foodie'], [], [], [], [], [], [], ['Luxury Seeker'], ['Adventure Seeker', 'Culture Explorer', 'Family Traveler'], [], [], [], [], [], [], [], [], [], [], [], [], [], [], [], [], ['Backpacker', 'Foodie'], [], [], [], [], [], ['Culture Explorer'], [], [], [], [], [], [], [], [], [], [], [], [], [], ['Adventure Seeker'], [], [], [], [], ['Foodie'], [], ['Luxury Seeker', 'Relaxation Seeker'], [], [], [], ['Foodie'], ['Foodie'], [], [], [], [], ['Culture Explorer', 'Foodie', 'Shopper'], ['Culture Explorer', 'Shopper'], ['Luxury Seeker', 'Relaxation Seeker'], [], [], [], [], [], ['Foodie', 'Shopper'], [], [], [], [], ['Foodie'], [], [], [], [], [], [], [], [], [], ['Backpacker', 'Foodie', 'Solo Traveler'], [], [], [], ['Culture Explorer'], [], [], [], ['Family Traveler'], [], [], [], [], [], [], [], [], [], ['Foodie'], [], [], [], [], ['Foodie'], ['Adventure Seeker'], [], [], [], [], [], ['Foodie'], ['Adventure Seeker', 'Culture Explorer', 'Foodie', 'Shopper'], [], [], ['Culture Explorer', 'Shopper'], [], [], [], [], [], ['Adventure Seeker', 'Backpacker', 'Culture Explorer', 'Family Traveler', 'Foodie', 'Solo Traveler'], [], [], [], [], [], [], [], ['Culture Explorer'], [], [], [], [], [], [], [], [], [], [], [], [], [], [], [], [], [], [], [], [], [], ['Foodie', 'Luxury Seeker'], [], [], [], [], ['Adventure Seeker'], [], [], [], [], [], ['Digital Nomad'], [], [], [], [], [], [], [], [], [], [], [], [], [], [], [], [], ['Relaxation Seeker'], [], [], [], [], [], [], [], [], [], [], [], ['Foodie'], [], [], [], [], [], [], [], ['Culture Explorer'], ['Backpacker', 'Culture Explorer', 'Foodie'], [], [], [], [], [], [], ['Foodie'], ['Culture Explorer', 'Foodie'], [], [], [], [], [], [], [], [], [], [], [], [], [], [], [], [], ['Family Traveler', 'Relaxation Seeker'], [], [], [], [], [], [], [], [], [], [], [], [], [], ['Culture Explorer'], [], [], [], [], [], [], [], ['Adventure Seeker', 'Culture Explorer', 'Family Traveler'], [], [], ['Culture Explorer', 'Foodie', 'Shopper'], [], [], [], ['Family Traveler'], [], [], [], ['Digital Nomad'], [], [], ['Foodie'], [], [], [], [], [], ['Foodie'], [], [], ['Backpacker', 'Foodie'], ['Culture Explorer', 'Foodie'], [], [], [], [], [], ['Culture Explorer', 'Family Traveler', 'Foodie'], ['Foodie', 'Shopper'], [], ['Foodie'], [], [], [], [], [], [], ['Foodie'], [], [], [], [], [], [], ['Adventure Seeker', 'Culture Explorer', 'Family Traveler', 'Foodie', 'Relaxation Seeker'], [], [], [], [], [], ['Digital Nomad', 'Relaxation Seeker'], [], [], [], [], [], ['Culture Explorer', 'Foodie'], [], [], [], [], [], [], [], [], [], [], [], [], [], ['Luxury Seeker'], [], [], [], ['Culture Explorer', 'Family Traveler', 'Foodie'], [], [], [], [], ['Shopper'], ['Culture Explorer'], ['Foodie'], [], ['Backpacker', 'Foodie', 'Shopper'], [], [], [], [], [], ['Shopper'], [], [], [], [], [], [], [], [], [], ['Solo Traveler'], [], [], [], [], [], [], [], [], [], ['Foodie'], [], [], [], [], [], [], [], [], [], [], [], [], [], [], [], [], [], [], [], [], ['Foodie'], [], ['Shopper'], [], [], [], ['Foodie'], ['Shopper'], [], [], [], [], [], [], [], [], [], [], [], [], [], [], [], ['Culture Explorer'], [], ['Relaxation Seeker'], [], [], [], [], [], [], [], [], [], [], [], ['Backpacker', 'Foodie'], [], [], ['Adventure Seeker', 'Culture Explorer', 'Family Traveler'], [], [], ['Adventure Seeker'], [], ['Adventure Seeker', 'Backpacker'], [], [], [], [], [], [], [], [], [], [], [], [], [], [], [], [], ['Foodie'], ['Culture Explorer'], [], [], [], [], ['Foodie'], ['Adventure Seeker', 'Culture Explorer'], [], [], ['Foodie'], [], [], [], [], [], [], ['Foodie'], ['Culture Explorer'], [], [], [], [], [], [], [], ['Luxury Seeker', 'Shopper'], [], [], [], [], [], [], [], ['Culture Explorer'], [], [], [], [], [], [], [], [], [], [], [], [], [], [], ['Foodie'], [], [], [], [], [], [], [], [], [], [], ['Backpacker', 'Culture Explorer', 'Foodie', 'Shopper'], [], [], [], [], [], ['Backpacker'], ['Adventure Seeker', 'Culture Explorer', 'Family Traveler', 'Foodie'], [], [], [], [], [], [], [], ['Foodie'], [], [], [], ['Culture Explorer', 'Foodie'], [], [], [], ['Adventure Seeker', 'Culture Explorer', 'Family Traveler', 'Foodie'], [], [], [], [], [], ['Adventure Seeker'], [], [], ['Foodie'], [], [], ['Family Traveler'], ['Foodie'], [], [], [], [], [], [], [], [], [], [], [], [], [], [], ['Culture Explorer'], [], ['Foodie'], ['Culture Explorer'], [], [], [], [], [], ['Family Traveler'], [], [], [], [], ['Backpacker', 'Foodie'], [], [], [], [], [], ['Adventure Seeker', 'Culture Explorer', 'Family Traveler', 'Luxury Seeker', 'Relaxation Seeker'], [], [], [], [], [], [], [], ['Foodie'], [], [], [], [], [], [], [], [], [], [], [], [], [], [], [], [], [], [], [], ['Culture Explorer'], [], [], [], [], [], [], [], [], [], [], [], [], [], [], [], ['Backpacker', 'Foodie'], [], [], [], [], [], [], [], [], ['Foodie'], ['Adventure Seeker'], [], [], [], [], [], [], [], ['Adventure Seeker'], [], [], [], ['Foodie'], ['Luxury Seeker'], ['Adventure Seeker'], [], [], [], [], [], ['Culture Explorer', 'Family Traveler'], ['Culture Explorer', 'Foodie', 'Shopper'], [], [], ['Culture Explorer'], [], [], [], [], [], ['Foodie'], ['Foodie'], [], [], [], [], [], [], [], [], ['Backpacker', 'Foodie'], [], [], [], ['Adventure Seeker', 'Culture Explorer', 'Family Traveler', 'Foodie'], [], [], [], [], [], [], [], [], [], [], [], [], ['Digital Nomad'], [], ['Culture Explorer'], [], [], [], ['Relaxation Seeker'], [], ['Digital Nomad'], [], [], [], ['Shopper'], ['Shopper'], ['Adventure Seeker'], [], [], ['Foodie'], [], ['Adventure Seeker', 'Culture Explorer', 'Family Traveler'], [], [], [], [], [], [], [], [], ['Culture Explorer'], [], [], [], [], [], ['Foodie'], [], [], [], [], [], [], [], [], [], [], [], [], [], [], ['Foodie'], [], [], [], ['Backpacker', 'Culture Explorer', 'Family Traveler', 'Foodie', 'Luxury Seeker', 'Relaxation Seeker'], ['Culture Explorer'], [], ['Relaxation Seeker'], [], [], ['Foodie'], [], ['Culture Explorer', 'Foodie'], [], [], ['Foodie'], [], [], [], [], [], ['Adventure Seeker', 'Culture Explorer'], [], [], [], [], [], [], [], ['Family Traveler', 'Foodie'], [], [], [], [], [], [], [], [], [], ['Backpacker', 'Foodie'], [], [], ['Adventure Seeker'], [], [], [], ['Foodie'], [], [], [], [], [], ['Family Traveler'], [], ['Foodie'], [], [], [], ['Foodie'], [], [], [], ['Culture Explorer'], [], ['Foodie'], [], [], [], ['Adventure Seeker', 'Backpacker', 'Culture Explorer', 'Family Traveler', 'Foodie', 'Shopper', 'Solo Traveler'], [], [], ['Foodie'], [], ['Foodie'], [], [], [], [], [], [], [], [], [], ['Foodie'], ['Adventure Seeker', 'Backpacker', 'Shopper'], [], [], [], [], [], [], [], [], [], [], [], ['Foodie'], [], [], [], [], [], [], [], ['Adventure Seeker'], [], [], [], ['Adventure Seeker', 'Backpacker', 'Culture Explorer', 'Family Traveler', 'Foodie', 'Luxury Seeker', 'Relaxation Seeker', 'Solo Traveler'], [], [], [], [], ['Foodie'], [], [], ['Foodie'], [], [], [], [], [], ['Culture Explorer'], ['Adventure Seeker'], [], [], [], ['Foodie'], [], [], [], [], [], [], [], [], [], [], [], [], ['Adventure Seeker', 'Culture Explorer', 'Family Traveler', 'Foodie'], [], [], [], ['Foodie'], [], [], [], [], [], [], [], [], [], [], ['Foodie'], ['Foodie'], [], [], [], [], [], [], [], [], [], [], [], ['Foodie'], [], [], [], ['Adventure Seeker'], [], [], ['Relaxation Seeker'], [], ['Adventure Seeker'], [], [], [], [], [], [], [], [], [], [], [], ['Foodie'], [], [], [], [], [], [], [], [], [], [], [], [], [], [], [], ['Shopper'], [], [], [], [], [], [], ['Culture Explorer', 'Family Traveler', 'Foodie'], ['Culture Explorer'], [], [], ['Backpacker', 'Culture Explorer', 'Foodie', 'Shopper'], [], [], [], [], [], ['Foodie'], [], [], [], ['Adventure Seeker', 'Backpacker', 'Culture Explorer', 'Family Traveler', 'Foodie', 'Relaxation Seeker', 'Shopper', 'Solo Traveler'], [], [], [], [], [], [], [], ['Luxury Seeker'], [], [], ['Foodie'], [], ['Foodie'], [], [], [], [], [], [], [], [], [], ['Foodie'], ['Culture Explorer', 'Foodie'], [], ['Digital Nomad'], ['Luxury Seeker'], [], [], [], [], [], [], [], [], [], [], [], [], ['Shopper'], [], ['Adventure Seeker', 'Culture Explorer'], [], ['Family Traveler', 'Foodie', 'Luxury Seeker'], [], [], [], [], [], [], [], [], [], [], [], [], [], [], [], [], [], [], [], [], [], [], [], [], [], ['Foodie'], [], [], [], [], [], [], [], [], [], [], [], [], ['Foodie'], [], [], ['Culture Explorer'], [], [], [], [], [], [], [], [], ['Digital Nomad', 'Relaxation Seeker'], [], [], [], [], [], [], ['Foodie'], ['Foodie', 'Luxury Seeker'], [], [], [], [], [], [], [], ['Foodie'], [], [], [], [], [], [], ['Foodie'], [], [], [], ['Foodie'], [], [], [], [], ['Culture Explorer', 'Foodie'], ['Adventure Seeker', 'Culture Explorer', 'Foodie'], [], [], [], ['Adventure Seeker'], [], [], [], [], [], [], [], [], [], [], [], [], [], ['Adventure Seeker', 'Backpacker', 'Culture Explorer', 'Family Traveler', 'Foodie'], [], [], [], [], ['Adventure Seeker', 'Relaxation Seeker'], ['Solo Traveler'], [], [], [], [], [], ['Relaxation Seeker'], [], [], [], [], [], [], ['Foodie'], [], ['Digital Nomad'], [], [], [], [], ['Adventure Seeker', 'Culture Explorer'], [], [], [], [], [], [], [], [], ['Foodie'], [], [], [], ['Foodie'], ['Adventure Seeker'], ['Culture Explorer'], [], [], [], [], [], [], [], [], ['Digital Nomad', 'Relaxation Seeker'], [], [], [], [], [], [], [], [], [], [], [], [], [], [], [], [], [], [], [], ['Culture Explorer', 'Foodie'], [], [], [], [], [], [], [], [], [], [], [], [], [], ['Luxury Seeker', 'Relaxation Seeker'], [], [], ['Backpacker', 'Foodie', 'Solo Traveler'], [], [], [], [], ['Culture Explorer'], ['Culture Explorer', 'Foodie', 'Shopper'], [], [], [], [], [], [], ['Foodie'], ['Foodie'], [], [], [], [], [], [], [], [], ['Shopper'], [], [], [], [], ['Culture Explorer', 'Family Traveler'], [], [], ['Foodie'], [], [], [], ['Culture Explorer'], [], ['Adventure Seeker'], [], [], ['Culture Explorer'], [], [], ['Foodie', 'Shopper'], [], ['Foodie'], ['Adventure Seeker', 'Culture Explorer', 'Family Traveler', 'Foodie', 'Shopper'], [], [], [], [], ['Family Traveler'], [], [], [], [], ['Shopper'], [], [], [], ['Foodie'], ['Digital Nomad'], [], [], ['Culture Explorer', 'Foodie'], [], [], [], [], ['Foodie'], [], [], [], [], [], [], [], [], [], [], ['Foodie'], [], [], ['Foodie'], [], [], [], [], [], [], ['Foodie'], [], ['Adventure Seeker', 'Culture Explorer', 'Family Traveler', 'Foodie'], [], ['Adventure Seeker', 'Culture Explorer', 'Family Traveler', 'Foodie'], [], ['Foodie'], [], [], [], [], [], [], [], [], ['Adventure Seeker', 'Culture Explorer', 'Family Traveler', 'Foodie', 'Shopper'], ['Luxury Seeker'], [], [], [], [], ['Foodie'], [], [], [], [], [], [], [], [], [], [], [], [], [], [], [], [], [], ['Foodie'], [], [], [], ['Culture Explorer'], [], [], [], [], [], [], [], [], [], [], [], [], [], [], [], [], [], [], [], [], ['Shopper'], [], [], ['Culture Explorer', 'Shopper'], [], ['Adventure Seeker'], ['Culture Explorer'], [], [], ['Foodie', 'Relaxation Seeker'], [], [], [], [], [], [], ['Luxury Seeker', 'Relaxation Seeker'], [], [], [], [], [], [], [], [], [], ['Backpacker'], [], [], [], [], [], ['Culture Explorer'], [], [], [], [], [], [], ['Culture Explorer', 'Foodie', 'Shopper'], ['Foodie'], [], [], [], ['Relaxation Seeker'], ['Adventure Seeker', 'Culture Explorer', 'Foodie'], ['Digital Nomad'], [], [], [], [], [], [], [], ['Foodie'], [], [], [], [], [], [], ['Adventure Seeker', 'Culture Explorer'], ['Foodie', 'Shopper'], [], [], [], [], [], [], [], [], [], [], [], [], [], [], [], [], [], [], [], [], [], [], [], ['Luxury Seeker', 'Relaxation Seeker'], [], [], [], [], [], [], [], [], ['Relaxation Seeker'], ['Shopper'], ['Foodie'], [], [], [], ['Culture Explorer', 'Foodie', 'Shopper'], [], [], [], [], ['Backpacker', 'Foodie', 'Luxury Seeker'], [], [], [], [], ['Culture Explorer'], [], [], ['Foodie'], [], [], [], [], [], ['Luxury Seeker', 'Relaxation Seeker'], [], [], ['Culture Explorer'], [], [], [], [], [], [], [], [], ['Adventure Seeker', 'Culture Explorer', 'Family Traveler', 'Relaxation Seeker'], ['Foodie'], [], [], [], [], [], [], [], [], [], ['Backpacker', 'Culture Explorer', 'Family Traveler', 'Luxury Seeker'], [], [], ['Adventure Seeker', 'Culture Explorer'], [], ['Culture Explorer', 'Shopper'], [], [], [], [], [], [], [], [], [], ['Foodie'], [], [], [], [], [], [], [], [], [], ['Adventure Seeker', 'Culture Explorer', 'Foodie'], ['Foodie'], [], [], [], [], [], [], [], [], [], ['Foodie', 'Shopper'], [], [], [], [], [], [], [], [], [], [], ['Foodie'], [], [], ['Foodie'], ['Adventure Seeker', 'Foodie'], [], [], [], [], [], ['Foodie'], [], [], ['Adventure Seeker', 'Backpacker', 'Culture Explorer', 'Family Traveler', 'Foodie'], ['Shopper'], [], ['Culture Explorer'], [], [], [], ['Foodie'], [], [], [], ['Solo Traveler'], [], [], [], [], [], [], [], [], [], [], [], [], [], [], ['Foodie'], [], [], [], [], [], [], [], [], [], [], [], [], [], [], ['Family Traveler'], [], [], [], [], [], [], [], [], ['Luxury Seeker'], ['Foodie'], [], [], [], [], [], [], [], [], [], [], [], [], [], [], ['Culture Explorer'], [], [], [], [], [], [], [], [], [], ['Culture Explorer', 'Family Traveler', 'Foodie'], ['Foodie'], [], ['Shopper'], [], [], ['Shopper'], [], ['Culture Explorer'], [], [], [], [], [], [], ['Adventure Seeker'], [], [], [], [], [], [], [], [], [], [], [], [], [], [], [], ['Digital Nomad', 'Relaxation Seeker'], [], [], [], [], [], [], [], ['Culture Explorer'], [], [], [], [], [], [], [], [], [], [], [], [], [], [], [], [], [], [], [], [], ['Foodie'], ['Digital Nomad'], [], [], [], [], ['Shopper'], ['Culture Explorer'], ['Luxury Seeker'], [], [], [], ['Shopper'], [], [], [], [], ['Foodie'], [], [], [], [], [], ['Foodie'], [], ['Adventure Seeker', 'Culture Explorer', 'Foodie', 'Relaxation Seeker'], [], [], [], [], [], [], ['Foodie'], ['Shopper'], [], [], [], [], [], [], ['Culture Explorer'], [], [], [], [], [], [], [], [], [], [], [], [], [], ['Foodie'], ['Culture Explorer', 'Foodie', 'Luxury Seeker'], [], [], [], [], [], [], [], [], [], ['Relaxation Seeker'], ['Family Traveler', 'Foodie', 'Luxury Seeker', 'Relaxation Seeker'], [], [], [], ['Shopper'], [], [], [], [], [], ['Adventure Seeker', 'Culture Explorer', 'Foodie'], [], [], [], ['Family Traveler', 'Relaxation Seeker'], [], [], [], [], [], [], [], ['Culture Explorer', 'Shopper'], ['Culture Explorer', 'Digital Nomad', 'Foodie', 'Shopper'], [], [], [], [], ['Backpacker', 'Foodie', 'Shopper'], [], [], [], [], ['Adventure Seeker', 'Backpacker', 'Culture Explorer', 'Family Traveler', 'Foodie', 'Relaxation Seeker', 'Shopper', 'Solo Traveler'], ['Adventure Seeker', 'Backpacker', 'Family Traveler', 'Foodie'], [], ['Adventure Seeker'], ['Adventure Seeker'], [], [], [], [], ['Adventure Seeker', 'Family Traveler', 'Relaxation Seeker'], [], [], ['Culture Explorer', 'Foodie'], ['Backpacker'], [], [], [], [], [], [], ['Shopper'], [], [], [], [], [], [], [], ['Foodie'], [], [], ['Backpacker', 'Culture Explorer', 'Digital Nomad', 'Family Traveler', 'Foodie', 'Shopper'], [], ['Backpacker', 'Luxury Seeker', 'Solo Traveler'], [], [], [], ['Adventure Seeker', 'Culture Explorer', 'Family Traveler', 'Foodie'], [], ['Digital Nomad'], ['Luxury Seeker'], [], [], [], [], [], [], [], [], [], [], [], [], ['Culture Explorer', 'Foodie'], [], [], [], [], [], [], [], [], [], [], [], [], ['Foodie'], [], ['Culture Explorer'], [], [], [], [], ['Family Traveler'], [], [], [], ['Adventure Seeker', 'Culture Explorer', 'Family Traveler'], [], [], [], [], [], [], [], [], ['Adventure Seeker', 'Relaxation Seeker'], [], [], [], [], [], [], [], [], [], [], [], [], [], [], [], [], [], [], [], ['Adventure Seeker', 'Culture Explorer'], [], [], [], [], [], [], [], [], ['Foodie'], [], [], [], ['Backpacker', 'Foodie', 'Luxury Seeker', 'Shopper'], [], [], [], [], [], [], [], [], [], [], [], [], [], [], [], [], [], [], ['Culture Explorer'], [], [], [], [], [], [], [], [], [], [], [], [], [], [], [], [], [], [], [], ['Family Traveler', 'Foodie'], [], ['Foodie'], ['Foodie'], ['Backpacker', 'Culture Explorer', 'Foodie', 'Shopper'], [], [], ['Culture Explorer', 'Foodie', 'Shopper'], [], [], ['Foodie'], [], [], [], [], ['Culture Explorer', 'Family Traveler', 'Foodie', 'Shopper'], ['Backpacker', 'Family Traveler', 'Foodie'], [], ['Foodie'], ['Culture Explorer'], [], [], [], [], [], ['Culture Explorer'], [], [], [], ['Digital Nomad'], [], ['Backpacker', 'Culture Explorer', 'Family Traveler', 'Foodie', 'Shopper'], [], [], [], [], [], [], [], ['Culture Explorer'], [], [], [], [], [], [], [], ['Adventure Seeker', 'Family Traveler'], [], [], ['Foodie'], [], [], [], [], [], ['Adventure Seeker', 'Backpacker', 'Culture Explorer', 'Family Traveler', 'Foodie', 'Solo Traveler'], ['Backpacker', 'Foodie'], [], [], [], [], [], [], [], ['Foodie'], [], [], [], [], [], [], [], [], [], ['Adventure Seeker'], [], [], ['Backpacker'], [], ['Foodie'], ['Adventure Seeker', 'Culture Explorer'], [], [], [], [], [], [], [], [], [], [], [], [], ['Foodie'], [], [], [], [], ['Culture Explorer', 'Family Traveler', 'Foodie'], [], ['Foodie'], [], ['Foodie'], [], [], [], [], [], ['Adventure Seeker', 'Backpacker', 'Culture Explorer', 'Foodie'], [], [], ['Family Traveler'], ['Foodie'], ['Digital Nomad', 'Relaxation Seeker'], ['Adventure Seeker', 'Culture Explorer', 'Family Traveler'], ['Adventure Seeker', 'Luxury Seeker', 'Relaxation Seeker'], [], ['Culture Explorer'], [], ['Foodie'], [], ['Adventure Seeker'], [], [], [], ['Foodie'], ['Adventure Seeker', 'Backpacker', 'Culture Explorer', 'Family Traveler', 'Foodie', 'Shopper'], ['Foodie'], [], [], [], [], [], [], [], [], ['Backpacker', 'Culture Explorer', 'Family Traveler', 'Foodie', 'Luxury Seeker', 'Relaxation Seeker', 'Shopper'], [], [], [], ['Culture Explorer'], [], [], ['Adventure Seeker', 'Culture Explorer'], [], [], [], [], [], [], ['Backpacker', 'Culture Explorer', 'Family Traveler', 'Foodie', 'Luxury Seeker', 'Shopper'], ['Foodie'], [], [], ['Adventure Seeker'], [], [], [], [], ['Adventure Seeker', 'Backpacker', 'Culture Explorer', 'Family Traveler'], [], [], ['Family Traveler', 'Foodie', 'Luxury Seeker'], [], [], [], [], [], [], ['Foodie'], [], [], [], [], ['Foodie'], [], ['Digital Nomad', 'Relaxation Seeker'], [], [], [], [], [], ['Family Traveler'], [], [], [], ['Adventure Seeker'], [], [], [], ['Foodie'], [], ['Digital Nomad', 'Relaxation Seeker'], [], [], [], [], [], [], [], [], ['Adventure Seeker', 'Solo Traveler'], [], [], [], ['Adventure Seeker', 'Culture Explorer', 'Family Traveler', 'Foodie'], [], [], [], [], [], [], [], [], [], [], [], [], [], ['Foodie'], [], [], [], [], [], [], [], [], [], [], [], [], [], [], [], [], [], [], [], [], ['Backpacker', 'Family Traveler', 'Foodie', 'Luxury Seeker'], [], [], [], [], [], [], [], [], [], [], ['Foodie'], ['Adventure Seeker'], [], [], [], [], [], ['Adventure Seeker'], [], [], ['Foodie'], [], [], ['Culture Explorer', 'Foodie'], [], [], [], [], ['Foodie'], [], [], [], [], [], ['Backpacker', 'Foodie', 'Shopper'], [], [], ['Shopper'], ['Foodie', 'Shopper'], [], [], [], [], [], [], [], ['Foodie'], [], [], ['Backpacker'], [], [], [], [], ['Relaxation Seeker'], [], [], [], [], [], [], [], [], ['Culture Explorer'], [], [], [], [], ['Culture Explorer', 'Family Traveler'], [], [], [], [], [], ['Culture Explorer'], [], ['Adventure Seeker'], [], [], [], ['Luxury Seeker'], ['Foodie'], ['Foodie'], ['Foodie'], [], [], [], [], ['Adventure Seeker', 'Culture Explorer', 'Family Traveler', 'Luxury Seeker', 'Relaxation Seeker', 'Shopper'], [], [], ['Backpacker'], ['Shopper'], [], ['Family Traveler', 'Luxury Seeker', 'Relaxation Seeker'], [], [], [], [], [], ['Adventure Seeker'], [], [], [], [], [], [], ['Foodie'], [], [], [], [], [], [], [], [], [], [], [], ['Adventure Seeker', 'Backpacker', 'Culture Explorer', 'Family Traveler', 'Foodie'], [], [], [], [], ['Foodie'], [], ['Foodie'], [], ['Relaxation Seeker'], [], [], [], ['Foodie'], [], [], [], [], [], [], [], [], ['Adventure Seeker', 'Family Traveler'], [], [], [], [], ['Backpacker', 'Foodie'], [], [], ['Digital Nomad'], [], ['Foodie'], [], [], [], [], ['Luxury Seeker', 'Relaxation Seeker'], ['Relaxation Seeker', 'Solo Traveler'], [], ['Family Traveler'], [], [], [], [], [], [], [], [], [], [], [], [], [], [], [], [], [], [], [], ['Digital Nomad', 'Relaxation Seeker'], [], [], [], [], [], ['Family Traveler'], [], [], [], [], [], [], [], [], [], ['Foodie'], [], [], [], [], [], [], [], [], ['Culture Explorer'], ['Adventure Seeker'], [], [], [], [], [], ['Foodie', 'Shopper'], [], [], [], ['Culture Explorer', 'Relaxation Seeker'], ['Foodie'], [], [], [], [], [], ['Foodie'], [], [], [], ['Luxury Seeker'], [], [], [], [], [], [], [], [], [], [], [], [], [], [], [], [], [], [], [], [], [], ['Adventure Seeker'], ['Adventure Seeker'], [], [], [], [], [], [], [], ['Adventure Seeker', 'Culture Explorer'], [], [], [], [], [], [], ['Foodie'], [], [], [], [], [], [], [], [], [], [], ['Foodie'], [], [], ['Adventure Seeker'], [], [], [], [], [], [], [], [], [], [], [], [], [], [], [], ['Foodie'], [], [], [], [], [], [], [], [], [], ['Culture Explorer'], [], ['Foodie', 'Luxury Seeker', 'Relaxation Seeker'], [], [], [], [], [], [], [], [], ['Foodie'], ['Foodie'], [], [], [], [], [], [], [], [], ['Culture Explorer', 'Family Traveler', 'Shopper'], [], [], ['Culture Explorer'], ['Culture Explorer', 'Digital Nomad', 'Relaxation Seeker'], [], [], [], [], [], [], [], [], [], [], [], [], [], [], [], [], ['Backpacker', 'Culture Explorer', 'Family Traveler', 'Foodie'], ['Family Traveler', 'Foodie'], ['Adventure Seeker'], ['Adventure Seeker', 'Culture Explorer', 'Family Traveler', 'Foodie'], [], [], [], [], [], ['Foodie'], [], [], [], [], [], [], [], [], [], [], [], [], [], [], ['Culture Explorer'], ['Foodie'], [], [], [], [], ['Foodie', 'Shopper'], [], [], [], [], [], [], [], [], ['Shopper'], ['Foodie'], [], [], [], [], [], [], [], ['Foodie'], [], [], [], [], ['Adventure Seeker', 'Culture Explorer', 'Foodie'], [], [], [], ['Culture Explorer', 'Foodie'], [], [], ['Shopper'], [], [], [], [], [], [], ['Foodie'], [], [], [], [], [], [], [], [], [], [], [], [], [], ['Foodie'], ['Adventure Seeker', 'Backpacker', 'Culture Explorer', 'Family Traveler', 'Foodie', 'Luxury Seeker', 'Shopper'], [], [], [], ['Backpacker'], ['Foodie'], [], [], [], [], [], [], [], [], [], ['Foodie'], [], [], [], ['Foodie'], [], [], ['Foodie'], [], [], [], [], [], [], [], [], [], [], [], ['Adventure Seeker', 'Culture Explorer', 'Family Traveler'], ['Foodie'], [], ['Culture Explorer', 'Family Traveler', 'Shopper'], [], [], [], [], [], ['Foodie'], [], [], ['Family Traveler'], [], [], [], [], [], [], [], ['Adventure Seeker', 'Culture Explorer'], [], ['Culture Explorer'], [], ['Foodie'], [], [], ['Foodie'], [], [], [], [], [], [], ['Foodie'], [], [], [], [], [], ['Foodie'], [], [], [], [], ['Foodie'], [], [], [], [], ['Foodie'], [], [], [], [], [], [], ['Foodie'], [], [], [], [], ['Shopper'], [], ['Culture Explorer'], [], [], [], [], [], [], [], [], [], ['Culture Explorer', 'Family Traveler'], [], [], [], [], [], ['Culture Explorer', 'Foodie'], [], [], [], [], [], [], ['Foodie'], [], [], [], [], [], [], [], ['Foodie', 'Shopper'], ['Foodie', 'Shopper'], [], [], [], [], [], ['Culture Explorer', 'Foodie'], [], [], ['Culture Explorer'], [], [], ['Culture Explorer', 'Foodie'], [], [], [], [], [], [], ['Culture Explorer', 'Foodie'], [], [], [], ['Culture Explorer', 'Family Traveler', 'Foodie', 'Shopper'], [], [], [], [], [], [], [], [], [], [], [], [], [], [], [], [], ['Luxury Seeker', 'Shopper'], [], [], [], ['Backpacker'], [], ['Culture Explorer', 'Foodie', 'Shopper'], [], [], [], ['Backpacker', 'Culture Explorer', 'Foodie', 'Solo Traveler'], ['Shopper'], ['Adventure Seeker', 'Culture Explorer'], [], [], [], [], ['Adventure Seeker', 'Backpacker', 'Culture Explorer', 'Family Traveler', 'Relaxation Seeker', 'Solo Traveler'], [], ['Foodie'], [], ['Foodie'], [], ['Backpacker'], [], [], [], [], ['Shopper'], [], [], ['Foodie'], [], [], [], [], [], ['Culture Explorer'], [], ['Foodie'], ['Adventure Seeker', 'Backpacker', 'Family Traveler', 'Foodie', 'Relaxation Seeker'], ['Foodie'], ['Adventure Seeker', 'Culture Explorer'], [], [], [], [], [], [], [], [], [], [], [], [], [], [], [], [], [], [], [], [], [], [], [], [], [], [], [], [], [], [], [], [], [], [], [], [], [], ['Foodie'], [], [], [], [], [], [], ['Foodie'], ['Culture Explorer'], ['Adventure Seeker', 'Culture Explorer'], [], ['Foodie'], [], [], [], [], [], [], [], [], ['Culture Explorer', 'Family Traveler'], [], [], ['Foodie'], [], [], [], [], [], [], [], [], ['Adventure Seeker'], [], [], [], ['Culture Explorer'], ['Adventure Seeker', 'Culture Explorer'], [], [], ['Adventure Seeker', 'Backpacker', 'Culture Explorer', 'Family Traveler', 'Foodie', 'Shopper'], [], [], [], [], [], ['Adventure Seeker'], ['Foodie'], [], [], [], [], [], [], [], ['Foodie'], [], [], [], [], [], ['Luxury Seeker', 'Relaxation Seeker'], ['Adventure Seeker'], [], [], [], ['Luxury Seeker'], [], [], ['Foodie'], [], ['Backpacker', 'Culture Explorer', 'Family Traveler', 'Foodie', 'Luxury Seeker', 'Relaxation Seeker'], ['Culture Explorer'], [], [], [], [], [], ['Foodie'], [], ['Shopper'], [], [], [], [], ['Culture Explorer', 'Foodie'], ['Adventure Seeker'], [], [], ['Relaxation Seeker'], [], ['Foodie', 'Relaxation Seeker'], [], ['Foodie'], [], [], [], [], [], ['Shopper'], ['Foodie'], [], [], [], ['Adventure Seeker', 'Backpacker', 'Culture Explorer', 'Family Traveler'], [], [], [], [], [], [], [], ['Foodie'], [], ['Culture Explorer'], [], ['Foodie', 'Shopper'], [], [], ['Foodie'], ['Family Traveler'], [], ['Adventure Seeker'], [], [], [], [], [], [], [], [], [], [], [], [], [], [], [], [], [], [], [], [], [], [], [], [], [], [], [], [], ['Foodie'], ['Adventure Seeker', 'Backpacker', 'Culture Explorer', 'Family Traveler', 'Foodie', 'Relaxation Seeker'], [], [], [], [], [], [], ['Culture Explorer', 'Foodie'], [], [], ['Foodie'], [], [], [], [], ['Family Traveler'], [], [], [], [], [], [], [], [], [], ['Foodie'], ['Foodie'], [], [], [], [], ['Digital Nomad'], ['Foodie'], [], [], [], [], [], [], [], [], [], [], [], [], ['Foodie'], [], [], [], [], [], ['Luxury Seeker', 'Solo Traveler'], [], [], [], [], [], [], [], [], [], [], ['Adventure Seeker', 'Backpacker', 'Culture Explorer', 'Family Traveler', 'Foodie', 'Shopper', 'Solo Traveler'], [], [], [], [], ['Adventure Seeker', 'Family Traveler'], ['Culture Explorer', 'Family Traveler', 'Foodie'], [], [], ['Foodie'], [], [], [], [], [], [], [], [], [], [], [], [], [], [], [], [], [], [], [], [], [], [], [], [], [], [], ['Culture Explorer', 'Family Traveler', 'Foodie'], [], ['Foodie'], [], [], ['Culture Explorer'], [], [], [], ['Luxury Seeker', 'Relaxation Seeker'], ['Shopper'], [], [], ['Foodie', 'Shopper'], [], [], [], [], [], [], ['Culture Explorer'], [], [], [], [], [], [], [], [], [], [], [], [], ['Foodie'], ['Foodie'], [], [], [], [], [], [], [], [], [], [], [], [], [], [], ['Foodie'], ['Foodie'], ['Culture Explorer', 'Family Traveler', 'Foodie'], [], [], [], [], [], ['Foodie'], [], [], [], ['Adventure Seeker'], [], [], [], [], ['Digital Nomad'], [], [], [], [], [], [], [], [], [], [], [], [], [], ['Foodie'], [], [], [], [], [], [], [], [], [], [], [], ['Culture Explorer'], [], ['Foodie'], ['Adventure Seeker', 'Foodie'], [], [], [], [], [], ['Shopper'], [], [], ['Foodie'], [], [], [], [], ['Digital Nomad'], [], [], [], ['Foodie'], [], [], ['Foodie'], [], [], [], ['Foodie', 'Shopper'], ['Culture Explorer', 'Foodie'], [], [], [], [], [], [], [], [], [], [], [], [], [], [], [], [], ['Foodie'], ['Foodie'], [], [], [], [], ['Relaxation Seeker'], [], [], [], [], [], [], ['Culture Explorer'], [], [], [], [], [], ['Foodie'], [], [], [], [], [], [], [], [], ['Backpacker'], ['Foodie'], [], [], [], [], [], ['Foodie'], [], [], ['Luxury Seeker', 'Relaxation Seeker'], [], [], [], ['Adventure Seeker', 'Backpacker', 'Culture Explorer', 'Foodie'], ['Luxury Seeker'], [], [], ['Foodie'], [], [], [], [], [], ['Foodie'], [], [], [], [], [], [], [], [], [], [], [], [], [], ['Culture Explorer'], [], [], [], [], [], [], [], [], ['Foodie'], ['Family Traveler', 'Relaxation Seeker'], [], [], [], [], [], [], [], ['Digital Nomad', 'Relaxation Seeker'], ['Family Traveler'], [], ['Culture Explorer', 'Family Traveler', 'Foodie', 'Shopper'], [], [], [], [], [], [], [], [], [], [], [], [], [], [], [], ['Culture Explorer'], [], ['Culture Explorer', 'Foodie'], [], [], [], [], [], [], [], [], ['Foodie'], [], [], [], [], ['Adventure Seeker'], [], [], [], [], [], [], [], [], ['Adventure Seeker'], [], [], ['Luxury Seeker'], [], [], [], ['Relaxation Seeker', 'Shopper'], ['Foodie'], [], [], [], [], [], [], [], [], [], [], [], [], ['Digital Nomad', 'Relaxation Seeker'], [], ['Adventure Seeker', 'Culture Explorer', 'Foodie'], [], [], ['Shopper'], [], [], [], [], [], [], [], [], [], [], [], [], [], [], [], [], ['Foodie', 'Shopper'], [], ['Foodie'], [], [], [], [], [], [], [], [], [], [], [], [], ['Adventure Seeker', 'Backpacker', 'Culture Explorer', 'Family Traveler', 'Foodie', 'Relaxation Seeker', 'Solo Traveler'], ['Adventure Seeker', 'Backpacker', 'Culture Explorer', 'Foodie'], [], [], [], ['Foodie'], [], [], [], [], [], [], [], [], [], [], [], [], [], ['Foodie'], [], ['Foodie'], ['Culture Explorer', 'Relaxation Seeker', 'Solo Traveler'], [], ['Culture Explorer', 'Foodie', 'Shopper'], [], [], [], ['Adventure Seeker', 'Culture Explorer', 'Family Traveler', 'Foodie'], ['Adventure Seeker', 'Backpacker', 'Culture Explorer', 'Family Traveler', 'Foodie', 'Luxury Seeker', 'Shopper'], [], [], [], ['Adventure Seeker', 'Culture Explorer'], [], [], [], ['Culture Explorer', 'Family Traveler'], [], ['Digital Nomad', 'Family Traveler', 'Foodie', 'Luxury Seeker'], [], [], [], ['Foodie'], ['Shopper'], [], [], [], [], [], [], [], [], ['Foodie'], [], [], [], [], [], ['Backpacker', 'Foodie'], [], [], [], ['Culture Explorer', 'Foodie'], [], [], [], [], [], [], [], [], ['Foodie'], [], ['Family Traveler'], [], ['Foodie'], [], [], [], [], [], [], [], [], [], [], [], [], [], [], ['Adventure Seeker', 'Backpacker', 'Culture Explorer', 'Family Traveler', 'Foodie', 'Luxury Seeker', 'Relaxation Seeker', 'Shopper', 'Solo Traveler'], ['Foodie'], ['Shopper'], [], ['Shopper'], [], ['Foodie'], [], [], [], [], [], [], [], [], [], [], [], [], [], [], ['Relaxation Seeker'], [], ['Foodie'], [], [], [], [], [], [], [], [], [], [], [], ['Foodie'], [], [], ['Foodie'], ['Foodie'], [], [], [], ['Adventure Seeker', 'Family Traveler'], ['Foodie'], [], [], [], [], [], [], [], [], [], [], ['Adventure Seeker'], [], [], [], [], [], [], [], [], [], ['Culture Explorer', 'Family Traveler'], ['Foodie'], [], [], [], [], [], [], [], [], [], [], [], [], [], [], ['Foodie'], [], [], [], [], [], [], [], [], ['Luxury Seeker'], [], [], [], [], [], ['Relaxation Seeker'], [], [], ['Foodie'], ['Adventure Seeker', 'Culture Explorer', 'Family Traveler', 'Luxury Seeker', 'Shopper'], [], [], ['Family Traveler'], [], ['Foodie'], [], [], ['Culture Explorer', 'Foodie', 'Shopper'], ['Culture Explorer', 'Foodie'], [], [], [], ['Shopper'], [], [], ['Adventure Seeker', 'Backpacker', 'Culture Explorer', 'Family Traveler', 'Foodie', 'Relaxation Seeker', 'Solo Traveler'], [], [], [], [], [], ['Adventure Seeker', 'Culture Explorer', 'Family Traveler'], ['Backpacker', 'Family Traveler', 'Foodie'], [], [], [], [], [], [], [], [], [], ['Culture Explorer'], [], [], [], ['Shopper'], [], [], [], [], [], [], [], [], [], [], [], [], [], [], [], [], ['Culture Explorer', 'Foodie'], ['Foodie'], [], [], [], [], [], [], [], [], [], [], [], [], [], [], [], [], ['Culture Explorer'], [], [], ['Culture Explorer', 'Family Traveler', 'Luxury Seeker', 'Relaxation Seeker', 'Shopper'], [], ['Culture Explorer', 'Foodie'], [], [], [], [], [], [], [], [], [], [], ['Culture Explorer', 'Foodie'], [], [], [], [], ['Adventure Seeker', 'Backpacker', 'Culture Explorer', 'Family Traveler', 'Foodie', 'Relaxation Seeker', 'Shopper', 'Solo Traveler'], [], [], ['Foodie'], [], [], ['Family Traveler', 'Foodie'], [], [], [], [], [], ['Foodie'], [], [], [], [], ['Foodie'], [], ['Foodie'], [], [], [], ['Foodie'], [], [], [], [], ['Culture Explorer'], [], [], [], [], [], [], [], [], [], ['Foodie'], ['Backpacker', 'Family Traveler', 'Foodie', 'Luxury Seeker'], [], [], [], [], [], [], [], [], ['Foodie'], [], [], [], [], [], [], [], [], [], [], [], [], [], [], ['Adventure Seeker', 'Culture Explorer'], [], [], ['Foodie'], [], [], [], [], [], ['Foodie', 'Luxury Seeker'], ['Shopper'], [], [], [], [], ['Adventure Seeker', 'Culture Explorer'], ['Foodie'], [], [], [], ['Culture Explorer'], ['Adventure Seeker'], [], ['Foodie'], [], [], [], [], ['Culture Explorer'], [], [], ['Foodie'], ['Culture Explorer', 'Family Traveler', 'Foodie'], [], [], [], [], [], [], [], ['Backpacker', 'Foodie'], [], ['Foodie', 'Shopper'], [], [], ['Culture Explorer', 'Foodie', 'Shopper'], [], ['Foodie'], [], [], ['Foodie'], ['Culture Explorer', 'Family Traveler', 'Foodie', 'Luxury Seeker', 'Relaxation Seeker'], [], [], [], [], [], [], [], [], [], [], [], [], [], [], [], ['Adventure Seeker', 'Backpacker', 'Culture Explorer', 'Family Traveler', 'Foodie', 'Relaxation Seeker', 'Solo Traveler'], [], ['Adventure Seeker'], [], [], [], [], [], [], ['Culture Explorer'], [], [], ['Adventure Seeker', 'Culture Explorer', 'Family Traveler', 'Foodie'], ['Foodie'], [], [], [], [], [], [], ['Culture Explorer'], [], [], [], ['Foodie'], [], [], ['Culture Explorer'], [], [], ['Digital Nomad'], [], ['Foodie', 'Shopper'], ['Foodie'], [], [], ['Adventure Seeker'], ['Adventure Seeker'], [], [], [], [], [], [], ['Foodie'], [], ['Backpacker', 'Foodie'], [], [], ['Adventure Seeker'], [], [], [], [], [], [], [], ['Adventure Seeker', 'Culture Explorer', 'Foodie'], [], [], [], [], [], [], [], [], [], [], ['Relaxation Seeker'], [], [], [], [], [], [], [], ['Culture Explorer'], [], [], ['Adventure Seeker', 'Culture Explorer', 'Family Traveler', 'Relaxation Seeker'], ['Adventure Seeker'], [], [], [], [], ['Foodie'], [], [], [], [], [], [], ['Backpacker', 'Digital Nomad', 'Family Traveler', 'Foodie', 'Luxury Seeker'], [], [], [], [], [], [], ['Foodie'], [], [], [], ['Adventure Seeker', 'Backpacker', 'Culture Explorer', 'Digital Nomad', 'Family Traveler', 'Foodie', 'Relaxation Seeker', 'Shopper', 'Solo Traveler'], [], [], [], [], [], [], [], ['Foodie'], [], [], [], [], ['Family Traveler', 'Foodie'], [], [], [], ['Culture Explorer', 'Foodie'], [], [], [], ['Backpacker', 'Culture Explorer', 'Family Traveler', 'Luxury Seeker', 'Relaxation Seeker', 'Shopper'], ['Backpacker', 'Foodie'], ['Foodie'], [], [], [], [], [], [], [], [], [], [], [], [], [], [], [], ['Foodie'], [], [], [], [], [], [], [], [], [], [], [], ['Foodie'], [], [], [], [], [], [], [], [], [], [], [], ['Foodie'], [], [], ['Adventure Seeker'], [], [], ['Culture Explorer'], ['Digital Nomad', 'Relaxation Seeker'], [], ['Adventure Seeker', 'Backpacker', 'Culture Explorer', 'Family Traveler', 'Foodie', 'Luxury Seeker', 'Relaxation Seeker', 'Shopper'], [], [], [], [], [], [], [], ['Foodie'], [], [], [], [], [], [], ['Culture Explorer', 'Foodie'], [], [], [], ['Adventure Seeker', 'Culture Explorer'], [], [], ['Foodie'], [], ['Digital Nomad', 'Relaxation Seeker'], [], ['Adventure Seeker', 'Backpacker', 'Culture Explorer', 'Family Traveler', 'Foodie', 'Relaxation Seeker'], [], ['Adventure Seeker', 'Luxury Seeker', 'Relaxation Seeker'], [], ['Foodie'], [], [], ['Adventure Seeker'], [], [], [], [], [], [], ['Culture Explorer'], [], [], [], ['Shopper'], ['Adventure Seeker'], ['Foodie'], [], [], ['Adventure Seeker', 'Backpacker', 'Culture Explorer', 'Family Traveler', 'Foodie', 'Relaxation Seeker', 'Solo Traveler'], [], [], ['Foodie'], [], [], [], [], [], [], [], [], [], ['Adventure Seeker'], [], ['Backpacker', 'Foodie'], [], [], ['Foodie'], [], [], [], [], [], [], [], [], [], [], [], [], ['Culture Explorer', 'Foodie'], [], [], [], [], [], [], ['Adventure Seeker'], [], [], [], [], [], ['Foodie'], ['Adventure Seeker'], [], [], [], [], [], [], ['Foodie'], [], [], [], [], [], [], [], [], [], [], [], ['Luxury Seeker'], [], [], [], [], [], [], [], [], [], ['Family Traveler', 'Luxury Seeker', 'Relaxation Seeker'], [], [], [], [], [], [], [], [], [], [], [], [], ['Foodie'], [], [], [], ['Foodie'], [], [], [], ['Family Traveler', 'Luxury Seeker', 'Relaxation Seeker'], [], [], ['Backpacker', 'Foodie'], [], [], [], [], [], ['Shopper'], [], [], [], [], [], [], [], [], ['Luxury Seeker'], [], [], [], [], [], ['Digital Nomad'], [], ['Foodie'], [], [], [], ['Digital Nomad', 'Foodie', 'Relaxation Seeker'], [], [], [], [], ['Foodie'], ['Family Traveler'], [], [], ['Foodie'], ['Adventure Seeker', 'Backpacker', 'Culture Explorer', 'Family Traveler', 'Foodie', 'Luxury Seeker', 'Relaxation Seeker', 'Shopper'], [], ['Foodie', 'Shopper'], [], [], [], [], [], ['Foodie'], [], [], [], [], [], [], ['Backpacker', 'Culture Explorer', 'Foodie', 'Luxury Seeker'], [], [], [], [], ['Adventure Seeker', 'Culture Explorer', 'Family Traveler', 'Foodie'], [], ['Foodie'], [], [], [], ['Adventure Seeker', 'Culture Explorer', 'Family Traveler'], ['Backpacker', 'Foodie'], [], [], ['Foodie'], [], ['Digital Nomad', 'Relaxation Seeker'], [], ['Culture Explorer', 'Digital Nomad', 'Family Traveler'], [], ['Luxury Seeker'], [], ['Adventure Seeker', 'Family Traveler', 'Luxury Seeker', 'Relaxation Seeker'], [], [], [], [], [], ['Adventure Seeker', 'Backpacker', 'Culture Explorer', 'Digital Nomad', 'Family Traveler', 'Foodie', 'Luxury Seeker', 'Relaxation Seeker', 'Solo Traveler'], [], [], [], [], [], [], [], [], [], [], ['Culture Explorer', 'Foodie', 'Shopper'], [], ['Foodie'], ['Shopper'], [], ['Foodie'], ['Family Traveler', 'Foodie', 'Luxury Seeker'], ['Adventure Seeker', 'Culture Explorer', 'Family Traveler', 'Luxury Seeker', 'Relaxation Seeker'], [], [], [], [], [], [], [], [], [], [], ['Foodie'], [], [], [], [], ['Culture Explorer'], [], [], [], [], [], [], [], [], [], [], [], [], [], [], ['Adventure Seeker', 'Culture Explorer', 'Family Traveler', 'Foodie', 'Shopper'], [], [], [], [], ['Backpacker'], [], ['Relaxation Seeker'], [], ['Adventure Seeker', 'Culture Explorer', 'Family Traveler'], [], ['Culture Explorer', 'Family Traveler', 'Foodie'], [], [], [], [], [], [], [], [], [], [], ['Foodie'], ['Foodie'], [], [], [], [], [], [], ['Foodie'], [], [], ['Family Traveler'], [], [], ['Foodie'], [], [], ['Culture Explorer'], [], [], [], [], [], [], [], [], ['Foodie'], [], [], [], [], [], [], [], [], [], ['Relaxation Seeker'], [], [], [], [], [], ['Adventure Seeker'], [], [], [], ['Adventure Seeker', 'Foodie'], ['Family Traveler'], [], [], [], [], [], ['Culture Explorer'], [], [], [], [], [], [], [], ['Foodie'], [], [], ['Foodie'], [], [], ['Foodie'], [], [], ['Foodie', 'Shopper'], [], [], [], [], [], [], [], ['Digital Nomad', 'Relaxation Seeker'], [], [], ['Backpacker'], [], [], [], [], ['Foodie'], [], [], [], [], [], [], ['Foodie'], [], [], [], [], [], [], [], [], [], ['Backpacker', 'Relaxation Seeker', 'Solo Traveler'], [], ['Foodie'], [], [], [], [], [], [], ['Digital Nomad', 'Relaxation Seeker'], [], [], [], ['Culture Explorer'], [], [], [], ['Adventure Seeker', 'Culture Explorer'], [], [], [], ['Backpacker', 'Foodie', 'Luxury Seeker'], [], [], [], [], [], [], [], [], ['Shopper'], [], [], [], ['Shopper'], [], [], [], [], [], [], ['Foodie'], [], [], [], [], [], [], [], [], [], [], [], [], ['Family Traveler'], [], [], [], ['Foodie'], [], ['Shopper'], [], ['Foodie'], [], ['Foodie'], [], [], [], [], [], [], [], [], [], ['Backpacker', 'Foodie'], [], [], [], [], [], [], [], ['Adventure Seeker', 'Culture Explorer', 'Relaxation Seeker'], [], [], [], [], [], [], [], [], ['Culture Explorer'], ['Backpacker'], [], [], [], [], [], [], [], ['Foodie'], [], [], [], [], ['Luxury Seeker'], [], [], ['Foodie'], [], ['Backpacker', 'Foodie'], [], [], [], ['Foodie'], [], ['Luxury Seeker', 'Relaxation Seeker'], [], [], [], ['Foodie'], [], ['Backpacker', 'Luxury Seeker', 'Relaxation Seeker', 'Shopper'], [], ['Foodie'], [], [], [], [], [], ['Shopper'], [], [], ['Culture Explorer', 'Foodie', 'Shopper'], [], ['Foodie'], [], [], [], ['Foodie'], [], ['Adventure Seeker'], ['Foodie'], [], ['Foodie'], ['Shopper'], ['Culture Explorer', 'Foodie'], ['Foodie'], [], [], [], [], [], ['Culture Explorer'], [], [], [], ['Foodie'], ['Culture Explorer', 'Foodie'], [], [], [], ['Foodie'], [], [], [], [], [], ['Adventure Seeker'], [], [], [], ['Relaxation Seeker'], [], [], [], [], [], [], ['Foodie'], [], [], [], [], [], ['Backpacker'], [], ['Digital Nomad'], [], [], [], ['Foodie'], [], ['Foodie'], ['Adventure Seeker', 'Backpacker', 'Culture Explorer', 'Family Traveler', 'Foodie', 'Relaxation Seeker', 'Shopper', 'Solo Traveler'], [], [], [], [], [], ['Foodie'], [], [], [], [], [], [], [], [], ['Backpacker'], [], [], [], [], [], [], [], [], [], [], [], [], [], ['Family Traveler'], [], [], [], [], [], [], [], [], ['Culture Explorer'], [], [], [], [], [], [], ['Family Traveler', 'Relaxation Seeker'], [], [], [], [], [], [], ['Adventure Seeker'], [], [], [], ['Shopper'], [], [], [], ['Foodie'], ['Culture Explorer', 'Foodie'], [], [], [], [], ['Foodie'], [], ['Foodie'], ['Shopper'], [], [], [], [], [], [], [], ['Foodie'], [], [], ['Culture Explorer'], [], [], ['Foodie'], ['Culture Explorer'], [], [], [], [], [], [], [], [], [], ['Shopper'], [], [], [], [], [], [], ['Foodie'], [], [], [], [], [], [], [], [], ['Foodie'], [], [], [], [], [], [], ['Culture Explorer'], [], [], [], [], [], ['Foodie'], [], [], [], [], ['Foodie'], ['Culture Explorer', 'Foodie'], ['Culture Explorer', 'Foodie'], [], [], [], ['Adventure Seeker', 'Family Traveler', 'Luxury Seeker'], [], ['Culture Explorer'], ['Foodie'], [], ['Digital Nomad'], [], [], [], [], [], [], ['Backpacker', 'Foodie'], [], [], ['Digital Nomad'], [], [], [], [], ['Foodie'], [], [], [], [], [], ['Backpacker'], [], [], [], [], [], [], [], [], [], [], [], [], [], [], [], ['Adventure Seeker', 'Culture Explorer', 'Family Traveler'], [], [], ['Foodie'], [], [], [], [], [], [], [], [], [], ['Foodie'], [], [], [], [], ['Foodie'], [], [], ['Family Traveler'], [], [], ['Foodie'], [], ['Foodie', 'Luxury Seeker'], [], [], [], ['Backpacker', 'Culture Explorer', 'Family Traveler', 'Foodie', 'Shopper'], [], ['Foodie'], [], [], [], [], [], [], [], [], [], [], [], [], [], [], ['Foodie'], [], [], [], [], [], ['Adventure Seeker'], [], [], [], [], ['Luxury Seeker'], ['Foodie'], [], [], ['Foodie'], [], [], [], ['Foodie'], [], [], [], [], [], [], [], ['Family Traveler'], [], ['Culture Explorer', 'Family Traveler', 'Foodie', 'Luxury Seeker'], [], ['Foodie'], [], [], [], [], [], [], ['Foodie'], ['Culture Explorer', 'Shopper'], [], [], [], [], [], [], [], [], [], [], [], [], [], [], [], [], [], ['Culture Explorer', 'Family Traveler', 'Foodie'], [], [], [], [], [], [], [], [], [], [], [], [], [], [], [], [], [], ['Foodie'], ['Foodie'], ['Adventure Seeker', 'Culture Explorer', 'Family Traveler'], [], ['Adventure Seeker', 'Backpacker', 'Culture Explorer', 'Foodie'], [], [], [], [], [], [], [], [], ['Foodie', 'Shopper'], [], [], [], [], [], [], ['Foodie'], [], [], [], ['Backpacker', 'Culture Explorer'], [], [], [], [], [], ['Backpacker', 'Culture Explorer', 'Family Traveler', 'Foodie', 'Luxury Seeker', 'Relaxation Seeker', 'Shopper'], [], [], [], [], [], ['Foodie'], [], [], [], [], ['Adventure Seeker', 'Culture Explorer', 'Family Traveler', 'Foodie'], ['Adventure Seeker'], ['Culture Explorer', 'Foodie'], [], [], [], [], ['Backpacker'], [], [], [], ['Foodie'], [], ['Foodie'], [], ['Family Traveler', 'Foodie'], ['Adventure Seeker'], [], [], [], [], [], ['Adventure Seeker', 'Backpacker'], [], [], [], [], [], [], [], [], [], ['Solo Traveler'], [], ['Foodie', 'Luxury Seeker', 'Shopper'], [], ['Luxury Seeker', 'Relaxation Seeker'], [], [], [], [], [], [], ['Foodie'], [], [], [], [], [], [], [], [], [], [], [], [], [], [], [], [], [], [], [], [], [], [], [], [], [], [], ['Foodie'], [], [], [], [], ['Digital Nomad', 'Relaxation Seeker'], [], [], [], [], [], [], [], [], [], ['Foodie'], [], [], [], [], [], [], ['Adventure Seeker', 'Backpacker', 'Culture Explorer', 'Digital Nomad', 'Family Traveler', 'Foodie', 'Luxury Seeker', 'Relaxation Seeker', 'Shopper', 'Solo Traveler'], ['Solo Traveler'], [], [], [], ['Adventure Seeker'], [], ['Adventure Seeker', 'Solo Traveler'], [], [], ['Relaxation Seeker', 'Solo Traveler'], [], [], [], [], [], ['Backpacker', 'Solo Traveler'], [], [], ['Culture Explorer', 'Family Traveler', 'Luxury Seeker'], ['Adventure Seeker', 'Culture Explorer', 'Family Traveler', 'Luxury Seeker'], [], [], [], [], [], [], ['Luxury Seeker'], [], [], [], [], [], [], [], [], [], [], [], ['Luxury Seeker', 'Relaxation Seeker'], ['Relaxation Seeker'], [], [], ['Luxury Seeker', 'Relaxation Seeker'], [], ['Luxury Seeker', 'Relaxation Seeker'], ['Relaxation Seeker'], [], ['Luxury Seeker'], [], ['Relaxation Seeker', 'Solo Traveler'], ['Adventure Seeker', 'Backpacker', 'Relaxation Seeker', 'Solo Traveler'], ['Adventure Seeker', 'Backpacker', 'Family Traveler', 'Relaxation Seeker', 'Solo Traveler'], [], ['Relaxation Seeker'], ['Family Traveler', 'Relaxation Seeker'], [], [], [], [], [], [], [], [], ['Adventure Seeker'], [], [], [], ['Culture Explorer'], [], [], [], [], [], [], [], [], [], [], [], [], ['Foodie'], ['Adventure Seeker', 'Backpacker', 'Culture Explorer', 'Digital Nomad', 'Family Traveler', 'Foodie', 'Luxury Seeker', 'Shopper'], [], [], [], [], ['Adventure Seeker', 'Backpacker', 'Culture Explorer', 'Family Traveler', 'Foodie', 'Shopper', 'Solo Traveler'], [], [], [], [], [], [], ['Foodie'], ['Foodie'], [], [], [], ['Adventure Seeker', 'Backpacker', 'Culture Explorer', 'Digital Nomad', 'Family Traveler', 'Foodie', 'Relaxation Seeker', 'Shopper', 'Solo Traveler'], ['Backpacker', 'Digital Nomad', 'Family Traveler', 'Luxury Seeker', 'Relaxation Seeker'], [], [], [], [], ['Adventure Seeker', 'Backpacker'], [], [], [], [], [], [], [], [], [], ['Backpacker'], [], [], [], ['Adventure Seeker', 'Family Traveler', 'Foodie', 'Luxury Seeker', 'Relaxation Seeker'], ['Luxury Seeker'], ['Luxury Seeker'], ['Luxury Seeker'], [], ['Luxury Seeker'], [], ['Luxury Seeker'], ['Luxury Seeker', 'Relaxation Seeker'], [], ['Luxury Seeker', 'Relaxation Seeker'], [], ['Luxury Seeker'], ['Luxury Seeker'], [], [], [], ['Luxury Seeker'], ['Adventure Seeker', 'Backpacker', 'Culture Explorer', 'Family Traveler', 'Foodie', 'Luxury Seeker', 'Relaxation Seeker', 'Shopper', 'Solo Traveler'], [], [], [], ['Adventure Seeker'], [], [], [], [], [], [], [], ['Relaxation Seeker'], ['Adventure Seeker'], [], [], [], [], [], [], ['Relaxation Seeker'], [], [], [], ['Digital Nomad'], [], [], [], ['Digital Nomad', 'Solo Traveler'], [], [], [], [], [], [], [], ['Digital Nomad'], [], [], [], [], [], ['Family Traveler', 'Solo Traveler'], ['Family Traveler'], [], ['Family Traveler'], [], [], [], [], [], [], [], [], [], [], [], [], [], [], [], [], ['Relaxation Seeker'], ['Luxury Seeker', 'Relaxation Seeker'], [], [], [], [], [], ['Adventure Seeker'], [], ['Adventure Seeker', 'Backpacker', 'Culture Explorer', 'Digital Nomad', 'Family Traveler', 'Foodie', 'Luxury Seeker', 'Relaxation Seeker', 'Shopper', 'Solo Traveler'], ['Luxury Seeker'], [], ['Relaxation Seeker'], ['Luxury Seeker'], [], ['Luxury Seeker'], [], [], ['Luxury Seeker', 'Relaxation Seeker', 'Solo Traveler'], [], [], ['Backpacker'], ['Solo Traveler'], [], [], [], [], [], [], ['Solo Traveler'], [], [], [], [], ['Adventure Seeker', 'Solo Traveler'], [], [], [], [], []]\n",
      "\n",
      "Persona labels distribution in dataset: (6572, 2)\n",
      "0 labels: 4780 rows\n",
      "1 labels: 835 rows\n",
      "2 labels: 262 rows\n",
      "3 labels: 146 rows\n",
      "4 labels: 119 rows\n",
      "5 labels: 70 rows\n",
      "6 labels: 78 rows\n",
      "7 labels: 73 rows\n",
      "8 labels: 70 rows\n",
      "9 labels: 80 rows\n",
      "10 labels: 59 rows\n",
      "Cosine-based data: 1362 rows\n",
      "Rule-based fallback: 5210 rows\n",
      "\n",
      "Cosine-based persona labels distribution: (1362, 3)\n",
      "1 labels: 835 rows\n",
      "2 labels: 262 rows\n",
      "3 labels: 146 rows\n",
      "4 labels: 119 rows\n"
     ]
    }
   ],
   "source": [
    "from sklearn.metrics.pairwise import cosine_similarity\n",
    "\n",
    "similarity = cosine_similarity(unlabeled_embeddings, centroids_array)\n",
    "\n",
    "threshold = 0.6  # Tune this\n",
    "multi_labels = []\n",
    "for row in similarity:\n",
    "    indices = [i for i, score in enumerate(row) if score >= threshold]\n",
    "    labels = [persona_labels[i] for i in indices]\n",
    "    multi_labels.append(labels)\n",
    "\n",
    "print(multi_labels)\n",
    "\n",
    "df_labeled = pd.DataFrame({\n",
    "    'user_query': unlabeled_queries,\n",
    "    'persona': [';'.join(labels) for labels in multi_labels]\n",
    "})\n",
    "\n",
    "def persona_count(x):\n",
    "    return len([p.strip() for p in x.split(';') if p.strip()])\n",
    "\n",
    "def person_distribution(df_labeled):\n",
    "    # Count label distribution\n",
    "    label_distribution = df_labeled['label_count'].value_counts().sort_index()\n",
    "    for count, num_rows in label_distribution.items():\n",
    "        print(f\"{count} labels: {num_rows} rows\")\n",
    "\n",
    "print(\"\\nPersona labels distribution in dataset:\", df_labeled.shape)\n",
    "df_labeled['label_count'] = df_labeled['persona'].apply(persona_count)\n",
    "person_distribution(df_labeled)\n",
    "\n",
    "# Step 4: Filter into two groups\n",
    "min_label, max_label = 1, 4\n",
    "df_labeled_cosine_sim = df_labeled[(df_labeled['label_count'] >= min_label) & (df_labeled['label_count'] <= max_label)].copy()\n",
    "df_labeled_rule_based = df_labeled[(df_labeled['label_count'] == 0) | (df_labeled['label_count'] > max_label)].copy()\n",
    "\n",
    "print(f\"Cosine-based data: {len(df_labeled_cosine_sim)} rows\")\n",
    "print(f\"Rule-based fallback: {len(df_labeled_rule_based)} rows\")\n",
    "\n",
    "print(\"\\nCosine-based persona labels distribution:\", df_labeled_cosine_sim.shape)\n",
    "df_labeled_cosine_sim['label_count'] = df_labeled_cosine_sim['persona'].apply(persona_count)\n",
    "person_distribution(df_labeled_cosine_sim)\n",
    "\n",
    "df_labeled_cosine_sim = df_labeled_cosine_sim.drop(columns=[\"label_count\"])\n",
    "df_labeled_cosine_sim.to_csv(\"./persona_data/labeled_persona_cosine_sim.csv\", index=False)\n"
   ]
  },
  {
   "cell_type": "markdown",
   "id": "16d69f49",
   "metadata": {},
   "source": [
    "## Rule-Based multi-Labeling by person keywords matching\n"
   ]
  },
  {
   "cell_type": "code",
   "execution_count": 63,
   "id": "7463e1c6",
   "metadata": {},
   "outputs": [
    {
     "name": "stderr",
     "output_type": "stream",
     "text": [
      "[nltk_data] Downloading package punkt to /Users/dracbook/nltk_data...\n",
      "[nltk_data]   Package punkt is already up-to-date!\n",
      "[nltk_data] Downloading package wordnet to\n",
      "[nltk_data]     /Users/dracbook/nltk_data...\n",
      "[nltk_data]   Package wordnet is already up-to-date!\n"
     ]
    },
    {
     "name": "stdout",
     "output_type": "stream",
     "text": [
      "explor\n",
      "Normalized persona keywords {'Adventure Seeker': {'outdoor', 'park', 'trail', 'climb', 'adrenalin', 'bunge', 'natur', 'wild', 'kayak', 'adventur', 'hike', 'cave', 'ziplin', 'extrem', 'trek', 'explor'}, 'Backpacker': {'backpack', 'solo', 'minim', 'hostel', 'budget', 'lodg', 'guesthous', 'shoe', 'wander', 'string', 'trip', 'on', 'roam', 'foot', 'stay', 'cheap', 'dorm', 'explor'}, 'Culture Explorer': {'tradit', 'landmark', 'exhibit', 'architectur', 'ancient', 'heritag', 'cultur', 'town', 'old', 'galleri', 'histor', 'ritual', 'templ', 'museum'}, 'Digital Nomad': {'work', 'hotspot', 'digit', 'remot', 'meet', 'onlin', 'workspac', 'with', 'connect', 'zoom', 'cafe', 'wifi', 'stay', 'nomad', 'laptop', 'vpn', 'cowork'}, 'Family Traveler': {'park', 'activ', 'friendli', 'child', 'parent', 'aquarium', 'toddler', 'babi', 'stroller', 'famili', 'theme', 'for', 'kid', 'zoo'}, 'Foodie': {'michelin', 'cuisin', 'must', 'dine', 'buffet', 'restaur', 'delicaci', 'local', 'flavor', 'hawker', 'tast', 'dish', 'tri', 'food', 'makan', 'eat'}, 'Luxury Seeker': {'end', 'upscal', 'boutiqu', 'class', 'exclus', 'star', 'chauffeur', 'fine', 'high', 'luxuri', 'hotel', 'five', 'spa', 'resort', 'premium', 'dine', 'privat', 'opul', 'vip'}, 'Relaxation Seeker': {'beach', 'retreat', 'slow', 'medit', 'leisur', 'spa', 'relax', 'quiet', 'pace', 'recharg', 'unwind', 'massag', 'peac', 'chill', 'seren'}, 'Shopper': {'window', 'fashion', 'luxuri', 'bugi', 'brand', 'boutiqu', 'good', 'mall', 'orchard', 'buy', 'shop', 'souvenir', 'retail', 'sale'}, 'Solo Traveler': {'solo', 'alon', 'i', 'time', 'independ', 'by', 'trip', 'person', 'on', 'my', 'own', 'unaccompani', 'individu', 'myself', 'journey', 'travel', 'explor'}}\n",
      "\n",
      "Rule-based persona labels distribution: (4382, 3)\n",
      "1 labels: 968 rows\n",
      "2 labels: 1597 rows\n",
      "3 labels: 1176 rows\n",
      "4 labels: 641 rows\n",
      "\n",
      "Rule-based persona data set: only keep data with personas in range [1,4]\n"
     ]
    }
   ],
   "source": [
    "import pandas as pd\n",
    "import spacy\n",
    "import nltk\n",
    "from nltk.stem import PorterStemmer\n",
    "\n",
    "nltk.download('punkt')      # for tokenization\n",
    "nltk.download('wordnet')    # for lemmatization (optional)\n",
    "stemmer = PorterStemmer()\n",
    "print(stemmer.stem(\"exploring\"))  # Test a word\n",
    "\n",
    "# Load spaCy model\n",
    "nlp = spacy.load(\"en_core_web_sm\")\n",
    "\n",
    "# Normalize a sentence: lemmatize + stem + lowercase\n",
    "def normalize(text):\n",
    "    doc = nlp(text.lower())\n",
    "    lemmatized = [token.lemma_ for token in doc if token.is_alpha]\n",
    "    stemmed = [stemmer.stem(word) for word in lemmatized]\n",
    "    return set(stemmed)\n",
    "\n",
    "persona_keywords = {\n",
    "    \"Adventure Seeker\": [\n",
    "        \"adventure\", \"hike\", \"trek\", \"kayak\", \"climb\", \"zipline\", \"wild\", \"outdoor\", \"explore\", \"trail\",\"extreme\", \"bungee\", \"nature park\", \"adrenaline\", \"caving\"\n",
    "    ],\n",
    "    \"Backpacker\": [\n",
    "        \"backpack\", \"hostel\", \"cheap stay\", \"budget lodging\", \"roam\", \"wander\", \"solo trip\", \"explore on foot\", \"minimal\", \"dorm\", \"guesthouse\", \"shoe-string\"\n",
    "    ],\n",
    "    \"Culture Explorer\": [\n",
    "        \"museum\", \"heritage\", \"gallery\", \"temple\", \"historic\", \"culture\", \"tradition\", \"exhibit\", \"landmark\", \"cultural\", \"architecture\", \"ritual\", \"ancient\", \"old town\"\n",
    "    ],\n",
    "    \"Digital Nomad\": [\n",
    "        \"work remotely\", \"coworking\", \"wifi\", \"laptop\", \"digital nomad\", \"remote work\", \"cafe with wifi\", \"stay connected\", \"online meeting\", \"workspace\", \"vpn\", \"hotspot\", \"zoom\"\n",
    "    ],\n",
    "    \"Family Traveler\": [\n",
    "        \"kids\", \"children\", \"family\", \"baby\", \"parent\", \"toddler\", \"child-friendly\", \"family-friendly\", \"theme park\", \"zoo\", \"aquarium\", \"stroller\", \"activities for children\"\n",
    "    ],\n",
    "    \"Foodie\": [\n",
    "        \"eat\", \"food\", \"cuisine\", \"dish\", \"try food\", \"hawker\", \"delicacy\", \"restaurant\", \"makan\", \"dining\", \"Michelin\", \"local flavor\", \"taste\", \"must eat\", \"buffet\"\n",
    "    ],\n",
    "    \"Luxury Seeker\": [\n",
    "        \"luxury\", \"spa\", \"five-star\", \"resort\", \"fine dining\", \"high-end\", \"upscale\", \"boutique hotel\",\"premium\", \"exclusive\", \"private\", \"chauffeur\", \"high-class\", \"VIP\", \"opulent\"\n",
    "    ],\n",
    "    \"Relaxation Seeker\": [\n",
    "        \"relax\", \"chill\", \"unwind\", \"peaceful\", \"spa\", \"retreat\", \"meditation\", \"quiet\", \"beach\", \"leisure\", \"serene\", \"slow pace\", \"recharge\", \"massage\"\n",
    "    ],\n",
    "    \"Shopper\": [\n",
    "        \"shop\", \"buy\", \"shopping\", \"souvenir\", \"mall\", \"boutique\", \"brands\", \"sale\", \"fashion\", \"luxury goods\", \"buy\", \"orchard\", \"bugis\", \"retail\", \"window shopping\"\n",
    "    ],\n",
    "    \"Solo Traveler\": [\n",
    "        \"solo\", \"alone\", \"by myself\", \"myself\", \"me time\", \"independent\", \"travel alone\", \"explore on my own\", \"unaccompanied\", \"individual trip\", \"personal journey\"\n",
    "    ]\n",
    "}\n",
    "# Preprocess keywords for each persona\n",
    "persona_normalized_keywords = {\n",
    "    persona: set()\n",
    "    for persona in persona_keywords\n",
    "}\n",
    "for persona, keywords in persona_keywords.items():\n",
    "    for phrase in keywords:\n",
    "        persona_normalized_keywords[persona].update(normalize(phrase))\n",
    "\n",
    "print(\"Normalized persona keywords\", persona_normalized_keywords)\n",
    "\n",
    "# Function to normalize and match query\n",
    "def match_personas_by_normalized_keywords(query):\n",
    "    query_stems = normalize(query)\n",
    "    matched = []\n",
    "\n",
    "    for persona, stemmed_keywords in persona_normalized_keywords.items():\n",
    "        if query_stems & stemmed_keywords:  # Any overlap\n",
    "            matched.append(persona)\n",
    "\n",
    "    return \";\".join(matched)\n",
    "\n",
    "# def match_personas_by_lemma_stem(query):\n",
    "#     doc = nlp(query.lower())\n",
    "#     query_tokens = set(stemmer.stem(token.lemma_) for token in doc if token.is_alpha)\n",
    "\n",
    "#     matched = []\n",
    "#     for persona, stemmed_keywords in persona_normalized_keywords.items():\n",
    "#         if query_tokens & stemmed_keywords:\n",
    "#             matched.append(persona)\n",
    "#     return \";\".join(matched)\n",
    "\n",
    "# Apply rule-based persona assignment to all rows in df_labeled_rule_based\n",
    "# df_labeled_rule_based['before_persona'] = df_labeled_rule_based['persona']  # Backup\n",
    "df_labeled_rule_based['persona'] = df_labeled_rule_based['user_query'].apply(match_personas_by_normalized_keywords)\n",
    "df_labeled_rule_based['label_count'] = df_labeled_rule_based['persona'].apply(persona_count)\n",
    "print(\"\\nRule-based persona labels distribution:\", df_labeled_rule_based.shape)\n",
    "person_distribution(df_labeled_rule_based)\n",
    "\n",
    "min_label, max_label = 1, 4\n",
    "# Drop rows where label_count is 0 or more than 4\n",
    "df_labeled_rule_based = df_labeled_rule_based[(df_labeled_rule_based['label_count'] >= min_label) & (df_labeled_rule_based['label_count'] <= max_label)].copy()\n",
    "print(f\"\\nRule-based persona data set: only keep data with personas in range [{min_label},{max_label}]\")\n",
    "\n",
    "# Drop the helper label_count column before saving\n",
    "df_labeled_rule_based.drop(columns=['label_count'], inplace=True)\n",
    "\n",
    "# Save\n",
    "df_labeled_rule_based.to_csv(\"./persona_data/labeled_persona_rule_based.csv\", index=False)\n",
    "\n"
   ]
  },
  {
   "cell_type": "markdown",
   "id": "e639c868",
   "metadata": {},
   "source": [
    "# Train model"
   ]
  },
  {
   "cell_type": "markdown",
   "id": "60c40eaf",
   "metadata": {},
   "source": [
    "## Load train dataset"
   ]
  },
  {
   "cell_type": "code",
   "execution_count": 68,
   "id": "b5ceefd1",
   "metadata": {},
   "outputs": [
    {
     "name": "stdout",
     "output_type": "stream",
     "text": [
      "(6896, 2)\n",
      "                                          user_query  \\\n",
      "0  Planning to explore top shopping malls and loc...   \n",
      "1  Seeking premium experiences like rooftop bars,...   \n",
      "2  Interested in solo-friendly and safe spots to ...   \n",
      "3  Planning to explore top shopping malls and loc...   \n",
      "4  Seeking premium experiences like rooftop bars,...   \n",
      "\n",
      "                               persona  \n",
      "0              Family Traveler;Shopper  \n",
      "1      Backpacker;Foodie;Luxury Seeker  \n",
      "2                        Solo Traveler  \n",
      "3             Adventure Seeker;Shopper  \n",
      "4  Shopper;Solo Traveler;Luxury Seeker  \n",
      "Shape of label matrix: (6896, 10)\n",
      "Sample multi-hot encoded labels:\n",
      " [[0 0 0 0 1 0 0 0 1 0]\n",
      " [0 1 0 0 0 1 1 0 0 0]\n",
      " [0 0 0 0 0 0 0 0 0 1]\n",
      " [1 0 0 0 0 0 0 0 1 0]\n",
      " [0 0 0 0 0 0 1 0 1 1]]\n",
      "Multi-label classes: ['Adventure Seeker' 'Backpacker' 'Culture Explorer' 'Digital Nomad'\n",
      " 'Family Traveler' 'Foodie' 'Luxury Seeker' 'Relaxation Seeker' 'Shopper'\n",
      " 'Solo Traveler']\n"
     ]
    },
    {
     "data": {
      "text/plain": [
       "['./bert_multilabel_persona/label_encoder.bin']"
      ]
     },
     "execution_count": 68,
     "metadata": {},
     "output_type": "execute_result"
    }
   ],
   "source": [
    "# df_1 = pd.read_csv(\"./persona_data/labeled_persona_dataset.csv\")\n",
    "# df_2 = pd.read_csv(\"./persona_data/labeled_persona_cosine_sim.csv\")\n",
    "# df_3 = pd.read_csv(\"./persona_data/labeled_persona_rule_based.csv\")\n",
    "\n",
    "# # Concatenate them into a single DataFrame\n",
    "# df = pd.concat([df_1, df_2, df_3], ignore_index=True)\n",
    "\n",
    "# # Drop duplicates, if any\n",
    "# persona_label_duplicates(df)\n",
    "# # df.drop_duplicates(subset=[\"user_query\", \"persona\"], inplace=True)\n",
    "\n",
    "# # Save to a new CSV for training\n",
    "# df.to_csv(\"./persona_data/final_train_dataset.csv\", index=False)\n",
    "\n",
    "df = pd.read_csv(\"./persona_data/final_train_dataset.csv\")\n",
    "\n",
    "print(df.shape)\n",
    "print(df.head())\n",
    "\n",
    "from sklearn.preprocessing import MultiLabelBinarizer\n",
    "\n",
    "# Split and clean multi-label string into list\n",
    "label_lists = df['persona'].astype(str).apply(lambda x: [label.strip() for label in x.split(';') if label.strip()]).tolist()\n",
    "\n",
    "# Binarize the labels\n",
    "mlb = MultiLabelBinarizer()\n",
    "label_matrix = mlb.fit_transform(label_lists)\n",
    "print(\"Shape of label matrix:\", label_matrix.shape)\n",
    "print(\"Sample multi-hot encoded labels:\\n\", label_matrix[:5])\n",
    "\n",
    "# Save the classes\n",
    "label_classes = mlb.classes_\n",
    "print(\"Multi-label classes:\", label_classes)\n",
    "# Save it after fitting\n",
    "import joblib\n",
    "joblib.dump(mlb, \"./bert_multilabel_persona/label_encoder.bin\")"
   ]
  },
  {
   "cell_type": "markdown",
   "id": "8dfd97a9",
   "metadata": {},
   "source": [
    "## Train"
   ]
  },
  {
   "cell_type": "code",
   "execution_count": 65,
   "id": "af704a32",
   "metadata": {},
   "outputs": [],
   "source": [
    "import torch\n",
    "import torch.nn as nn\n",
    "from torch.utils.data import Dataset\n",
    "\n",
    "class PersonaDataset(Dataset):\n",
    "    def __init__(self, texts, labels, tokenizer, max_len=128):\n",
    "        self.texts = texts\n",
    "        self.labels = labels\n",
    "        self.tokenizer = tokenizer\n",
    "        self.max_len = max_len\n",
    "\n",
    "    def __len__(self):\n",
    "        return len(self.texts)\n",
    "\n",
    "    def __getitem__(self, idx):\n",
    "        encoding = self.tokenizer(\n",
    "            self.texts[idx],\n",
    "            padding=\"max_length\",\n",
    "            truncation=True,\n",
    "            max_length=self.max_len,\n",
    "            return_tensors=\"pt\"\n",
    "        )\n",
    "        item = {key: val.squeeze(0) for key, val in encoding.items()}\n",
    "        item[\"labels\"] = torch.tensor(self.labels[idx], dtype=torch.float)\n",
    "        return item"
   ]
  },
  {
   "cell_type": "code",
   "execution_count": 66,
   "id": "0fe6c4e1",
   "metadata": {},
   "outputs": [
    {
     "name": "stderr",
     "output_type": "stream",
     "text": [
      "Some weights of BertForSequenceClassification were not initialized from the model checkpoint at bert-base-uncased and are newly initialized: ['classifier.bias', 'classifier.weight']\n",
      "You should probably TRAIN this model on a down-stream task to be able to use it for predictions and inference.\n"
     ]
    }
   ],
   "source": [
    "from transformers import BertTokenizerFast\n",
    "from sklearn.model_selection import train_test_split\n",
    "from transformers import BertForSequenceClassification, BertConfig\n",
    "\n",
    "params = {\n",
    "    'max_len': 128,\n",
    "    'test_size': 0.2,\n",
    "    'random_state': 42,\n",
    "    'dropout': 0.3,\n",
    "    'attention_dropout': 0.3,\n",
    "}\n",
    "\n",
    "# Tokenizer\n",
    "tokenizer = BertTokenizerFast.from_pretrained(\"bert-base-uncased\")\n",
    "# Prepare data\n",
    "texts = df[\"user_query\"].tolist()\n",
    "labels = label_matrix  # shape: (n_samples, n_labels)\n",
    "\n",
    "# Train-test split\n",
    "train_texts, val_texts, train_labels, val_labels = train_test_split(texts, labels, test_size=params['test_size'], random_state=params['random_state'])\n",
    "# Dataset\n",
    "train_dataset = PersonaDataset(texts, labels, tokenizer, params['max_len'])\n",
    "val_dataset = PersonaDataset(val_texts, val_labels, tokenizer, params['max_len'])\n",
    "\n",
    "# Config and Model\n",
    "num_labels = labels.shape[1]\n",
    "config = BertConfig.from_pretrained(\n",
    "    \"bert-base-uncased\", \n",
    "    num_labels=num_labels, \n",
    "    problem_type=\"multi_label_classification\", \n",
    "    hidden_dropout_prob=params['dropout'], \n",
    "    attention_probs_dropout_prob=params['attention_dropout'])\n",
    "\n",
    "model = BertForSequenceClassification.from_pretrained(\"bert-base-uncased\", config=config)"
   ]
  },
  {
   "cell_type": "code",
   "execution_count": 67,
   "id": "f7cf50e7",
   "metadata": {},
   "outputs": [
    {
     "name": "stderr",
     "output_type": "stream",
     "text": [
      "/Users/dracbook/devroot/python/cs605_proj_py3_10/.venv/lib/python3.10/site-packages/torch/utils/data/dataloader.py:683: UserWarning: 'pin_memory' argument is set as true but not supported on MPS now, then device pinned memory won't be used.\n",
      "  warnings.warn(warn_msg)\n"
     ]
    },
    {
     "data": {
      "text/html": [
       "\n",
       "    <div>\n",
       "      \n",
       "      <progress value='2155' max='2155' style='width:300px; height:20px; vertical-align: middle;'></progress>\n",
       "      [2155/2155 13:19, Epoch 5/5]\n",
       "    </div>\n",
       "    <table border=\"1\" class=\"dataframe\">\n",
       "  <thead>\n",
       " <tr style=\"text-align: left;\">\n",
       "      <th>Epoch</th>\n",
       "      <th>Training Loss</th>\n",
       "      <th>Validation Loss</th>\n",
       "      <th>F1</th>\n",
       "      <th>Accuracy</th>\n",
       "      <th>Precision</th>\n",
       "      <th>Recall</th>\n",
       "    </tr>\n",
       "  </thead>\n",
       "  <tbody>\n",
       "    <tr>\n",
       "      <td>1</td>\n",
       "      <td>0.441200</td>\n",
       "      <td>0.403408</td>\n",
       "      <td>0.494186</td>\n",
       "      <td>0.150725</td>\n",
       "      <td>0.827715</td>\n",
       "      <td>0.352247</td>\n",
       "    </tr>\n",
       "    <tr>\n",
       "      <td>2</td>\n",
       "      <td>0.336300</td>\n",
       "      <td>0.308651</td>\n",
       "      <td>0.711235</td>\n",
       "      <td>0.309420</td>\n",
       "      <td>0.851868</td>\n",
       "      <td>0.610456</td>\n",
       "    </tr>\n",
       "    <tr>\n",
       "      <td>3</td>\n",
       "      <td>0.283500</td>\n",
       "      <td>0.260074</td>\n",
       "      <td>0.785854</td>\n",
       "      <td>0.452899</td>\n",
       "      <td>0.887952</td>\n",
       "      <td>0.704814</td>\n",
       "    </tr>\n",
       "    <tr>\n",
       "      <td>4</td>\n",
       "      <td>0.255200</td>\n",
       "      <td>0.234090</td>\n",
       "      <td>0.821453</td>\n",
       "      <td>0.514493</td>\n",
       "      <td>0.898222</td>\n",
       "      <td>0.756774</td>\n",
       "    </tr>\n",
       "    <tr>\n",
       "      <td>5</td>\n",
       "      <td>0.250900</td>\n",
       "      <td>0.225719</td>\n",
       "      <td>0.837401</td>\n",
       "      <td>0.558696</td>\n",
       "      <td>0.908616</td>\n",
       "      <td>0.776538</td>\n",
       "    </tr>\n",
       "  </tbody>\n",
       "</table><p>"
      ],
      "text/plain": [
       "<IPython.core.display.HTML object>"
      ]
     },
     "metadata": {},
     "output_type": "display_data"
    },
    {
     "name": "stderr",
     "output_type": "stream",
     "text": [
      "/Users/dracbook/devroot/python/cs605_proj_py3_10/.venv/lib/python3.10/site-packages/torch/utils/data/dataloader.py:683: UserWarning: 'pin_memory' argument is set as true but not supported on MPS now, then device pinned memory won't be used.\n",
      "  warnings.warn(warn_msg)\n",
      "/Users/dracbook/devroot/python/cs605_proj_py3_10/.venv/lib/python3.10/site-packages/torch/utils/data/dataloader.py:683: UserWarning: 'pin_memory' argument is set as true but not supported on MPS now, then device pinned memory won't be used.\n",
      "  warnings.warn(warn_msg)\n",
      "/Users/dracbook/devroot/python/cs605_proj_py3_10/.venv/lib/python3.10/site-packages/torch/utils/data/dataloader.py:683: UserWarning: 'pin_memory' argument is set as true but not supported on MPS now, then device pinned memory won't be used.\n",
      "  warnings.warn(warn_msg)\n",
      "/Users/dracbook/devroot/python/cs605_proj_py3_10/.venv/lib/python3.10/site-packages/torch/utils/data/dataloader.py:683: UserWarning: 'pin_memory' argument is set as true but not supported on MPS now, then device pinned memory won't be used.\n",
      "  warnings.warn(warn_msg)\n"
     ]
    },
    {
     "data": {
      "text/plain": [
       "TrainOutput(global_step=2155, training_loss=0.3369696331134805, metrics={'train_runtime': 800.1044, 'train_samples_per_second': 43.094, 'train_steps_per_second': 2.693, 'total_flos': 2268180206100480.0, 'train_loss': 0.3369696331134805, 'epoch': 5.0})"
      ]
     },
     "execution_count": 67,
     "metadata": {},
     "output_type": "execute_result"
    }
   ],
   "source": [
    "from transformers import TrainingArguments, Trainer\n",
    "import numpy as np\n",
    "from sklearn.metrics import f1_score, accuracy_score, precision_score, recall_score\n",
    "\n",
    "training_args = TrainingArguments(\n",
    "    output_dir=\"./bert_multilabel_persona\",\n",
    "    per_device_train_batch_size=16,\n",
    "    per_device_eval_batch_size=16,\n",
    "    num_train_epochs=5,\n",
    "    learning_rate=1e-5,\n",
    "    weight_decay=1e-5,        \n",
    "    eval_strategy=\"epoch\",\n",
    "    save_strategy=\"epoch\",\n",
    "    logging_dir=\"./logs\",\n",
    "    logging_steps=50,\n",
    "    save_total_limit=1,\n",
    "    load_best_model_at_end=True,\n",
    "    metric_for_best_model=\"f1\"\n",
    ")\n",
    "\n",
    "def compute_metrics(pred):\n",
    "    logits, labels = pred\n",
    "    preds = (logits > 0).astype(int)  # Multi-label threshold\n",
    "    return {\n",
    "        'f1': f1_score(labels, preds, average='micro'),\n",
    "        'accuracy': accuracy_score(labels, preds),\n",
    "        'precision': precision_score(labels, preds, average='micro'),\n",
    "        'recall': recall_score(labels, preds, average='micro')\n",
    "    }\n",
    "\n",
    "trainer = Trainer(\n",
    "    model=model,\n",
    "    args=training_args,\n",
    "    train_dataset=train_dataset,\n",
    "    eval_dataset=val_dataset,\n",
    "    compute_metrics=compute_metrics,\n",
    ")\n",
    "trainer.train()"
   ]
  },
  {
   "cell_type": "markdown",
   "id": "01f0595d",
   "metadata": {},
   "source": [
    "# Inference"
   ]
  },
  {
   "cell_type": "code",
   "execution_count": null,
   "id": "e895e805",
   "metadata": {},
   "outputs": [
    {
     "name": "stdout",
     "output_type": "stream",
     "text": [
      "['Adventure Seeker' 'Family Traveler']\n",
      "['Adventure Seeker' 'Family Traveler']\n",
      "[]\n",
      "['Adventure Seeker' 'Foodie']\n",
      "['Foodie']\n",
      "['Adventure Seeker' 'Relaxation Seeker']\n",
      "['Solo Traveler']\n",
      "['Family Traveler']\n"
     ]
    }
   ],
   "source": [
    "from transformers import AutoTokenizer, AutoModelForSequenceClassification\n",
    "import torch\n",
    "import joblib\n",
    "\n",
    "# Load the tokenizer exactly the same as training\n",
    "tokenizer = BertTokenizerFast.from_pretrained(\"bert-base-uncased\")\n",
    "model = AutoModelForSequenceClassification.from_pretrained(\"./bert_multilabel_persona/checkpoint-2155\")\n",
    "label_encoder = joblib.load(\"./bert_multilabel_persona/label_encoder.bin\")  # This is a MultiLabelBinarizer\n",
    "\n",
    "model.eval()\n",
    "\n",
    "def predict_personas(text, threshold=0.5):\n",
    "    inputs = tokenizer(text, return_tensors=\"pt\", truncation=True, padding=True)\n",
    "    with torch.no_grad():\n",
    "        outputs = model(**inputs)\n",
    "    logits = outputs.logits\n",
    "    probs = torch.sigmoid(logits).squeeze().numpy()  # Convert logits to probabilities\n",
    "\n",
    "    # Predict all classes above the threshold\n",
    "    predicted_labels = np.where(probs >= threshold)[0]\n",
    "    return label_encoder.classes_[predicted_labels]\n",
    "\n",
    "\n",
    "# Test\n",
    "user_queries = [\n",
    "    \"We're 6 young adults (25-30) staying in Singapore for 6 days. We love outdoor activities, hiking trails, cycling, and unique experiences like night safaris. Include one rest day and show us images of adventure activities available.\",\n",
    "    \"A family with a child in a wheelchair, maximize sightseeing in 3 days in Singapore\",\n",
    "    \"We're tech conference attendees, maximize sightseeing in 3 days in Singapore with MRT travel\",\n",
    "    \"We're foodies, find adventurous activities in Singapore (in mid-August)\",\n",
    "    \"We want a wellness retreat, attend an art festival in Singapore for 3 days only daytime activities\",\n",
    "    \"I'm a solo traveler, experience something unique in Singapore (from July 1 to July 5) avoiding crowded places\",\n",
    "    \"A couple planning a honeymoon, experience something unique in Singapore (sometime in March) for a weekend including vegan options\",\n",
    "]\n",
    "for query in user_queries:\n",
    "    personas = predict_personas(query)\n",
    "    print(personas)"
   ]
  }
 ],
 "metadata": {
  "kernelspec": {
   "display_name": ".venv",
   "language": "python",
   "name": "python3"
  },
  "language_info": {
   "codemirror_mode": {
    "name": "ipython",
    "version": 3
   },
   "file_extension": ".py",
   "mimetype": "text/x-python",
   "name": "python",
   "nbconvert_exporter": "python",
   "pygments_lexer": "ipython3",
   "version": "3.10.18"
  }
 },
 "nbformat": 4,
 "nbformat_minor": 5
}
